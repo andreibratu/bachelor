{
 "cells": [
  {
   "cell_type": "code",
   "execution_count": 1,
   "metadata": {},
   "outputs": [],
   "source": [
    "from __future__ import print_function\n",
    "from typing import Tuple, List\n",
    "\n",
    "import numpy as np\n",
    "import matplotlib.pyplot as plt\n",
    "\n",
    "from ipywidgets import interact, interactive, fixed, interact_manual\n",
    "import ipywidgets as widgets\n",
    "\n",
    "%matplotlib inline"
   ]
  },
  {
   "cell_type": "code",
   "execution_count": 2,
   "metadata": {},
   "outputs": [],
   "source": [
    "class RandomService:\n",
    "    \n",
    "    def __init__(self, option1: str, option2: str):\n",
    "        self._options = [option1, option2]\n",
    "        \n",
    "    def draw_numbers(self, n: int, arg1: float=75.5, arg2 :float=0.33) -> List[np.array]:\n",
    "        draws = []\n",
    "        for opt in self._options:\n",
    "            if opt in ['binomial']:\n",
    "                draws.append(getattr(np.random, opt)(arg1, arg2, size=(1,n)))\n",
    "            else:\n",
    "                draws.append(getattr(np.random, opt)(size=(1,n)))\n",
    "        return draws"
   ]
  },
  {
   "cell_type": "code",
   "execution_count": 3,
   "metadata": {
    "scrolled": true
   },
   "outputs": [
    {
     "data": {
      "application/vnd.jupyter.widget-view+json": {
       "model_id": "bd04b6047a674aafb9c06555bad5b3b3",
       "version_major": 2,
       "version_minor": 0
      },
      "text/plain": [
       "interactive(children=(IntSlider(value=10000, description='n', max=100000, min=5), IntSlider(value=15, descript…"
      ]
     },
     "metadata": {},
     "output_type": "display_data"
    }
   ],
   "source": [
    "flatten = lambda l: [item for sublist in l for item in sublist]\n",
    "options = ['exponential', 'uniform', 'binomial', 'laplace']\n",
    "\n",
    "@interact(n=widgets.IntSlider(min=5, max=100000, value=10000),\n",
    "          bins=widgets.IntSlider(min=5, max=30, value=15),\n",
    "          option1=widgets.Combobox(options=options, ensure_option=True), \n",
    "          option2=widgets.Combobox(options=options, ensure_option=True)\n",
    "         )\n",
    "def plot_distributions(n: int, bins: int, option1: str, option2: str) -> RandomService:\n",
    "    service = RandomService(option1, option2)\n",
    "    X = [[i for i in range(0, n)]] * 4\n",
    "    Y = service.draw_numbers(n)\n",
    "    Y = flatten(Y + Y)\n",
    "    titles = [option1, option2] * 2\n",
    "    \n",
    "    fig, axs = plt.subplots(2, 2, figsize=(12,6))\n",
    "    \n",
    "    for i in range(0, 2):\n",
    "        axs[0][i].set_title(titles[i])\n",
    "        axs[0][i].scatter(X[i], Y[i])\n",
    "    \n",
    "    for i in range(0, 2):\n",
    "        counts, bins = np.histogram(Y[i], bins=30)\n",
    "        axs[1][i].hist(bins[:-1], bins, weights=counts)"
   ]
  },
  {
   "cell_type": "code",
   "execution_count": null,
   "metadata": {},
   "outputs": [],
   "source": []
  }
 ],
 "metadata": {
  "kernelspec": {
   "display_name": "Python 3",
   "language": "python",
   "name": "python3"
  },
  "language_info": {
   "codemirror_mode": {
    "name": "ipython",
    "version": 3
   },
   "file_extension": ".py",
   "mimetype": "text/x-python",
   "name": "python",
   "nbconvert_exporter": "python",
   "pygments_lexer": "ipython3",
   "version": "3.7.6"
  }
 },
 "nbformat": 4,
 "nbformat_minor": 4
}

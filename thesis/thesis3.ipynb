{
 "cells": [
  {
   "cell_type": "markdown",
   "metadata": {
    "id": "65IwPG2_TeyE"
   },
   "source": [
    "# Prerequisites"
   ]
  },
  {
   "cell_type": "code",
   "execution_count": 1,
   "metadata": {
    "id": "BYcQkywIXKe_"
   },
   "outputs": [],
   "source": [
    "# # install finrl library\n",
    "# !pip install git+https://github.com/AI4Finance-LLC/FinRL-Library.git -q\n",
    "# !pip install pyclustering -q"
   ]
  },
  {
   "cell_type": "code",
   "execution_count": 2,
   "metadata": {
    "id": "YkVbGR2xA3DN"
   },
   "outputs": [
    {
     "name": "stdout",
     "output_type": "stream",
     "text": [
      "Collecting tqdm\n",
      "  Cloning https://github.com/tqdm/tqdm.git (to revision devel) to c:\\users\\bratu\\appdata\\local\\temp\\pip-install-p7ym6gz7\\tqdm_5ebccd1d63f4443fb4e0c2d5588c3c34\n",
      "  Installing build dependencies: started\n",
      "  Installing build dependencies: finished with status 'done'\n",
      "  Getting requirements to build wheel: started\n",
      "  Getting requirements to build wheel: finished with status 'done'\n",
      "    Preparing wheel metadata: started\n",
      "    Preparing wheel metadata: finished with status 'done'\n",
      "Requirement already satisfied: colorama in c:\\users\\bratu\\desktop\\thesis\\lib\\site-packages (from tqdm) (0.4.4)\n",
      "Building wheels for collected packages: tqdm\n",
      "  Building wheel for tqdm (PEP 517): started\n",
      "  Building wheel for tqdm (PEP 517): finished with status 'done'\n",
      "  Created wheel for tqdm: filename=tqdm-4.61.2.dev9+g4735e81-py2.py3-none-any.whl size=76254 sha256=6695f972f040a904608792d9a5fec2690ad574d225ec00b192e55ec200059dcf\n",
      "  Stored in directory: C:\\Users\\bratu\\AppData\\Local\\Temp\\pip-ephem-wheel-cache-ne_9cqfu\\wheels\\f1\\58\\54\\d72aae0c3247efd40fa1ab18ef7a77c9be7c69953ed9ec71ff\n",
      "Successfully built tqdm\n",
      "Installing collected packages: tqdm\n",
      "  Attempting uninstall: tqdm\n",
      "    Found existing installation: tqdm 4.61.2.dev6+gd7ed886\n",
      "    Uninstalling tqdm-4.61.2.dev6+gd7ed886:\n",
      "      Successfully uninstalled tqdm-4.61.2.dev6+gd7ed886\n",
      "Successfully installed tqdm-4.61.2.dev9+g4735e81\n"
     ]
    },
    {
     "name": "stderr",
     "output_type": "stream",
     "text": [
      "  Running command git clone -q https://github.com/tqdm/tqdm.git 'C:\\Users\\bratu\\AppData\\Local\\Temp\\pip-install-p7ym6gz7\\tqdm_5ebccd1d63f4443fb4e0c2d5588c3c34'\n",
      "  Running command git checkout -b devel --track origin/devel\n",
      "  Branch 'devel' set up to track remote branch 'devel' from 'origin'.\n",
      "  Switched to a new branch 'devel'\n"
     ]
    }
   ],
   "source": [
    "# !pip install \"git+https://github.com/tqdm/tqdm.git@devel#egg=tqdm\"\n",
    "# from tqdm import tqdm -q"
   ]
  },
  {
   "cell_type": "code",
   "execution_count": 3,
   "metadata": {},
   "outputs": [
    {
     "name": "stdout",
     "output_type": "stream",
     "text": [
      "Requirement already satisfied: tensorflow in c:\\users\\bratu\\desktop\\thesis\\lib\\site-packages (2.5.0)\n",
      "Requirement already satisfied: protobuf>=3.9.2 in c:\\users\\bratu\\desktop\\thesis\\lib\\site-packages (from tensorflow) (3.17.3)\n",
      "Requirement already satisfied: typing-extensions~=3.7.4 in c:\\users\\bratu\\desktop\\thesis\\lib\\site-packages (from tensorflow) (3.7.4.3)\n",
      "Requirement already satisfied: wheel~=0.35 in c:\\users\\bratu\\desktop\\thesis\\lib\\site-packages (from tensorflow) (0.36.2)\n",
      "Requirement already satisfied: absl-py~=0.10 in c:\\users\\bratu\\desktop\\thesis\\lib\\site-packages (from tensorflow) (0.13.0)\n",
      "Requirement already satisfied: flatbuffers~=1.12.0 in c:\\users\\bratu\\desktop\\thesis\\lib\\site-packages (from tensorflow) (1.12)\n",
      "Requirement already satisfied: numpy~=1.19.2 in c:\\users\\bratu\\desktop\\thesis\\lib\\site-packages (from tensorflow) (1.19.5)\n",
      "Requirement already satisfied: termcolor~=1.1.0 in c:\\users\\bratu\\desktop\\thesis\\lib\\site-packages (from tensorflow) (1.1.0)\n",
      "Requirement already satisfied: keras-nightly~=2.5.0.dev in c:\\users\\bratu\\desktop\\thesis\\lib\\site-packages (from tensorflow) (2.5.0.dev2021032900)\n",
      "Requirement already satisfied: six~=1.15.0 in c:\\users\\bratu\\desktop\\thesis\\lib\\site-packages (from tensorflow) (1.15.0)\n",
      "Requirement already satisfied: astunparse~=1.6.3 in c:\\users\\bratu\\desktop\\thesis\\lib\\site-packages (from tensorflow) (1.6.3)\n",
      "Requirement already satisfied: h5py~=3.1.0 in c:\\users\\bratu\\desktop\\thesis\\lib\\site-packages (from tensorflow) (3.1.0)\n",
      "Requirement already satisfied: wrapt~=1.12.1 in c:\\users\\bratu\\desktop\\thesis\\lib\\site-packages (from tensorflow) (1.12.1)\n",
      "Requirement already satisfied: grpcio~=1.34.0 in c:\\users\\bratu\\desktop\\thesis\\lib\\site-packages (from tensorflow) (1.34.1)\n",
      "Requirement already satisfied: opt-einsum~=3.3.0 in c:\\users\\bratu\\desktop\\thesis\\lib\\site-packages (from tensorflow) (3.3.0)\n",
      "Requirement already satisfied: tensorboard~=2.5 in c:\\users\\bratu\\desktop\\thesis\\lib\\site-packages (from tensorflow) (2.5.0)\n",
      "Requirement already satisfied: keras-preprocessing~=1.1.2 in c:\\users\\bratu\\desktop\\thesis\\lib\\site-packages (from tensorflow) (1.1.2)\n",
      "Requirement already satisfied: gast==0.4.0 in c:\\users\\bratu\\desktop\\thesis\\lib\\site-packages (from tensorflow) (0.4.0)\n",
      "Requirement already satisfied: google-pasta~=0.2 in c:\\users\\bratu\\desktop\\thesis\\lib\\site-packages (from tensorflow) (0.2.0)\n",
      "Requirement already satisfied: tensorflow-estimator<2.6.0,>=2.5.0rc0 in c:\\users\\bratu\\desktop\\thesis\\lib\\site-packages (from tensorflow) (2.5.0)\n",
      "Requirement already satisfied: tensorboard-data-server<0.7.0,>=0.6.0 in c:\\users\\bratu\\desktop\\thesis\\lib\\site-packages (from tensorboard~=2.5->tensorflow) (0.6.1)\n",
      "Requirement already satisfied: google-auth-oauthlib<0.5,>=0.4.1 in c:\\users\\bratu\\desktop\\thesis\\lib\\site-packages (from tensorboard~=2.5->tensorflow) (0.4.4)\n",
      "Requirement already satisfied: markdown>=2.6.8 in c:\\users\\bratu\\desktop\\thesis\\lib\\site-packages (from tensorboard~=2.5->tensorflow) (3.3.4)\n",
      "Requirement already satisfied: werkzeug>=0.11.15 in c:\\users\\bratu\\desktop\\thesis\\lib\\site-packages (from tensorboard~=2.5->tensorflow) (2.0.1)\n",
      "Requirement already satisfied: setuptools>=41.0.0 in c:\\users\\bratu\\desktop\\thesis\\lib\\site-packages (from tensorboard~=2.5->tensorflow) (57.0.0)\n",
      "Requirement already satisfied: google-auth<2,>=1.6.3 in c:\\users\\bratu\\desktop\\thesis\\lib\\site-packages (from tensorboard~=2.5->tensorflow) (1.31.0)\n",
      "Requirement already satisfied: requests<3,>=2.21.0 in c:\\users\\bratu\\desktop\\thesis\\lib\\site-packages (from tensorboard~=2.5->tensorflow) (2.25.1)\n",
      "Requirement already satisfied: tensorboard-plugin-wit>=1.6.0 in c:\\users\\bratu\\desktop\\thesis\\lib\\site-packages (from tensorboard~=2.5->tensorflow) (1.8.0)\n",
      "Requirement already satisfied: pyasn1-modules>=0.2.1 in c:\\users\\bratu\\desktop\\thesis\\lib\\site-packages (from google-auth<2,>=1.6.3->tensorboard~=2.5->tensorflow) (0.2.8)\n",
      "Requirement already satisfied: cachetools<5.0,>=2.0.0 in c:\\users\\bratu\\desktop\\thesis\\lib\\site-packages (from google-auth<2,>=1.6.3->tensorboard~=2.5->tensorflow) (4.2.2)\n",
      "Requirement already satisfied: rsa<5,>=3.1.4 in c:\\users\\bratu\\desktop\\thesis\\lib\\site-packages (from google-auth<2,>=1.6.3->tensorboard~=2.5->tensorflow) (4.7.2)\n",
      "Requirement already satisfied: requests-oauthlib>=0.7.0 in c:\\users\\bratu\\desktop\\thesis\\lib\\site-packages (from google-auth-oauthlib<0.5,>=0.4.1->tensorboard~=2.5->tensorflow) (1.3.0)\n",
      "Requirement already satisfied: pyasn1<0.5.0,>=0.4.6 in c:\\users\\bratu\\desktop\\thesis\\lib\\site-packages (from pyasn1-modules>=0.2.1->google-auth<2,>=1.6.3->tensorboard~=2.5->tensorflow) (0.4.8)\n",
      "Requirement already satisfied: chardet<5,>=3.0.2 in c:\\users\\bratu\\desktop\\thesis\\lib\\site-packages (from requests<3,>=2.21.0->tensorboard~=2.5->tensorflow) (4.0.0)\n",
      "Requirement already satisfied: urllib3<1.27,>=1.21.1 in c:\\users\\bratu\\desktop\\thesis\\lib\\site-packages (from requests<3,>=2.21.0->tensorboard~=2.5->tensorflow) (1.26.5)\n",
      "Requirement already satisfied: certifi>=2017.4.17 in c:\\users\\bratu\\desktop\\thesis\\lib\\site-packages (from requests<3,>=2.21.0->tensorboard~=2.5->tensorflow) (2021.5.30)\n",
      "Requirement already satisfied: idna<3,>=2.5 in c:\\users\\bratu\\desktop\\thesis\\lib\\site-packages (from requests<3,>=2.21.0->tensorboard~=2.5->tensorflow) (2.10)\n",
      "Requirement already satisfied: oauthlib>=3.0.0 in c:\\users\\bratu\\desktop\\thesis\\lib\\site-packages (from requests-oauthlib>=0.7.0->google-auth-oauthlib<0.5,>=0.4.1->tensorboard~=2.5->tensorflow) (3.1.1)\n"
     ]
    }
   ],
   "source": [
    "!pip install tensorflow -q"
   ]
  },
  {
   "cell_type": "code",
   "execution_count": 4,
   "metadata": {
    "id": "dxvGm7G6lhfo"
   },
   "outputs": [
    {
     "name": "stderr",
     "output_type": "stream",
     "text": [
      "fatal: destination path 'keras-tuner' already exists and is not an empty directory.\n"
     ]
    },
    {
     "name": "stdout",
     "output_type": "stream",
     "text": [
      "Requirement already satisfied: keras-tuner in c:\\users\\bratu\\desktop\\thesis\\lib\\site-packages (1.0.2)\n",
      "Requirement already satisfied: packaging in c:\\users\\bratu\\desktop\\thesis\\lib\\site-packages (from keras-tuner) (20.9)\n",
      "Requirement already satisfied: future in c:\\users\\bratu\\desktop\\thesis\\lib\\site-packages (from keras-tuner) (0.18.2)\n",
      "Requirement already satisfied: numpy in c:\\users\\bratu\\desktop\\thesis\\lib\\site-packages (from keras-tuner) (1.19.5)\n",
      "Requirement already satisfied: tabulate in c:\\users\\bratu\\desktop\\thesis\\lib\\site-packages (from keras-tuner) (0.8.9)\n",
      "Requirement already satisfied: terminaltables in c:\\users\\bratu\\desktop\\thesis\\lib\\site-packages (from keras-tuner) (3.1.0)\n",
      "Requirement already satisfied: colorama in c:\\users\\bratu\\desktop\\thesis\\lib\\site-packages (from keras-tuner) (0.4.4)\n",
      "Requirement already satisfied: tqdm in c:\\users\\bratu\\desktop\\thesis\\lib\\site-packages (from keras-tuner) (4.61.2.dev9+g4735e81)\n",
      "Requirement already satisfied: requests in c:\\users\\bratu\\desktop\\thesis\\lib\\site-packages (from keras-tuner) (2.25.1)\n",
      "Requirement already satisfied: scipy in c:\\users\\bratu\\desktop\\thesis\\lib\\site-packages (from keras-tuner) (1.6.3)\n",
      "Requirement already satisfied: scikit-learn in c:\\users\\bratu\\desktop\\thesis\\lib\\site-packages (from keras-tuner) (0.24.2)\n",
      "Requirement already satisfied: pyparsing>=2.0.2 in c:\\users\\bratu\\desktop\\thesis\\lib\\site-packages (from packaging->keras-tuner) (2.4.7)\n",
      "Requirement already satisfied: certifi>=2017.4.17 in c:\\users\\bratu\\desktop\\thesis\\lib\\site-packages (from requests->keras-tuner) (2021.5.30)\n",
      "Requirement already satisfied: idna<3,>=2.5 in c:\\users\\bratu\\desktop\\thesis\\lib\\site-packages (from requests->keras-tuner) (2.10)\n",
      "Requirement already satisfied: urllib3<1.27,>=1.21.1 in c:\\users\\bratu\\desktop\\thesis\\lib\\site-packages (from requests->keras-tuner) (1.26.5)\n",
      "Requirement already satisfied: chardet<5,>=3.0.2 in c:\\users\\bratu\\desktop\\thesis\\lib\\site-packages (from requests->keras-tuner) (4.0.0)\n",
      "Requirement already satisfied: threadpoolctl>=2.0.0 in c:\\users\\bratu\\desktop\\thesis\\lib\\site-packages (from scikit-learn->keras-tuner) (2.1.0)\n",
      "Requirement already satisfied: joblib>=0.11 in c:\\users\\bratu\\desktop\\thesis\\lib\\site-packages (from scikit-learn->keras-tuner) (1.0.1)\n"
     ]
    }
   ],
   "source": [
    "!git clone https://github.com/keras-team/keras-tuner -q\n",
    "!pip install keras-tuner -q\n",
    "import kerastuner as kt"
   ]
  },
  {
   "cell_type": "code",
   "execution_count": 5,
   "metadata": {
    "id": "ivHAT94tV_q7"
   },
   "outputs": [],
   "source": [
    "import math\n",
    "import pickle\n",
    "import random\n",
    "import copy\n",
    "import itertools\n",
    "from math import sqrt\n",
    "from typing import List\n",
    "from copy import deepcopy\n",
    "from collections import Counter\n",
    "\n",
    "import numpy as np\n",
    "import pandas as pd\n",
    "from tqdm import tqdm\n",
    "from scipy import stats\n",
    "from collections import namedtuple\n",
    "from datetime import datetime, date, timedelta\n",
    "\n",
    "from itertools import combinations\n",
    "\n",
    "import tensorflow as tf\n",
    "import tensorflow.keras as keras\n",
    "import tensorflow.keras.layers as layers\n",
    "\n",
    "from keras import backend\n",
    "from typing import List\n",
    "from IPython.display import clear_output\n",
    "\n",
    "from sklearn import preprocessing\n",
    "from sklearn.cluster import DBSCAN\n",
    "from sklearn.model_selection import train_test_split\n",
    "from sklearn.metrics import silhouette_score as sh_score\n",
    "from sklearn.decomposition import PCA\n",
    "\n",
    "from pyclustering.cluster.optics import optics\n",
    "import yfinance as yf\n",
    "\n",
    "from finrl.config import config as finrl_config\n",
    "from finrl.preprocessing.data import data_split\n",
    "from finrl.env.env_portfolio import StockPortfolioEnv\n",
    "from finrl.marketdata.yahoodownloader import YahooDownloader\n",
    "from finrl.preprocessing.preprocessors import FeatureEngineer\n",
    "\n",
    "from scipy.spatial.distance import pdist, squareform\n",
    "import datetime"
   ]
  },
  {
   "cell_type": "code",
   "execution_count": 6,
   "metadata": {
    "id": "BU_k9y-VaJIZ"
   },
   "outputs": [],
   "source": [
    "from matplotlib import pyplot as plt\n",
    "%matplotlib inline"
   ]
  },
  {
   "cell_type": "code",
   "execution_count": 7,
   "metadata": {
    "id": "ZDSdhm-LDlk0"
   },
   "outputs": [],
   "source": [
    "import seaborn as sns\n",
    "\n",
    "sns.set(rc={'figure.figsize':(11.7,8.27)})"
   ]
  },
  {
   "cell_type": "code",
   "execution_count": 8,
   "metadata": {
    "id": "8RKVBq93Iwzr"
   },
   "outputs": [
    {
     "name": "stdout",
     "output_type": "stream",
     "text": [
      "Collecting git+http://github.com/fmfn/BayesianOptimization.git\n",
      "  Cloning http://github.com/fmfn/BayesianOptimization.git to c:\\users\\bratu\\appdata\\local\\temp\\pip-req-build-33nwmwhl\n",
      "Requirement already satisfied: numpy>=1.9.0 in c:\\users\\bratu\\desktop\\thesis\\lib\\site-packages (from bayesian-optimization==1.2.0) (1.19.5)\n",
      "Requirement already satisfied: scipy>=0.14.0 in c:\\users\\bratu\\desktop\\thesis\\lib\\site-packages (from bayesian-optimization==1.2.0) (1.6.3)\n",
      "Requirement already satisfied: scikit-learn>=0.18.0 in c:\\users\\bratu\\desktop\\thesis\\lib\\site-packages (from bayesian-optimization==1.2.0) (0.24.2)\n",
      "Requirement already satisfied: threadpoolctl>=2.0.0 in c:\\users\\bratu\\desktop\\thesis\\lib\\site-packages (from scikit-learn>=0.18.0->bayesian-optimization==1.2.0) (2.1.0)\n",
      "Requirement already satisfied: joblib>=0.11 in c:\\users\\bratu\\desktop\\thesis\\lib\\site-packages (from scikit-learn>=0.18.0->bayesian-optimization==1.2.0) (1.0.1)\n"
     ]
    },
    {
     "name": "stderr",
     "output_type": "stream",
     "text": [
      "  Running command git clone -q http://github.com/fmfn/BayesianOptimization.git 'C:\\Users\\bratu\\AppData\\Local\\Temp\\pip-req-build-33nwmwhl'\n"
     ]
    }
   ],
   "source": [
    "!pip install git+http://github.com/fmfn/BayesianOptimization.git"
   ]
  },
  {
   "cell_type": "code",
   "execution_count": 9,
   "metadata": {
    "id": "tlPwThNlwlZC"
   },
   "outputs": [
    {
     "name": "stdout",
     "output_type": "stream",
     "text": [
      "Collecting git+https://github.com/paulgavrikov/visualkeras\n",
      "  Cloning https://github.com/paulgavrikov/visualkeras to c:\\users\\bratu\\appdata\\local\\temp\\pip-req-build-_eexjt7o\n",
      "Requirement already satisfied: pillow>=6.2.0 in c:\\users\\bratu\\desktop\\thesis\\lib\\site-packages (from visualkeras==0.0.2) (8.2.0)\n",
      "Requirement already satisfied: numpy>=1.18.1 in c:\\users\\bratu\\desktop\\thesis\\lib\\site-packages (from visualkeras==0.0.2) (1.19.5)\n",
      "Requirement already satisfied: aggdraw>=1.3.11 in c:\\users\\bratu\\desktop\\thesis\\lib\\site-packages (from visualkeras==0.0.2) (1.3.12)\n"
     ]
    },
    {
     "name": "stderr",
     "output_type": "stream",
     "text": [
      "  Running command git clone -q https://github.com/paulgavrikov/visualkeras 'C:\\Users\\bratu\\AppData\\Local\\Temp\\pip-req-build-_eexjt7o'\n"
     ]
    }
   ],
   "source": [
    "!pip install git+https://github.com/paulgavrikov/visualkeras"
   ]
  },
  {
   "cell_type": "markdown",
   "metadata": {
    "id": "bQu47vOmKYvk"
   },
   "source": [
    "# Mount Google Drive"
   ]
  },
  {
   "cell_type": "markdown",
   "metadata": {
    "id": "aTKZbt1iKNqX"
   },
   "source": [
    "# Constants"
   ]
  },
  {
   "cell_type": "code",
   "execution_count": 10,
   "metadata": {
    "id": "kiJui8b5KPR5"
   },
   "outputs": [],
   "source": [
    "# Last params that sort of worked\n",
    "# TIME_STEPS = 20\n",
    "# TIME_STEPS_COMMON = 8\n",
    "\n",
    "TIME_STEPS = 20\n",
    "TIME_STEPS_COMMON = 8\n",
    "COLS = ['open', 'high', 'low', 'close', 'volume']\n",
    "NUM_FEATURES = len(COLS)\n",
    "ROOT = '/content/gdrive/MyDrive/thesis'"
   ]
  },
  {
   "cell_type": "markdown",
   "metadata": {
    "id": "MBCjCLBRQerX"
   },
   "source": [
    "# Dataset analysis"
   ]
  },
  {
   "cell_type": "code",
   "execution_count": 11,
   "metadata": {
    "id": "Vp_eMMxfoqXw"
   },
   "outputs": [
    {
     "data": {
      "text/html": [
       "<div>\n",
       "<style scoped>\n",
       "    .dataframe tbody tr th:only-of-type {\n",
       "        vertical-align: middle;\n",
       "    }\n",
       "\n",
       "    .dataframe tbody tr th {\n",
       "        vertical-align: top;\n",
       "    }\n",
       "\n",
       "    .dataframe thead th {\n",
       "        text-align: right;\n",
       "    }\n",
       "</style>\n",
       "<table border=\"1\" class=\"dataframe\">\n",
       "  <thead>\n",
       "    <tr style=\"text-align: right;\">\n",
       "      <th></th>\n",
       "      <th>date</th>\n",
       "      <th>time</th>\n",
       "      <th>open</th>\n",
       "      <th>high</th>\n",
       "      <th>low</th>\n",
       "      <th>close</th>\n",
       "      <th>volume</th>\n",
       "    </tr>\n",
       "  </thead>\n",
       "  <tbody>\n",
       "    <tr>\n",
       "      <th>0</th>\n",
       "      <td>1998/02/01</td>\n",
       "      <td>09:30</td>\n",
       "      <td>13.6250</td>\n",
       "      <td>13.7500</td>\n",
       "      <td>13.5000</td>\n",
       "      <td>13.6875</td>\n",
       "      <td>202700</td>\n",
       "    </tr>\n",
       "    <tr>\n",
       "      <th>1</th>\n",
       "      <td>1998/02/01</td>\n",
       "      <td>09:45</td>\n",
       "      <td>13.6875</td>\n",
       "      <td>13.7500</td>\n",
       "      <td>13.5000</td>\n",
       "      <td>13.6250</td>\n",
       "      <td>334000</td>\n",
       "    </tr>\n",
       "    <tr>\n",
       "      <th>2</th>\n",
       "      <td>1998/02/01</td>\n",
       "      <td>10:00</td>\n",
       "      <td>13.6250</td>\n",
       "      <td>13.7500</td>\n",
       "      <td>13.5625</td>\n",
       "      <td>13.7500</td>\n",
       "      <td>299900</td>\n",
       "    </tr>\n",
       "    <tr>\n",
       "      <th>3</th>\n",
       "      <td>1998/02/01</td>\n",
       "      <td>10:15</td>\n",
       "      <td>13.7500</td>\n",
       "      <td>14.0000</td>\n",
       "      <td>13.6250</td>\n",
       "      <td>14.0000</td>\n",
       "      <td>430201</td>\n",
       "    </tr>\n",
       "    <tr>\n",
       "      <th>4</th>\n",
       "      <td>1998/02/01</td>\n",
       "      <td>10:30</td>\n",
       "      <td>13.9375</td>\n",
       "      <td>14.8125</td>\n",
       "      <td>13.7500</td>\n",
       "      <td>14.6250</td>\n",
       "      <td>944200</td>\n",
       "    </tr>\n",
       "    <tr>\n",
       "      <th>5</th>\n",
       "      <td>1998/02/01</td>\n",
       "      <td>10:45</td>\n",
       "      <td>14.6250</td>\n",
       "      <td>14.7500</td>\n",
       "      <td>14.3750</td>\n",
       "      <td>14.4375</td>\n",
       "      <td>218103</td>\n",
       "    </tr>\n",
       "    <tr>\n",
       "      <th>6</th>\n",
       "      <td>1998/02/01</td>\n",
       "      <td>11:00</td>\n",
       "      <td>14.4375</td>\n",
       "      <td>14.6875</td>\n",
       "      <td>14.3750</td>\n",
       "      <td>14.6250</td>\n",
       "      <td>463100</td>\n",
       "    </tr>\n",
       "    <tr>\n",
       "      <th>7</th>\n",
       "      <td>1998/02/01</td>\n",
       "      <td>11:15</td>\n",
       "      <td>14.6250</td>\n",
       "      <td>14.6250</td>\n",
       "      <td>14.5625</td>\n",
       "      <td>14.6250</td>\n",
       "      <td>130900</td>\n",
       "    </tr>\n",
       "    <tr>\n",
       "      <th>8</th>\n",
       "      <td>1998/02/01</td>\n",
       "      <td>11:30</td>\n",
       "      <td>14.6250</td>\n",
       "      <td>14.6250</td>\n",
       "      <td>14.5000</td>\n",
       "      <td>14.5000</td>\n",
       "      <td>135500</td>\n",
       "    </tr>\n",
       "    <tr>\n",
       "      <th>9</th>\n",
       "      <td>1998/02/01</td>\n",
       "      <td>11:45</td>\n",
       "      <td>14.5625</td>\n",
       "      <td>14.7500</td>\n",
       "      <td>14.5000</td>\n",
       "      <td>14.6250</td>\n",
       "      <td>118600</td>\n",
       "    </tr>\n",
       "    <tr>\n",
       "      <th>10</th>\n",
       "      <td>1998/02/01</td>\n",
       "      <td>12:00</td>\n",
       "      <td>14.6875</td>\n",
       "      <td>14.9375</td>\n",
       "      <td>14.6250</td>\n",
       "      <td>14.8750</td>\n",
       "      <td>143300</td>\n",
       "    </tr>\n",
       "    <tr>\n",
       "      <th>11</th>\n",
       "      <td>1998/02/01</td>\n",
       "      <td>12:15</td>\n",
       "      <td>14.9375</td>\n",
       "      <td>15.2500</td>\n",
       "      <td>14.8125</td>\n",
       "      <td>15.0625</td>\n",
       "      <td>271600</td>\n",
       "    </tr>\n",
       "    <tr>\n",
       "      <th>12</th>\n",
       "      <td>1998/02/01</td>\n",
       "      <td>12:30</td>\n",
       "      <td>15.0625</td>\n",
       "      <td>15.1875</td>\n",
       "      <td>15.0000</td>\n",
       "      <td>15.1250</td>\n",
       "      <td>232900</td>\n",
       "    </tr>\n",
       "    <tr>\n",
       "      <th>13</th>\n",
       "      <td>1998/02/01</td>\n",
       "      <td>12:45</td>\n",
       "      <td>15.1250</td>\n",
       "      <td>15.3125</td>\n",
       "      <td>15.0625</td>\n",
       "      <td>15.2500</td>\n",
       "      <td>125200</td>\n",
       "    </tr>\n",
       "    <tr>\n",
       "      <th>14</th>\n",
       "      <td>1998/02/01</td>\n",
       "      <td>13:00</td>\n",
       "      <td>15.3125</td>\n",
       "      <td>15.3125</td>\n",
       "      <td>15.0625</td>\n",
       "      <td>15.1875</td>\n",
       "      <td>121300</td>\n",
       "    </tr>\n",
       "    <tr>\n",
       "      <th>15</th>\n",
       "      <td>1998/02/01</td>\n",
       "      <td>13:15</td>\n",
       "      <td>15.1250</td>\n",
       "      <td>15.3125</td>\n",
       "      <td>15.0625</td>\n",
       "      <td>15.3125</td>\n",
       "      <td>89700</td>\n",
       "    </tr>\n",
       "    <tr>\n",
       "      <th>16</th>\n",
       "      <td>1998/02/01</td>\n",
       "      <td>13:30</td>\n",
       "      <td>15.3125</td>\n",
       "      <td>15.5000</td>\n",
       "      <td>15.3125</td>\n",
       "      <td>15.3750</td>\n",
       "      <td>130300</td>\n",
       "    </tr>\n",
       "    <tr>\n",
       "      <th>17</th>\n",
       "      <td>1998/02/01</td>\n",
       "      <td>13:45</td>\n",
       "      <td>15.4375</td>\n",
       "      <td>15.5000</td>\n",
       "      <td>15.3750</td>\n",
       "      <td>15.4375</td>\n",
       "      <td>84900</td>\n",
       "    </tr>\n",
       "    <tr>\n",
       "      <th>18</th>\n",
       "      <td>1998/02/01</td>\n",
       "      <td>14:00</td>\n",
       "      <td>15.5000</td>\n",
       "      <td>15.8750</td>\n",
       "      <td>15.3750</td>\n",
       "      <td>15.7500</td>\n",
       "      <td>253300</td>\n",
       "    </tr>\n",
       "    <tr>\n",
       "      <th>19</th>\n",
       "      <td>1998/02/01</td>\n",
       "      <td>14:15</td>\n",
       "      <td>15.8750</td>\n",
       "      <td>15.8750</td>\n",
       "      <td>15.3750</td>\n",
       "      <td>15.3750</td>\n",
       "      <td>192200</td>\n",
       "    </tr>\n",
       "  </tbody>\n",
       "</table>\n",
       "</div>"
      ],
      "text/plain": [
       "          date   time     open     high      low    close  volume\n",
       "0   1998/02/01  09:30  13.6250  13.7500  13.5000  13.6875  202700\n",
       "1   1998/02/01  09:45  13.6875  13.7500  13.5000  13.6250  334000\n",
       "2   1998/02/01  10:00  13.6250  13.7500  13.5625  13.7500  299900\n",
       "3   1998/02/01  10:15  13.7500  14.0000  13.6250  14.0000  430201\n",
       "4   1998/02/01  10:30  13.9375  14.8125  13.7500  14.6250  944200\n",
       "5   1998/02/01  10:45  14.6250  14.7500  14.3750  14.4375  218103\n",
       "6   1998/02/01  11:00  14.4375  14.6875  14.3750  14.6250  463100\n",
       "7   1998/02/01  11:15  14.6250  14.6250  14.5625  14.6250  130900\n",
       "8   1998/02/01  11:30  14.6250  14.6250  14.5000  14.5000  135500\n",
       "9   1998/02/01  11:45  14.5625  14.7500  14.5000  14.6250  118600\n",
       "10  1998/02/01  12:00  14.6875  14.9375  14.6250  14.8750  143300\n",
       "11  1998/02/01  12:15  14.9375  15.2500  14.8125  15.0625  271600\n",
       "12  1998/02/01  12:30  15.0625  15.1875  15.0000  15.1250  232900\n",
       "13  1998/02/01  12:45  15.1250  15.3125  15.0625  15.2500  125200\n",
       "14  1998/02/01  13:00  15.3125  15.3125  15.0625  15.1875  121300\n",
       "15  1998/02/01  13:15  15.1250  15.3125  15.0625  15.3125   89700\n",
       "16  1998/02/01  13:30  15.3125  15.5000  15.3125  15.3750  130300\n",
       "17  1998/02/01  13:45  15.4375  15.5000  15.3750  15.4375   84900\n",
       "18  1998/02/01  14:00  15.5000  15.8750  15.3750  15.7500  253300\n",
       "19  1998/02/01  14:15  15.8750  15.8750  15.3750  15.3750  192200"
      ]
     },
     "execution_count": 11,
     "metadata": {},
     "output_type": "execute_result"
    }
   ],
   "source": [
    "aapl = pd.read_csv(f'AAPL.txt', names=['date', 'time', 'open', 'high', 'low', 'close', 'volume'])\n",
    "aapl['date'] = aapl['date'].apply(lambda x: '/'.join(x.split('/')[::-1]))\n",
    "aapl[:20]"
   ]
  },
  {
   "cell_type": "code",
   "execution_count": 12,
   "metadata": {
    "id": "VSS09KSsEpAi"
   },
   "outputs": [],
   "source": [
    "# rolling_aapl = pd.DataFrame()\n",
    "# rolling_aapl['open'] = aapl['open'].groupby(aapl['open'].index // 4).apply(lambda arr: arr.iloc[0])\n",
    "# rolling_aapl['high'] = aapl['high'].groupby(aapl['high'].index // 4).max()\n",
    "# rolling_aapl['low'] = aapl['low'].groupby(aapl['low'].index // 4).min()\n",
    "# rolling_aapl['close'] = aapl['close'].groupby(aapl['close'].index // 4).apply(lambda arr: arr.iloc[-1])\n",
    "# rolling_aapl['volume'] = aapl['volume'].groupby(aapl['volume'].index // 4).sum()\n",
    "# rolling_aapl"
   ]
  },
  {
   "cell_type": "markdown",
   "metadata": {
    "id": "b4Z930xEXAkf"
   },
   "source": [
    "# Data preparation"
   ]
  },
  {
   "cell_type": "code",
   "execution_count": 13,
   "metadata": {
    "id": "p6jyYbUipV4p"
   },
   "outputs": [
    {
     "data": {
      "text/html": [
       "<div>\n",
       "<style scoped>\n",
       "    .dataframe tbody tr th:only-of-type {\n",
       "        vertical-align: middle;\n",
       "    }\n",
       "\n",
       "    .dataframe tbody tr th {\n",
       "        vertical-align: top;\n",
       "    }\n",
       "\n",
       "    .dataframe thead th {\n",
       "        text-align: right;\n",
       "    }\n",
       "</style>\n",
       "<table border=\"1\" class=\"dataframe\">\n",
       "  <thead>\n",
       "    <tr style=\"text-align: right;\">\n",
       "      <th></th>\n",
       "      <th>open</th>\n",
       "      <th>high</th>\n",
       "      <th>low</th>\n",
       "      <th>close</th>\n",
       "    </tr>\n",
       "  </thead>\n",
       "  <tbody>\n",
       "    <tr>\n",
       "      <th>0</th>\n",
       "      <td>13.6250</td>\n",
       "      <td>13.7500</td>\n",
       "      <td>13.5000</td>\n",
       "      <td>13.6875</td>\n",
       "    </tr>\n",
       "    <tr>\n",
       "      <th>1</th>\n",
       "      <td>13.6875</td>\n",
       "      <td>13.7500</td>\n",
       "      <td>13.5000</td>\n",
       "      <td>13.6250</td>\n",
       "    </tr>\n",
       "    <tr>\n",
       "      <th>2</th>\n",
       "      <td>13.6250</td>\n",
       "      <td>13.7500</td>\n",
       "      <td>13.5625</td>\n",
       "      <td>13.7500</td>\n",
       "    </tr>\n",
       "    <tr>\n",
       "      <th>3</th>\n",
       "      <td>13.7500</td>\n",
       "      <td>14.0000</td>\n",
       "      <td>13.6250</td>\n",
       "      <td>14.0000</td>\n",
       "    </tr>\n",
       "    <tr>\n",
       "      <th>4</th>\n",
       "      <td>13.9375</td>\n",
       "      <td>14.8125</td>\n",
       "      <td>13.7500</td>\n",
       "      <td>14.6250</td>\n",
       "    </tr>\n",
       "    <tr>\n",
       "      <th>...</th>\n",
       "      <td>...</td>\n",
       "      <td>...</td>\n",
       "      <td>...</td>\n",
       "      <td>...</td>\n",
       "    </tr>\n",
       "    <tr>\n",
       "      <th>289482</th>\n",
       "      <td>120.9900</td>\n",
       "      <td>121.1000</td>\n",
       "      <td>120.9700</td>\n",
       "      <td>121.0900</td>\n",
       "    </tr>\n",
       "    <tr>\n",
       "      <th>289483</th>\n",
       "      <td>121.0600</td>\n",
       "      <td>121.1000</td>\n",
       "      <td>120.9900</td>\n",
       "      <td>121.0000</td>\n",
       "    </tr>\n",
       "    <tr>\n",
       "      <th>289484</th>\n",
       "      <td>121.0000</td>\n",
       "      <td>121.0700</td>\n",
       "      <td>120.9900</td>\n",
       "      <td>121.0300</td>\n",
       "    </tr>\n",
       "    <tr>\n",
       "      <th>289485</th>\n",
       "      <td>121.0100</td>\n",
       "      <td>121.0300</td>\n",
       "      <td>121.0000</td>\n",
       "      <td>121.0300</td>\n",
       "    </tr>\n",
       "    <tr>\n",
       "      <th>289486</th>\n",
       "      <td>121.0300</td>\n",
       "      <td>121.1000</td>\n",
       "      <td>121.0200</td>\n",
       "      <td>121.0800</td>\n",
       "    </tr>\n",
       "  </tbody>\n",
       "</table>\n",
       "<p>289487 rows × 4 columns</p>\n",
       "</div>"
      ],
      "text/plain": [
       "            open      high       low     close\n",
       "0        13.6250   13.7500   13.5000   13.6875\n",
       "1        13.6875   13.7500   13.5000   13.6250\n",
       "2        13.6250   13.7500   13.5625   13.7500\n",
       "3        13.7500   14.0000   13.6250   14.0000\n",
       "4        13.9375   14.8125   13.7500   14.6250\n",
       "...          ...       ...       ...       ...\n",
       "289482  120.9900  121.1000  120.9700  121.0900\n",
       "289483  121.0600  121.1000  120.9900  121.0000\n",
       "289484  121.0000  121.0700  120.9900  121.0300\n",
       "289485  121.0100  121.0300  121.0000  121.0300\n",
       "289486  121.0300  121.1000  121.0200  121.0800\n",
       "\n",
       "[289487 rows x 4 columns]"
      ]
     },
     "execution_count": 13,
     "metadata": {},
     "output_type": "execute_result"
    }
   ],
   "source": [
    "aapl[['open', 'high', 'low', 'close']]"
   ]
  },
  {
   "cell_type": "code",
   "execution_count": 14,
   "metadata": {
    "id": "6U4QlNG6reu0"
   },
   "outputs": [],
   "source": [
    "aapl[COLS] = np.log(aapl[COLS].values)"
   ]
  },
  {
   "cell_type": "code",
   "execution_count": 15,
   "metadata": {
    "id": "b4yctEOkok-m"
   },
   "outputs": [],
   "source": [
    "price_scaler = preprocessing.MinMaxScaler()\n",
    "volume_scaler = preprocessing.MinMaxScaler()\n",
    "\n",
    "aapl[['open', 'low', 'high', 'close']] = price_scaler.fit_transform(aapl[['open', 'low', 'high', 'close']])\n",
    "aapl['volume'] = volume_scaler.fit_transform(aapl['volume'].values.reshape(-1, 1))"
   ]
  },
  {
   "cell_type": "code",
   "execution_count": 16,
   "metadata": {
    "id": "oDajW2mKX_hJ"
   },
   "outputs": [
    {
     "data": {
      "text/plain": [
       "(              date   time      open      high       low     close    volume\n",
       " 0       1998/02/01  09:30  0.020403  0.014996  0.042787  0.015767  0.562784\n",
       " 1       1998/02/01  09:45  0.021539  0.014996  0.042787  0.014624  0.599697\n",
       " 2       1998/02/01  10:00  0.020403  0.014996  0.043905  0.016904  0.591737\n",
       " 3       1998/02/01  10:15  0.022670  0.019504  0.045018  0.021404  0.618405\n",
       " 4       1998/02/01  10:30  0.026032  0.033617  0.047229  0.032310  0.676505\n",
       " ...            ...    ...       ...       ...       ...       ...       ...\n",
       " 289482  2021/12/03  18:45  0.562532  0.559272  0.573536  0.560158  0.373959\n",
       " 289483  2021/12/03  19:00  0.562675  0.559272  0.573576  0.559972  0.388435\n",
       " 289484  2021/12/03  19:15  0.562552  0.559210  0.573576  0.560034  0.364261\n",
       " 289485  2021/12/03  19:30  0.562573  0.559127  0.573596  0.560034  0.312981\n",
       " 289486  2021/12/03  19:45  0.562614  0.559272  0.573636  0.560137  0.429197\n",
       " \n",
       " [289487 rows x 7 columns],\n",
       " 289487,\n",
       " 7)"
      ]
     },
     "execution_count": 16,
     "metadata": {},
     "output_type": "execute_result"
    }
   ],
   "source": [
    "rows = aapl.shape[0]\n",
    "cols = aapl.shape[1]\n",
    "aapl, rows, cols"
   ]
  },
  {
   "cell_type": "code",
   "execution_count": 17,
   "metadata": {
    "id": "1NRf8XneyHjN"
   },
   "outputs": [],
   "source": [
    "Chunk = namedtuple('Chunk', 'df_chunk init_idx latent_vector')"
   ]
  },
  {
   "cell_type": "code",
   "execution_count": 18,
   "metadata": {
    "id": "tJR63AlFc3RB"
   },
   "outputs": [],
   "source": [
    "# input - df: a Dataframe, chunkSize: the chunk size\n",
    "# output - a list of DataFrame\n",
    "# purpose - splits the DataFrame into smaller chunks\n",
    "def split_dataframe(df, split_size, time_steps_common) -> List[Chunk]: \n",
    "    chunks = list()\n",
    "    num_chunks = len(df) // split_size + 1\n",
    "    step = split_size - time_steps_common\n",
    "    for i in range(0, len(df), step):\n",
    "        if i >= len(df):\n",
    "          break\n",
    "        chunks.append(Chunk(df[i:i+split_size], i, None))\n",
    "    return list(filter(lambda x: len(x.df_chunk) == TIME_STEPS, chunks))"
   ]
  },
  {
   "cell_type": "code",
   "execution_count": 19,
   "metadata": {
    "id": "prCtuP71wWZI"
   },
   "outputs": [
    {
     "data": {
      "text/plain": [
       "24123"
      ]
     },
     "execution_count": 19,
     "metadata": {},
     "output_type": "execute_result"
    }
   ],
   "source": [
    "chunks = split_dataframe(aapl[COLS], split_size=TIME_STEPS, time_steps_common=TIME_STEPS_COMMON)\n",
    "len(chunks)"
   ]
  },
  {
   "cell_type": "code",
   "execution_count": 20,
   "metadata": {
    "id": "wu5TFI7NMg8w"
   },
   "outputs": [
    {
     "data": {
      "text/plain": [
       "Chunk(df_chunk=        open      high       low     close    volume\n",
       "0   0.020403  0.014996  0.042787  0.015767  0.562784\n",
       "1   0.021539  0.014996  0.042787  0.014624  0.599697\n",
       "2   0.020403  0.014996  0.043905  0.016904  0.591737\n",
       "3   0.022670  0.019504  0.045018  0.021404  0.618405\n",
       "4   0.026032  0.033617  0.047229  0.032310  0.676505\n",
       "5   0.037985  0.032560  0.057987  0.029088  0.568198\n",
       "6   0.034782  0.031497  0.057987  0.032310  0.623851\n",
       "7   0.037985  0.030430  0.061124  0.032310  0.530464\n",
       "8   0.037985  0.030430  0.060083  0.030167  0.533016\n",
       "9   0.036922  0.032560  0.060083  0.032310  0.523170\n",
       "10  0.039044  0.035720  0.062161  0.036543  0.537153\n",
       "11  0.043234  0.040900  0.065244  0.039671  0.584411\n",
       "12  0.045303  0.039872  0.068288  0.040705  0.573049\n",
       "13  0.046331  0.041923  0.069295  0.042760  0.527173\n",
       "14  0.049389  0.041923  0.069295  0.041735  0.524834\n",
       "15  0.046331  0.041923  0.069295  0.043781  0.502528\n",
       "16  0.049389  0.044968  0.073279  0.044799  0.530124\n",
       "17  0.051407  0.044968  0.074265  0.045812  0.498463\n",
       "18  0.052410  0.050948  0.074265  0.050816  0.579255\n",
       "19  0.058345  0.050948  0.074265  0.044799  0.558853, init_idx=0, latent_vector=None)"
      ]
     },
     "execution_count": 20,
     "metadata": {},
     "output_type": "execute_result"
    }
   ],
   "source": [
    "chunks[0]"
   ]
  },
  {
   "cell_type": "code",
   "execution_count": 21,
   "metadata": {
    "id": "a506QvF5hRlY"
   },
   "outputs": [],
   "source": [
    "ds = np.array(list(map(lambda x: x.df_chunk, chunks)))"
   ]
  },
  {
   "cell_type": "code",
   "execution_count": 22,
   "metadata": {
    "id": "VeVgPZAFuvSb"
   },
   "outputs": [
    {
     "data": {
      "text/plain": [
       "(24123, 20, 5)"
      ]
     },
     "execution_count": 22,
     "metadata": {},
     "output_type": "execute_result"
    }
   ],
   "source": [
    "ds.shape"
   ]
  },
  {
   "cell_type": "code",
   "execution_count": 23,
   "metadata": {
    "id": "ZMyWpp9N8meK"
   },
   "outputs": [],
   "source": [
    "X_train, X_test = train_test_split(ds, train_size=0.8, shuffle = True)"
   ]
  },
  {
   "cell_type": "code",
   "execution_count": 24,
   "metadata": {
    "id": "Cf2v7p49AfyA"
   },
   "outputs": [
    {
     "data": {
      "text/plain": [
       "array([[[0.69688616, 0.69517323, 0.70304849, 0.69366442, 0.70304037],\n",
       "        [0.69546091, 0.6939824 , 0.70317266, 0.69372482, 0.68378383],\n",
       "        [0.69552096, 0.69327001, 0.70013698, 0.69190632, 0.75040496],\n",
       "        ...,\n",
       "        [0.69910943, 0.69670452, 0.70630718, 0.69728684, 0.61485295],\n",
       "        [0.69906208, 0.69728825, 0.70648052, 0.69765572, 0.65518474],\n",
       "        [0.6994288 , 0.69722875, 0.70645742, 0.69778648, 0.62594419]],\n",
       "\n",
       "       [[0.60184406, 0.59874939, 0.61115074, 0.59886915, 0.67855194],\n",
       "        [0.60121278, 0.59849343, 0.61070586, 0.59829451, 0.73738684],\n",
       "        [0.6006151 , 0.59761769, 0.61070586, 0.59845377, 0.69632013],\n",
       "        ...,\n",
       "        [0.6006327 , 0.5974404 , 0.61072302, 0.59827681, 0.        ],\n",
       "        [0.60072067, 0.59809575, 0.61080879, 0.59893095, 0.10246296],\n",
       "        [0.60105471, 0.59786569, 0.61113447, 0.59870131, 0.10246296]],\n",
       "\n",
       "       [[0.82743949, 0.82655284, 0.83136294, 0.82667702, 0.65160514],\n",
       "        [0.82767936, 0.8272262 , 0.83201714, 0.82748429, 0.63415737],\n",
       "        [0.82853816, 0.82738188, 0.832745  , 0.82744894, 0.60240012],\n",
       "        ...,\n",
       "        [0.82534137, 0.82424976, 0.82955646, 0.82413907, 0.62243454],\n",
       "        [0.82516762, 0.82408495, 0.8290634 , 0.82391692, 0.63145499],\n",
       "        [0.82500659, 0.82465058, 0.82936186, 0.82454308, 0.64644879]],\n",
       "\n",
       "       ...,\n",
       "\n",
       "       [[0.16177499, 0.15590623, 0.18214686, 0.15632161, 0.5351496 ],\n",
       "        [0.16136227, 0.15507612, 0.18204604, 0.15620727, 0.5252083 ],\n",
       "        [0.16117633, 0.15459755, 0.18154127, 0.1558952 , 0.55109393],\n",
       "        ...,\n",
       "        [0.1615584 , 0.15496176, 0.18264031, 0.15661239, 0.06772433],\n",
       "        [0.1615584 , 0.15496176, 0.18264031, 0.15661239, 0.18366293],\n",
       "        [0.16505227, 0.15848272, 0.18604672, 0.16012687, 0.17018729]],\n",
       "\n",
       "       [[0.55237559, 0.54926108, 0.56367395, 0.55018615, 0.23174877],\n",
       "        [0.55293072, 0.54936857, 0.5641528 , 0.55022907, 0.06623112],\n",
       "        [0.55290939, 0.54941155, 0.5641736 , 0.55029343, 0.3186172 ],\n",
       "        ...,\n",
       "        [0.55214035, 0.54947601, 0.56331941, 0.55033634, 0.73942793],\n",
       "        [0.55299469, 0.55018396, 0.56386144, 0.55082897, 0.73759289],\n",
       "        [0.55346333, 0.55024822, 0.56431913, 0.55110754, 0.71856573]],\n",
       "\n",
       "       [[0.9560735 , 0.95593349, 0.95657218, 0.95540807, 0.47400591],\n",
       "        [0.95569484, 0.95540397, 0.95638713, 0.95551818, 0.44547296],\n",
       "        [0.95550951, 0.95518761, 0.95597541, 0.95448297, 0.45120391],\n",
       "        ...,\n",
       "        [0.9556022 , 0.9556032 , 0.95618548, 0.95522163, 0.66639518],\n",
       "        [0.9554758 , 0.95503477, 0.95562077, 0.95458073, 0.62816626],\n",
       "        [0.95477526, 0.95475857, 0.95533585, 0.95414683, 0.60556381]]])"
      ]
     },
     "execution_count": 24,
     "metadata": {},
     "output_type": "execute_result"
    }
   ],
   "source": [
    "X_train"
   ]
  },
  {
   "cell_type": "code",
   "execution_count": 25,
   "metadata": {
    "id": "O-LDK4efo5XN"
   },
   "outputs": [],
   "source": [
    "train_tensor = tf.convert_to_tensor(X_train)\n",
    "test_tensor = tf.convert_to_tensor(X_test)"
   ]
  },
  {
   "cell_type": "code",
   "execution_count": 26,
   "metadata": {
    "id": "pDQSDVNHrJFt"
   },
   "outputs": [
    {
     "data": {
      "text/plain": [
       "<tf.Tensor: shape=(19298, 20, 5), dtype=float64, numpy=\n",
       "array([[[0.69688616, 0.69517323, 0.70304849, 0.69366442, 0.70304037],\n",
       "        [0.69546091, 0.6939824 , 0.70317266, 0.69372482, 0.68378383],\n",
       "        [0.69552096, 0.69327001, 0.70013698, 0.69190632, 0.75040496],\n",
       "        ...,\n",
       "        [0.69910943, 0.69670452, 0.70630718, 0.69728684, 0.61485295],\n",
       "        [0.69906208, 0.69728825, 0.70648052, 0.69765572, 0.65518474],\n",
       "        [0.6994288 , 0.69722875, 0.70645742, 0.69778648, 0.62594419]],\n",
       "\n",
       "       [[0.60184406, 0.59874939, 0.61115074, 0.59886915, 0.67855194],\n",
       "        [0.60121278, 0.59849343, 0.61070586, 0.59829451, 0.73738684],\n",
       "        [0.6006151 , 0.59761769, 0.61070586, 0.59845377, 0.69632013],\n",
       "        ...,\n",
       "        [0.6006327 , 0.5974404 , 0.61072302, 0.59827681, 0.        ],\n",
       "        [0.60072067, 0.59809575, 0.61080879, 0.59893095, 0.10246296],\n",
       "        [0.60105471, 0.59786569, 0.61113447, 0.59870131, 0.10246296]],\n",
       "\n",
       "       [[0.82743949, 0.82655284, 0.83136294, 0.82667702, 0.65160514],\n",
       "        [0.82767936, 0.8272262 , 0.83201714, 0.82748429, 0.63415737],\n",
       "        [0.82853816, 0.82738188, 0.832745  , 0.82744894, 0.60240012],\n",
       "        ...,\n",
       "        [0.82534137, 0.82424976, 0.82955646, 0.82413907, 0.62243454],\n",
       "        [0.82516762, 0.82408495, 0.8290634 , 0.82391692, 0.63145499],\n",
       "        [0.82500659, 0.82465058, 0.82936186, 0.82454308, 0.64644879]],\n",
       "\n",
       "       ...,\n",
       "\n",
       "       [[0.16177499, 0.15590623, 0.18214686, 0.15632161, 0.5351496 ],\n",
       "        [0.16136227, 0.15507612, 0.18204604, 0.15620727, 0.5252083 ],\n",
       "        [0.16117633, 0.15459755, 0.18154127, 0.1558952 , 0.55109393],\n",
       "        ...,\n",
       "        [0.1615584 , 0.15496176, 0.18264031, 0.15661239, 0.06772433],\n",
       "        [0.1615584 , 0.15496176, 0.18264031, 0.15661239, 0.18366293],\n",
       "        [0.16505227, 0.15848272, 0.18604672, 0.16012687, 0.17018729]],\n",
       "\n",
       "       [[0.55237559, 0.54926108, 0.56367395, 0.55018615, 0.23174877],\n",
       "        [0.55293072, 0.54936857, 0.5641528 , 0.55022907, 0.06623112],\n",
       "        [0.55290939, 0.54941155, 0.5641736 , 0.55029343, 0.3186172 ],\n",
       "        ...,\n",
       "        [0.55214035, 0.54947601, 0.56331941, 0.55033634, 0.73942793],\n",
       "        [0.55299469, 0.55018396, 0.56386144, 0.55082897, 0.73759289],\n",
       "        [0.55346333, 0.55024822, 0.56431913, 0.55110754, 0.71856573]],\n",
       "\n",
       "       [[0.9560735 , 0.95593349, 0.95657218, 0.95540807, 0.47400591],\n",
       "        [0.95569484, 0.95540397, 0.95638713, 0.95551818, 0.44547296],\n",
       "        [0.95550951, 0.95518761, 0.95597541, 0.95448297, 0.45120391],\n",
       "        ...,\n",
       "        [0.9556022 , 0.9556032 , 0.95618548, 0.95522163, 0.66639518],\n",
       "        [0.9554758 , 0.95503477, 0.95562077, 0.95458073, 0.62816626],\n",
       "        [0.95477526, 0.95475857, 0.95533585, 0.95414683, 0.60556381]]])>"
      ]
     },
     "execution_count": 26,
     "metadata": {},
     "output_type": "execute_result"
    }
   ],
   "source": [
    "train_tensor"
   ]
  },
  {
   "cell_type": "markdown",
   "metadata": {
    "id": "QatuoqFxLHOk"
   },
   "source": [
    "# The Autoencoder"
   ]
  },
  {
   "cell_type": "markdown",
   "metadata": {
    "id": "IKCir986I83b"
   },
   "source": [
    "## Setup AE"
   ]
  },
  {
   "cell_type": "code",
   "execution_count": 27,
   "metadata": {
    "id": "SOscgR8pn3AP"
   },
   "outputs": [],
   "source": [
    "DROP_RATE = 0.3\n",
    "LATENT_SPACE_DIM = 12"
   ]
  },
  {
   "cell_type": "code",
   "execution_count": 28,
   "metadata": {
    "id": "AzdCFNmlwm3Z"
   },
   "outputs": [],
   "source": [
    "encoder_input = keras.Input(shape=(TIME_STEPS, NUM_FEATURES))\n",
    "x = layers.Conv1D(256, 4, padding='same')(encoder_input)\n",
    "x = layers.PReLU()(x)\n",
    "x = layers.Dropout(DROP_RATE)(x)\n",
    "x = layers.Conv1D(256, 4, padding='same')(x)\n",
    "x = layers.PReLU()(x)\n",
    "x = layers.Dropout(DROP_RATE)(x)\n",
    "x = layers.Conv1D(256, 4, padding='same')(x)\n",
    "x = layers.PReLU()(x)\n",
    "x = layers.Dropout(DROP_RATE)(x)\n",
    "x = layers.LSTM(units=256, kernel_initializer='he_uniform', return_sequences=True)(x)\n",
    "x = layers.PReLU()(x)\n",
    "x = layers.Dropout(DROP_RATE)(x)\n",
    "x = layers.LSTM(units=256, kernel_initializer='he_uniform', return_sequences=True)(x)\n",
    "x = layers.PReLU()(x)\n",
    "x = layers.Dropout(DROP_RATE)(x)\n",
    "encoder_output = layers.LSTM(units=LATENT_SPACE_DIM, kernel_initializer='he_uniform', return_sequences=False)(x)\n",
    "encoder = keras.Model(encoder_input, encoder_output, name='encoder')\n",
    "\n",
    "\n",
    "decoder_input = keras.Input(shape=(LATENT_SPACE_DIM,))\n",
    "x = layers.RepeatVector(TIME_STEPS)(decoder_input)\n",
    "x = layers.LSTM(units=256, kernel_initializer='he_uniform', return_sequences=True)(x)\n",
    "x = layers.PReLU()(x)\n",
    "x = layers.Dropout(DROP_RATE)(x)\n",
    "x = layers.LSTM(units=256, kernel_initializer='he_uniform', return_sequences=True)(x)\n",
    "x = layers.PReLU()(x)\n",
    "x = layers.Dropout(DROP_RATE)(x)\n",
    "x = layers.Conv1D(256, 4, padding='same')(x)\n",
    "x = layers.PReLU()(x)\n",
    "x = layers.Dropout(DROP_RATE)(x)\n",
    "x = layers.Conv1D(256, 4, padding='same')(x)\n",
    "x = layers.PReLU()(x)\n",
    "x = layers.Dropout(DROP_RATE)(x)\n",
    "x = layers.Conv1D(256, 4, padding='same')(x)\n",
    "x = layers.PReLU()(x)\n",
    "x = layers.Dropout(DROP_RATE)(x)\n",
    "x = layers.TimeDistributed(layers.Dense(NUM_FEATURES))(x)\n",
    "decoder_output = layers.TimeDistributed(layers.ReLU(max_value=1.0))(x)\n",
    "decoder = keras.Model(decoder_input, decoder_output, name='decoder')\n",
    "\n",
    "# Setup checkpoints\n",
    "checkpoint_path=f'{ROOT}/weights'\n",
    "# cp_callback = tf.keras.callbacks.ModelCheckpoint(filepath=checkpoint_path,\n",
    "#                                                  save_weights_only=True,\n",
    "#                                                  verbose=1)\n",
    "\n",
    "ae_input = keras.Input(shape=(TIME_STEPS, NUM_FEATURES), name='encoder_input')\n",
    "ae_encoding = encoder(ae_input)\n",
    "ae_decoding = decoder(ae_encoding)\n",
    "autoencoder = keras.Model(ae_input, ae_decoding, name=\"autoencoder\")\n",
    "\n",
    "encoder.compile(optimizer=tf.keras.optimizers.SGD(learning_rate=0.00001, nesterov=True), loss='mse')\n",
    "decoder.compile(optimizer=tf.keras.optimizers.SGD(learning_rate=0.00001, nesterov=True), loss='mse')\n",
    "autoencoder.compile(optimizer='adam', loss='mse')"
   ]
  },
  {
   "cell_type": "code",
   "execution_count": 29,
   "metadata": {
    "id": "n7-WKC6Mx87S"
   },
   "outputs": [
    {
     "name": "stdout",
     "output_type": "stream",
     "text": [
      "Model: \"decoder\"\n",
      "_________________________________________________________________\n",
      "Layer (type)                 Output Shape              Param #   \n",
      "=================================================================\n",
      "input_2 (InputLayer)         [(None, 12)]              0         \n",
      "_________________________________________________________________\n",
      "repeat_vector (RepeatVector) (None, 20, 12)            0         \n",
      "_________________________________________________________________\n",
      "lstm_3 (LSTM)                (None, 20, 256)           275456    \n",
      "_________________________________________________________________\n",
      "p_re_lu_5 (PReLU)            (None, 20, 256)           5120      \n",
      "_________________________________________________________________\n",
      "dropout_5 (Dropout)          (None, 20, 256)           0         \n",
      "_________________________________________________________________\n",
      "lstm_4 (LSTM)                (None, 20, 256)           525312    \n",
      "_________________________________________________________________\n",
      "p_re_lu_6 (PReLU)            (None, 20, 256)           5120      \n",
      "_________________________________________________________________\n",
      "dropout_6 (Dropout)          (None, 20, 256)           0         \n",
      "_________________________________________________________________\n",
      "conv1d_3 (Conv1D)            (None, 20, 256)           262400    \n",
      "_________________________________________________________________\n",
      "p_re_lu_7 (PReLU)            (None, 20, 256)           5120      \n",
      "_________________________________________________________________\n",
      "dropout_7 (Dropout)          (None, 20, 256)           0         \n",
      "_________________________________________________________________\n",
      "conv1d_4 (Conv1D)            (None, 20, 256)           262400    \n",
      "_________________________________________________________________\n",
      "p_re_lu_8 (PReLU)            (None, 20, 256)           5120      \n",
      "_________________________________________________________________\n",
      "dropout_8 (Dropout)          (None, 20, 256)           0         \n",
      "_________________________________________________________________\n",
      "conv1d_5 (Conv1D)            (None, 20, 256)           262400    \n",
      "_________________________________________________________________\n",
      "p_re_lu_9 (PReLU)            (None, 20, 256)           5120      \n",
      "_________________________________________________________________\n",
      "dropout_9 (Dropout)          (None, 20, 256)           0         \n",
      "_________________________________________________________________\n",
      "time_distributed (TimeDistri (None, 20, 5)             1285      \n",
      "_________________________________________________________________\n",
      "time_distributed_1 (TimeDist (None, 20, 5)             0         \n",
      "=================================================================\n",
      "Total params: 1,614,853\n",
      "Trainable params: 1,614,853\n",
      "Non-trainable params: 0\n",
      "_________________________________________________________________\n"
     ]
    }
   ],
   "source": [
    "decoder.summary()"
   ]
  },
  {
   "cell_type": "code",
   "execution_count": 30,
   "metadata": {
    "id": "iltOqSVLgIMo"
   },
   "outputs": [],
   "source": [
    "class SaveBestModel(tf.keras.callbacks.Callback):\n",
    "    def __init__(self, save_best_metric='val_loss', this_max=False):\n",
    "        self.save_best_metric = save_best_metric\n",
    "        self.max = this_max\n",
    "        if this_max:\n",
    "            self.best = float('-inf')\n",
    "        else:\n",
    "            self.best = float('inf')\n",
    "\n",
    "    def on_epoch_end(self, epoch, logs=None):\n",
    "        metric_value = logs[self.save_best_metric]\n",
    "        if self.max:\n",
    "            if metric_value > self.best:\n",
    "                self.best = metric_value\n",
    "                self.best_model = self.model\n",
    "\n",
    "        else:\n",
    "            if metric_value < self.best:\n",
    "                self.best = metric_value\n",
    "                self.best_model = self.model"
   ]
  },
  {
   "cell_type": "markdown",
   "metadata": {
    "id": "JEqeTl5TQJoz"
   },
   "source": [
    "## Train AE"
   ]
  },
  {
   "cell_type": "code",
   "execution_count": 31,
   "metadata": {
    "id": "akEIK-qLJAvx"
   },
   "outputs": [],
   "source": [
    "# best_model_cb = SaveBestModel()\n",
    "\n",
    "# autoencoder.fit(\n",
    "#     x=train_tensor,\n",
    "#     y=train_tensor,\n",
    "#     validation_data=(test_tensor, test_tensor),\n",
    "#     epochs=1000, shuffle=True, batch_size=64, callbacks=[best_model_cb])\n",
    "\n",
    "# autoencoder = best_model_cb.best_model\n",
    "\n",
    "# autoencoder.save_weights(f'{checkpoint_path}/autoencoder-log-alt.weights')\n",
    "# autoencoder.get_layer('decoder').save_weights(f'{checkpoint_path}/decoder-log-alt.weights')\n",
    "# autoencoder.get_layer('encoder').save_weights(f'{checkpoint_path}/encoder-log-alt.weights')"
   ]
  },
  {
   "cell_type": "markdown",
   "metadata": {
    "id": "tJBPUwb1QMjG"
   },
   "source": [
    "## Load AE"
   ]
  },
  {
   "cell_type": "code",
   "execution_count": 32,
   "metadata": {
    "id": "1MlOBD4AQOH9"
   },
   "outputs": [
    {
     "data": {
      "text/plain": [
       "<tensorflow.python.training.tracking.util.CheckpointLoadStatus at 0x1de691ddfa0>"
      ]
     },
     "execution_count": 32,
     "metadata": {},
     "output_type": "execute_result"
    }
   ],
   "source": [
    "autoencoder.load_weights(f'autoencoder-log.weights')\n",
    "decoder.load_weights(f'decoder-log.weights')\n",
    "encoder.load_weights(f'encoder-log.weights')"
   ]
  },
  {
   "cell_type": "markdown",
   "metadata": {
    "id": "8hi4mC0vQbOE"
   },
   "source": [
    "## Check results"
   ]
  },
  {
   "cell_type": "code",
   "execution_count": 33,
   "metadata": {
    "id": "Smg9-jS5wyRh"
   },
   "outputs": [
    {
     "name": "stdout",
     "output_type": "stream",
     "text": [
      "151/151 [==============================] - 1s 777us/step - loss: 0.0000e+00\n",
      "ACTUAL TIME SERIES:\n",
      "tf.Tensor(\n",
      "[[0.57466457 0.57144809 0.58540497 0.57233233 0.28962931]\n",
      " [0.57470365 0.57140873 0.58538592 0.57223411 0.33262828]\n",
      " [0.57476225 0.57136937 0.58538592 0.57213584 0.2593444 ]\n",
      " [0.5745864  0.57123155 0.58532875 0.57211619 0.16426506]\n",
      " [0.57462549 0.57123155 0.58536686 0.57211619 0.07313837]\n",
      " [0.5745864  0.57119216 0.58527158 0.57205721 0.27625639]\n",
      " [0.57456686 0.57117246 0.5853097  0.57205721 0.10246296]\n",
      " [0.57456686 0.57131031 0.5853097  0.57217515 0.15369443]\n",
      " [0.57470365 0.57144809 0.58540497 0.57233233 0.31005416]\n",
      " [0.57472318 0.57160546 0.58544307 0.57248941 0.32549014]\n",
      " [0.57503555 0.57172342 0.58576666 0.57258753 0.21363142]\n",
      " [0.57495749 0.57193954 0.58569056 0.57282287 0.37116627]\n",
      " [0.57532803 0.57254759 0.58597581 0.57321461 0.3959999 ]\n",
      " [0.57571747 0.572332   0.58633664 0.57311673 0.29874974]\n",
      " [0.57563963 0.57231239 0.58626072 0.57317546 0.31852785]\n",
      " [0.57567856 0.57244962 0.58626072 0.57333201 0.3914951 ]\n",
      " [0.57577584 0.57338858 0.58605182 0.57407428 0.55243187]\n",
      " [0.57659149 0.57333    0.58682955 0.57370342 0.49713646]\n",
      " [0.57614516 0.57291954 0.58664009 0.57368389 0.48198632]\n",
      " [0.576184   0.57299777 0.58679167 0.5738206  0.46562527]], shape=(20, 5), dtype=float64)\n",
      "DECODED TIME SERIES:\n",
      "[[0.56751    0.56443983 0.5780633  0.5651102  0.29814094]\n",
      " [0.5674963  0.5644758  0.5779207  0.5650721  0.31631207]\n",
      " [0.5680762  0.56507343 0.57850534 0.5657015  0.2820943 ]\n",
      " [0.5691941  0.5661322  0.5797607  0.56690824 0.18323126]\n",
      " [0.56961656 0.5664833  0.58032584 0.5673827  0.08664438]\n",
      " [0.56843036 0.5653716  0.5789369  0.5660579  0.25312513]\n",
      " [0.56887525 0.56575125 0.5794919  0.56665975 0.08520249]\n",
      " [0.56732225 0.56422746 0.5779061  0.56500393 0.19109482]\n",
      " [0.5671795  0.5640732  0.57772744 0.56475705 0.28551993]\n",
      " [0.5667459  0.56363887 0.577363   0.56432116 0.28657606]\n",
      " [0.5669104  0.56380105 0.5774832  0.5644729  0.2903891 ]\n",
      " [0.5668033  0.5637296  0.57738906 0.5643562  0.31033593]\n",
      " [0.56648034 0.56344646 0.5770054  0.5640245  0.33566877]\n",
      " [0.5666733  0.5636212  0.5772119  0.5642248  0.32368618]\n",
      " [0.5668227  0.5637397  0.57738155 0.5644091  0.28861845]\n",
      " [0.5659838  0.5629374  0.5765026  0.56346977 0.38522476]\n",
      " [0.5644978  0.5615308  0.5749145  0.56193113 0.47803077]\n",
      " [0.5643386  0.56139493 0.5746842  0.5617924  0.47991136]\n",
      " [0.564769   0.56180245 0.57521605 0.5622188  0.48317978]\n",
      " [0.56378394 0.56083786 0.5742453  0.5612133  0.51365125]]\n",
      "########\n",
      "ACTUAL TIME SERIES:\n",
      "tf.Tensor(\n",
      "[[0.87497171 0.8746511  0.87808613 0.87477273 0.59062375]\n",
      " [0.87549548 0.87495543 0.87854619 0.87479613 0.60087029]\n",
      " [0.8755355  0.87526524 0.87871635 0.87495986 0.61940993]\n",
      " [0.87569897 0.87463938 0.87795534 0.87407852 0.61259395]\n",
      " [0.87483739 0.87406479 0.87780741 0.87400342 0.61809788]\n",
      " [0.8747324  0.87380639 0.87755115 0.87365871 0.64773919]\n",
      " [0.87439964 0.87375937 0.87734024 0.87406972 0.67763702]\n",
      " [0.87481406 0.87500234 0.87783586 0.8739817  0.67652923]\n",
      " [0.87480823 0.87519542 0.87775618 0.87382907 0.37678036]\n",
      " [0.87453396 0.87480395 0.87767077 0.87371159 0.37118089]\n",
      " [0.87445805 0.87760483 0.87769355 0.87377034 0.19563488]\n",
      " [0.8745398  0.87374762 0.87760242 0.87368809 0.33120288]\n",
      " [0.87437042 0.87374174 0.87760812 0.87368809 0.25388229]\n",
      " [0.87444637 0.87341827 0.87766507 0.87368809 0.25414384]\n",
      " [0.87442884 0.87341827 0.87766507 0.87368809 0.16239994]\n",
      " [0.87448725 0.87341827 0.87767077 0.87369984 0.24976824]\n",
      " [0.87443468 0.87338884 0.87766507 0.87368809 0.24941484]\n",
      " [0.87448141 0.87341239 0.87760812 0.87368809 0.24847263]\n",
      " [0.87437627 0.87344769 0.87761381 0.87377621 0.31994454]\n",
      " [0.87451645 0.87344769 0.87767646 0.87371747 0.23737753]], shape=(20, 5), dtype=float64)\n",
      "DECODED TIME SERIES:\n",
      "[[0.8644235  0.863539   0.8678554  0.8634747  0.595598  ]\n",
      " [0.8629269  0.86202264 0.86626685 0.8619608  0.604246  ]\n",
      " [0.86171633 0.8608562  0.86511976 0.86073935 0.61875325]\n",
      " [0.86303276 0.8622549  0.8662227  0.8621522  0.6281513 ]\n",
      " [0.86079395 0.8599386  0.864225   0.85979056 0.6374623 ]\n",
      " [0.8612323  0.86037195 0.8645923  0.86023015 0.6465734 ]\n",
      " [0.86230886 0.8614718  0.8655368  0.86130226 0.6903919 ]\n",
      " [0.8606057  0.85969335 0.863995   0.8595488  0.66970724]\n",
      " [0.8637738  0.8628952  0.8669492  0.86299396 0.40042794]\n",
      " [0.86453146 0.863708   0.8678226  0.8637844  0.37008   ]\n",
      " [0.8680843  0.86709356 0.87166977 0.86743623 0.18047646]\n",
      " [0.86290634 0.86196434 0.8664784  0.862115   0.32102343]\n",
      " [0.86248046 0.8615099  0.8662066  0.8617419  0.269167  ]\n",
      " [0.86580515 0.8648583  0.8693704  0.865107   0.2473948 ]\n",
      " [0.86603034 0.86505216 0.86970407 0.8654096  0.1548222 ]\n",
      " [0.86707544 0.8661464  0.87061536 0.8663689  0.26118642]\n",
      " [0.8647727  0.8637824  0.8683752  0.86402524 0.27465332]\n",
      " [0.8647051  0.8638054  0.8680128  0.86400396 0.28296646]\n",
      " [0.86345017 0.8624279  0.86713654 0.8626213  0.29068565]\n",
      " [0.8653396  0.86437    0.8690109  0.8645971  0.24635848]]\n",
      "########\n",
      "ACTUAL TIME SERIES:\n",
      "tf.Tensor(\n",
      "[[0.69512436 0.69271318 0.70249717 0.69303535 0.57744953]\n",
      " [0.69483553 0.6924525  0.70226218 0.69279298 0.59449705]\n",
      " [0.69460663 0.6923615  0.70221527 0.69301112 0.57353592]\n",
      " [0.69481145 0.69249495 0.70206226 0.69259867 0.60332323]\n",
      " [0.69440165 0.69202147 0.7018033  0.69235005 0.60424432]\n",
      " [0.69416028 0.69179047 0.70163836 0.69241684 0.6576543 ]\n",
      " [0.69423272 0.69177831 0.70135535 0.69191849 0.71547368]\n",
      " [0.6937736  0.69151056 0.70084745 0.69183331 0.70704915]\n",
      " [0.6937736  0.69136439 0.70120191 0.69195499 0.36303051]\n",
      " [0.6937615  0.69135221 0.70133175 0.69186982 0.33072438]\n",
      " [0.69368893 0.69121814 0.70120191 0.69162631 0.29881461]\n",
      " [0.69365264 0.69118157 0.7011783  0.69160195 0.33734966]\n",
      " [0.69336209 0.69088876 0.70059902 0.6910043  0.3976153 ]\n",
      " [0.69275568 0.6903633  0.70019626 0.69095545 0.36903566]\n",
      " [0.69282853 0.690962   0.70061086 0.69149228 0.34411435]\n",
      " [0.6930712  0.6908033  0.70072919 0.69146791 0.28609508]\n",
      " [0.69309545 0.69083993 0.70078833 0.69119961 0.26920836]\n",
      " [0.6932894  0.69081551 0.70090657 0.6913216  0.15276472]\n",
      " [0.6932894  0.69081551 0.70081198 0.69135818 0.22189763]\n",
      " [0.6931682  0.6907178  0.70076467 0.6911752  0.20195681]], shape=(20, 5), dtype=float64)\n",
      "DECODED TIME SERIES:\n",
      "[[0.6846312  0.68239945 0.6923158  0.68262863 0.5990793 ]\n",
      " [0.6843054  0.68211484 0.6917914  0.68234324 0.5931829 ]\n",
      " [0.68460715 0.68244976 0.6920555  0.68265843 0.59616095]\n",
      " [0.68508023 0.6829388  0.69250613 0.68316054 0.6051735 ]\n",
      " [0.6836489  0.6814954  0.6911655  0.6816795  0.61503667]\n",
      " [0.6828288  0.6806988  0.69028604 0.6808449  0.6356812 ]\n",
      " [0.6821517  0.68003964 0.6896008  0.68011856 0.6969597 ]\n",
      " [0.68020177 0.6780273  0.6877964  0.67809844 0.7096829 ]\n",
      " [0.68352103 0.68130475 0.6911149  0.6817162  0.3649032 ]\n",
      " [0.68563795 0.68341875 0.6933534  0.68385994 0.33032525]\n",
      " [0.6873725  0.6850975  0.6951349  0.6856058  0.29309875]\n",
      " [0.68700296 0.6847776  0.6946957  0.6852098  0.33105588]\n",
      " [0.68674713 0.6845526  0.6944008  0.68494344 0.35936266]\n",
      " [0.68966633 0.6874956  0.6972072  0.68788403 0.35446393]\n",
      " [0.68749404 0.68530023 0.69511604 0.68570805 0.34059772]\n",
      " [0.6896104  0.6874263  0.697252   0.68787515 0.29980594]\n",
      " [0.6881065  0.68585414 0.69587517 0.68636894 0.25334144]\n",
      " [0.68911684 0.6869219  0.6967907  0.6874999  0.15971008]\n",
      " [0.68861735 0.6863493  0.69643974 0.6868875  0.22496161]\n",
      " [0.68821174 0.68596625 0.6960769  0.6865164  0.21660498]]\n",
      "########\n",
      "ACTUAL TIME SERIES:\n",
      "tf.Tensor(\n",
      "[[0.01994669 0.01261971 0.0427874  0.01324555 0.65368619]\n",
      " [0.01903232 0.0118839  0.0431457  0.01326398 0.59440939]\n",
      " [0.01921547 0.01225207 0.04368217 0.01342977 0.59275758]\n",
      " [0.01921547 0.01169961 0.0427874  0.01250729 0.5941131 ]\n",
      " [0.0182984  0.01225207 0.04296662 0.01361386 0.57077591]\n",
      " [0.01939847 0.01225207 0.04386073 0.01398163 0.55413564]\n",
      " [0.01976409 0.01317015 0.04421745 0.01489869 0.55842034]\n",
      " [0.02067577 0.01408487 0.04457365 0.0150817  0.60322203]\n",
      " [0.0208577  0.01353644 0.04475155 0.01489869 0.5725674 ]\n",
      " [0.02067577 0.01335336 0.04510696 0.01526457 0.57165881]\n",
      " [0.0210395  0.01408487 0.04475155 0.01489869 0.56617883]\n",
      " [0.0204937  0.01317015 0.04403915 0.01379781 0.57019898]\n",
      " [0.01958135 0.01280332 0.04403915 0.01453227 0.53191773]\n",
      " [0.0203115  0.01371938 0.04457365 0.01471555 0.53577809]\n",
      " [0.02067577 0.0129868  0.04403915 0.01379781 0.54599018]\n",
      " [0.01959963 0.01243596 0.04421745 0.01398163 0.51882257]\n",
      " [0.01992844 0.0129868  0.04421745 0.01471555 0.52722009]\n",
      " [0.0204937  0.01317015 0.04421745 0.01379781 0.54483477]\n",
      " [0.01958135 0.01206805 0.04350348 0.01342977 0.53027297]\n",
      " [0.01921547 0.01280332 0.04386073 0.01453227 0.53054928]], shape=(20, 5), dtype=float64)\n",
      "DECODED TIME SERIES:\n",
      "[[0.01361823 0.00646943 0.03975391 0.00706798 0.6297391 ]\n",
      " [0.01231956 0.00510311 0.03825718 0.00575787 0.6184845 ]\n",
      " [0.01273191 0.00550836 0.03867388 0.00619632 0.6033234 ]\n",
      " [0.01967168 0.01248914 0.04558903 0.01319343 0.5882365 ]\n",
      " [0.02160347 0.01443511 0.04726219 0.01519811 0.57609564]\n",
      " [0.024122   0.01693416 0.04960132 0.01771224 0.56693864]\n",
      " [0.01976717 0.01258785 0.04543841 0.01335663 0.5701338 ]\n",
      " [0.01851249 0.01131755 0.04423821 0.01206321 0.58333445]\n",
      " [0.02308512 0.01594239 0.048751   0.0166375  0.5940263 ]\n",
      " [0.01772612 0.01052815 0.0436753  0.01123363 0.59021366]\n",
      " [0.01679772 0.00952262 0.04285407 0.01028568 0.5772445 ]\n",
      " [0.01967895 0.01242226 0.04557037 0.01319349 0.566643  ]\n",
      " [0.01814914 0.01087749 0.04416215 0.01167589 0.551471  ]\n",
      " [0.02085161 0.01358861 0.04664266 0.01441181 0.5461711 ]\n",
      " [0.01822484 0.0109151  0.04412866 0.01178569 0.53719074]\n",
      " [0.02248383 0.01521337 0.04824555 0.016083   0.53480756]\n",
      " [0.02659738 0.01936275 0.05210614 0.02025557 0.53478175]\n",
      " [0.02082694 0.01348555 0.04648501 0.0143432  0.5441554 ]\n",
      " [0.03050423 0.02325487 0.05606925 0.02408284 0.5429913 ]\n",
      " [0.02338976 0.01612669 0.04918289 0.01694942 0.55091816]]\n",
      "########\n",
      "ACTUAL TIME SERIES:\n",
      "tf.Tensor(\n",
      "[[0.2989261  0.29345432 0.3152932  0.29467104 0.66644623]\n",
      " [0.29875398 0.29375304 0.31581602 0.29479043 0.66812033]\n",
      " [0.2989261  0.2936336  0.3154676  0.29443208 0.68564752]\n",
      " [0.29862926 0.29500377 0.31604802 0.29574355 0.70681239]\n",
      " [0.29987362 0.29535998 0.31674269 0.29615939 0.71798905]\n",
      " [0.30034603 0.2952413  0.31749301 0.29580299 0.66722725]\n",
      " [0.29993272 0.29458755 0.31656921 0.29544609 0.67807077]\n",
      " [0.29957791 0.29494435 0.31610599 0.29485011 0.69480914]\n",
      " [0.29898543 0.29369333 0.31599004 0.29455159 0.72674649]\n",
      " [0.29880741 0.29530064 0.31569993 0.29425271 0.55643669]\n",
      " [0.29839153 0.29291573 0.31575798 0.29407321 0.32171611]\n",
      " [0.29827258 0.29309539 0.31581602 0.29449184 0.3595214 ]\n",
      " [0.29862926 0.29333474 0.31604802 0.29449184 0.30853481]\n",
      " [0.29839153 0.29321509 0.31575798 0.29461132 0.32259563]\n",
      " [0.29856985 0.29333474 0.31581602 0.29425271 0.30523277]\n",
      " [0.29839153 0.29303552 0.31587404 0.29425271 0.20883939]\n",
      " [0.29809404 0.29303552 0.31575798 0.29443208 0.15369443]\n",
      " [0.29856985 0.29567776 0.31604802 0.29425271 0.4137872 ]\n",
      " [0.29851042 0.2935141  0.31604802 0.29485011 0.34142402]\n",
      " [0.29874804 0.29618916 0.31459435 0.29757991 0.52821513]], shape=(20, 5), dtype=float64)\n",
      "DECODED TIME SERIES:\n",
      "[[0.32537284 0.32092345 0.3416034  0.32131556 0.66934663]\n",
      " [0.32659313 0.32218587 0.34243888 0.32258335 0.66049117]\n",
      " [0.32681063 0.32235545 0.3427527  0.32277143 0.6592062 ]\n",
      " [0.3265732  0.32213753 0.34263045 0.3225363  0.6605724 ]\n",
      " [0.32568944 0.3212523  0.34175897 0.32164538 0.6679111 ]\n",
      " [0.32848623 0.3240558  0.34449226 0.32443258 0.6679199 ]\n",
      " [0.325562   0.32114974 0.34159228 0.3215177  0.67551917]\n",
      " [0.3251994  0.32075086 0.3412755  0.3211198  0.69205475]\n",
      " [0.32743993 0.32297346 0.34351972 0.32331756 0.70061696]\n",
      " [0.326179   0.32165372 0.3423977  0.32223025 0.5187142 ]\n",
      " [0.32762367 0.32279223 0.34432435 0.3237559  0.31682178]\n",
      " [0.32877386 0.32402804 0.34525853 0.32494593 0.31778374]\n",
      " [0.32781267 0.32312256 0.3442024  0.3240329  0.30170578]\n",
      " [0.32882708 0.32413703 0.34516463 0.32504368 0.30033004]\n",
      " [0.32635498 0.32165855 0.34275433 0.3225484  0.30692023]\n",
      " [0.3251637  0.32039842 0.34184346 0.32141858 0.20209417]\n",
      " [0.3225217  0.31771326 0.33919895 0.31880775 0.17654711]\n",
      " [0.31728566 0.3124948  0.33378032 0.31336612 0.35940132]\n",
      " [0.32165408 0.3168364  0.33834678 0.31769866 0.37484044]\n",
      " [0.31752837 0.31283826 0.3343171  0.3135293  0.47384152]]\n",
      "########\n"
     ]
    }
   ],
   "source": [
    "predictions = autoencoder.predict(test_tensor)\n",
    "\n",
    "autoencoder.evaluate(test_tensor)\n",
    "\n",
    "for (y, y_hat) in itertools.islice(zip(test_tensor, predictions), 5):\n",
    "  print(f'ACTUAL TIME SERIES:')\n",
    "  print(y)\n",
    "  print(f'DECODED TIME SERIES:')\n",
    "  print(y_hat)\n",
    "  print('########')"
   ]
  },
  {
   "cell_type": "code",
   "execution_count": 34,
   "metadata": {
    "id": "33d2HbHkKXYW"
   },
   "outputs": [],
   "source": [
    "latent_vectors = encoder.predict(tf.convert_to_tensor(ds))"
   ]
  },
  {
   "cell_type": "code",
   "execution_count": 35,
   "metadata": {
    "id": "dcdfyX2DKRtq"
   },
   "outputs": [
    {
     "data": {
      "text/plain": [
       "(array([[-0.39861548, -0.03944566,  0.27158204, ..., -0.11444458,\n",
       "          0.07899548, -0.05214661],\n",
       "        [-0.2906114 , -0.01206935,  0.18873441, ..., -0.05542064,\n",
       "          0.10372353, -0.04873171],\n",
       "        [-0.2632178 , -0.2141946 ,  0.21472318, ...,  0.06679375,\n",
       "          0.08967863, -0.0856787 ],\n",
       "        ...,\n",
       "        [-0.0977696 ,  0.05081162,  0.34469345, ..., -0.05255457,\n",
       "         -0.12060191, -0.02156346],\n",
       "        [-0.14612226, -0.00444959,  0.3201872 , ..., -0.13124855,\n",
       "          0.04075433,  0.06133635],\n",
       "        [-0.11986099, -0.08506288,  0.07533296, ..., -0.21336697,\n",
       "          0.13933961,  0.08093411]], dtype=float32),\n",
       " (24123, 12))"
      ]
     },
     "execution_count": 35,
     "metadata": {},
     "output_type": "execute_result"
    }
   ],
   "source": [
    "latent_vectors, latent_vectors.shape"
   ]
  },
  {
   "cell_type": "code",
   "execution_count": 36,
   "metadata": {
    "id": "-ZmHxWHoDTis"
   },
   "outputs": [],
   "source": [
    "corr_df = pd.DataFrame(latent_vectors)"
   ]
  },
  {
   "cell_type": "code",
   "execution_count": 37,
   "metadata": {
    "id": "FOUT_sfsDX6t"
   },
   "outputs": [
    {
     "data": {
      "text/plain": [
       "<AxesSubplot:>"
      ]
     },
     "execution_count": 37,
     "metadata": {},
     "output_type": "execute_result"
    },
    {
     "data": {
      "image/png": "[encoded data removed]",
      "text/plain": [
       "<Figure size 842.4x595.44 with 2 Axes>"
      ]
     },
     "metadata": {},
     "output_type": "display_data"
    }
   ],
   "source": [
    "sns.heatmap(corr_df.corr(), vmin=-1, vmax=1)"
   ]
  },
  {
   "cell_type": "markdown",
   "metadata": {
    "id": "AvplKAdzBlI6"
   },
   "source": [
    "# Clustering"
   ]
  },
  {
   "cell_type": "markdown",
   "metadata": {
    "id": "6KAGa1gfXPTG"
   },
   "source": [
    "## Analyse distances between points"
   ]
  },
  {
   "cell_type": "code",
   "execution_count": 38,
   "metadata": {
    "id": "5ZhcXDS8bH37"
   },
   "outputs": [],
   "source": [
    "from scipy.spatial.distance import pdist, squareform\n",
    "\n",
    "distances = squareform(pdist(latent_vectors))"
   ]
  },
  {
   "cell_type": "code",
   "execution_count": 39,
   "metadata": {
    "id": "WupX6QyXHLHw"
   },
   "outputs": [
    {
     "data": {
      "text/plain": [
       "(24123, 24123)"
      ]
     },
     "execution_count": 39,
     "metadata": {},
     "output_type": "execute_result"
    }
   ],
   "source": [
    "distances.shape"
   ]
  },
  {
   "cell_type": "code",
   "execution_count": 40,
   "metadata": {
    "id": "y-RYK08lkfcD"
   },
   "outputs": [],
   "source": [
    "NUM_STEPS = 10\n",
    "eps_range = np.linspace(0.15, 0.25, NUM_STEPS)\n",
    "\n",
    "with open(f'eps_range_aapl', 'wb+') as f:\n",
    "  pickle.dump(eps_range, f)"
   ]
  },
  {
   "cell_type": "code",
   "execution_count": 41,
   "metadata": {
    "id": "v1jqUgbdQ-oi"
   },
   "outputs": [],
   "source": [
    "with open(f'eps_range_aapl', 'rb') as f:\n",
    "  eps_range = pickle.load(f)"
   ]
  },
  {
   "cell_type": "markdown",
   "metadata": {
    "id": "ykr8odfhCCkX"
   },
   "source": [
    "## Training clusters"
   ]
  },
  {
   "cell_type": "code",
   "execution_count": 42,
   "metadata": {
    "id": "zCjiab8Zl9dg"
   },
   "outputs": [],
   "source": [
    "# clusterings = []\n",
    "# for eps in tqdm(eps_range):\n",
    "#   optics_instance = optics(latent_vectors, eps, 3)\n",
    "#   optics_instance.process()\n",
    "#   clusterings.append(optics_instance) \n",
    "\n",
    "# results = {}\n",
    "# for eps, inst in zip(eps_range, clusterings):\n",
    "#   results[eps] = { \n",
    "#       'noise': inst.get_noise(),\n",
    "#       'clusters': inst.get_clusters()\n",
    "#   } \n",
    "\n",
    "# with open(f'{ROOT}/clusters/appl-{TIME_STEPS}-{TIME_STEPS_COMMON}-{NUM_STEPS}', 'wb+') as f:\n",
    "#   pickle.dump(results, f)"
   ]
  },
  {
   "cell_type": "code",
   "execution_count": 43,
   "metadata": {},
   "outputs": [
    {
     "data": {
      "text/plain": [
       "(20, 8, 10)"
      ]
     },
     "execution_count": 43,
     "metadata": {},
     "output_type": "execute_result"
    }
   ],
   "source": [
    "TIME_STEPS, TIME_STEPS_COMMON, NUM_STEPS"
   ]
  },
  {
   "cell_type": "markdown",
   "metadata": {
    "id": "ABRLX-_PEiYG"
   },
   "source": [
    "## Loading clusters"
   ]
  },
  {
   "cell_type": "code",
   "execution_count": 44,
   "metadata": {
    "id": "9s8vjWLZEhvf"
   },
   "outputs": [],
   "source": [
    "with open(f'appl-{TIME_STEPS}-{TIME_STEPS_COMMON}-{NUM_STEPS}', 'rb') as f:\n",
    "  results = pickle.load(f)"
   ]
  },
  {
   "cell_type": "markdown",
   "metadata": {
    "id": "M24r_YNC3wG1"
   },
   "source": [
    "# Clustering analysis"
   ]
  },
  {
   "cell_type": "code",
   "execution_count": 45,
   "metadata": {
    "id": "UF-t7r0K0P5Q"
   },
   "outputs": [],
   "source": [
    "def normalize_labels(latent_vectors, clusters, noise_cluster):\n",
    "  labels = [0 for _ in range(len(latent_vectors))]\n",
    "  for c_idx, cluster in enumerate(clusters):\n",
    "    for member in cluster:\n",
    "      labels[member] = c_idx\n",
    "  for member in noise_cluster:\n",
    "    labels[member] = -1\n",
    "  return labels"
   ]
  },
  {
   "cell_type": "code",
   "execution_count": 46,
   "metadata": {
    "id": "uA6-rNLl4_tC"
   },
   "outputs": [
    {
     "data": {
      "text/plain": [
       "(24123, 12)"
      ]
     },
     "execution_count": 46,
     "metadata": {},
     "output_type": "execute_result"
    }
   ],
   "source": [
    "latent_vectors.shape"
   ]
  },
  {
   "cell_type": "code",
   "execution_count": 47,
   "metadata": {
    "id": "DpRNqiN94EDe"
   },
   "outputs": [],
   "source": [
    "clustering_labels = {}\n",
    "for k, v in results.items():\n",
    "  clustering_labels[k] = normalize_labels(latent_vectors, v['clusters'], v['noise'])"
   ]
  },
  {
   "cell_type": "code",
   "execution_count": 48,
   "metadata": {
    "id": "uoGWLCCnCMhK"
   },
   "outputs": [],
   "source": [
    "def get_cluster(latent_vectors, labels, label):\n",
    "  # Get all points belonging to cluster labeled [label]\n",
    "  result = []\n",
    "  for lv, l in zip(latent_vectors, labels):\n",
    "    if l == label:\n",
    "      result.append(lv)\n",
    "  return np.array(result)"
   ]
  },
  {
   "cell_type": "code",
   "execution_count": 49,
   "metadata": {
    "id": "BqIb7GOP9eOG"
   },
   "outputs": [],
   "source": [
    "def calculate_cluster_variance(observations: np.ndarray):\n",
    "  # Calculate the variance of the set of observations\n",
    "  mean = observations.mean()\n",
    "  var = 0.0\n",
    "  for o in observations:\n",
    "    var += ((o - mean) ** 2).sum()\n",
    "  return var"
   ]
  },
  {
   "cell_type": "code",
   "execution_count": 50,
   "metadata": {
    "id": "Wivw2k7i7xDI"
   },
   "outputs": [
    {
     "data": {
      "text/plain": [
       "10466.423843063414"
      ]
     },
     "execution_count": 50,
     "metadata": {},
     "output_type": "execute_result"
    }
   ],
   "source": [
    "total_var = calculate_cluster_variance(latent_vectors)\n",
    "total_var"
   ]
  },
  {
   "cell_type": "markdown",
   "metadata": {
    "id": "P_XHFWWtaSrF"
   },
   "source": [
    "## Find ideal epsilon"
   ]
  },
  {
   "cell_type": "code",
   "execution_count": 51,
   "metadata": {
    "id": "l1C7S-QOBIw-"
   },
   "outputs": [],
   "source": [
    "plot = []\n",
    "for eps in list(clustering_labels.keys()):\n",
    "  labels = clustering_labels[eps]\n",
    "  exp_var = 0.0\n",
    "  for l in set(labels):\n",
    "    if l == -1:\n",
    "      continue\n",
    "    cluster = get_cluster(latent_vectors, labels, l)\n",
    "    exp_var += calculate_cluster_variance(cluster)\n",
    "  plot.append((eps, exp_var/total_var))"
   ]
  },
  {
   "cell_type": "code",
   "execution_count": 52,
   "metadata": {
    "id": "N_8DFnJPCBrO"
   },
   "outputs": [
    {
     "data": {
      "text/plain": [
       "[<matplotlib.lines.Line2D at 0x1de72059ac0>]"
      ]
     },
     "execution_count": 52,
     "metadata": {},
     "output_type": "execute_result"
    },
    {
     "data": {
      "image/png": "[encoded data removed]",
      "text/plain": [
       "<Figure size 842.4x595.44 with 1 Axes>"
      ]
     },
     "metadata": {},
     "output_type": "display_data"
    }
   ],
   "source": [
    "plt.plot([p[0] for p in plot], [p[1] for p in plot], 'yo--')"
   ]
  },
  {
   "cell_type": "code",
   "execution_count": 53,
   "metadata": {
    "id": "hi1byMB8LayU"
   },
   "outputs": [
    {
     "data": {
      "text/plain": [
       "[<matplotlib.lines.Line2D at 0x1de720b8c40>]"
      ]
     },
     "execution_count": 53,
     "metadata": {},
     "output_type": "execute_result"
    },
    {
     "data": {
      "image/png": "[encoded data removed]",
      "text/plain": [
       "<Figure size 842.4x595.44 with 1 Axes>"
      ]
     },
     "metadata": {},
     "output_type": "display_data"
    }
   ],
   "source": [
    "plt.plot([p[0] for p in plot][:20], [p[1] for p in plot][:20], 'go--')"
   ]
  },
  {
   "cell_type": "code",
   "execution_count": 54,
   "metadata": {
    "id": "aO6trD_f60eE"
   },
   "outputs": [
    {
     "data": {
      "text/plain": [
       "Counter({0: 21204,\n",
       "         -1: 2786,\n",
       "         1: 3,\n",
       "         2: 9,\n",
       "         3: 6,\n",
       "         4: 6,\n",
       "         5: 8,\n",
       "         6: 6,\n",
       "         7: 3,\n",
       "         8: 5,\n",
       "         9: 2,\n",
       "         10: 3,\n",
       "         11: 2,\n",
       "         12: 3,\n",
       "         13: 2,\n",
       "         14: 1,\n",
       "         15: 2,\n",
       "         16: 3,\n",
       "         17: 4,\n",
       "         18: 6,\n",
       "         19: 3,\n",
       "         20: 4,\n",
       "         21: 11,\n",
       "         22: 9,\n",
       "         23: 6,\n",
       "         24: 2,\n",
       "         25: 4,\n",
       "         26: 4,\n",
       "         27: 3,\n",
       "         28: 3,\n",
       "         29: 3,\n",
       "         30: 1,\n",
       "         31: 2,\n",
       "         32: 2,\n",
       "         33: 2})"
      ]
     },
     "execution_count": 54,
     "metadata": {},
     "output_type": "execute_result"
    }
   ],
   "source": [
    "labels = list(clustering_labels.values())[7]\n",
    "pts_majority = [x[0] for x in zip(latent_vectors, labels) if x[1] == 0]\n",
    "pts_non_majority = [x[0] for x in zip(latent_vectors, labels) if x[1] != 0]\n",
    "Counter(labels)"
   ]
  },
  {
   "cell_type": "markdown",
   "metadata": {
    "id": "Q1CeYK4qXcM6"
   },
   "source": [
    "## PCA 3D visualization of latent space"
   ]
  },
  {
   "cell_type": "code",
   "execution_count": 55,
   "metadata": {
    "id": "9DPETHZMD_bT"
   },
   "outputs": [],
   "source": [
    "pca_init = PCA(n_components=3)\n",
    "pca_latent = pca_init.fit_transform(latent_vectors)"
   ]
  },
  {
   "cell_type": "code",
   "execution_count": 56,
   "metadata": {
    "id": "5LshJhx-E_SS"
   },
   "outputs": [
    {
     "data": {
      "text/plain": [
       "(array([[ 0.4361806 ,  0.58003235,  0.0138885 ],\n",
       "        [ 0.5185503 ,  0.7386032 , -0.04198968],\n",
       "        [ 0.50816727,  0.5034649 ,  0.01869714],\n",
       "        ...,\n",
       "        [-0.44651133,  0.01395842, -0.43308318],\n",
       "        [-0.36147988,  0.04021248, -0.3049392 ],\n",
       "        [-0.34467155, -0.10965294,  0.10183435]], dtype=float32),\n",
       " (24123, 3))"
      ]
     },
     "execution_count": 56,
     "metadata": {},
     "output_type": "execute_result"
    }
   ],
   "source": [
    "pca_latent, pca_latent.shape"
   ]
  },
  {
   "cell_type": "code",
   "execution_count": 57,
   "metadata": {
    "id": "wf-LKfxuEkxN"
   },
   "outputs": [],
   "source": [
    "# ax = plt.axes(projection='3d')\n",
    "\n",
    "# pca_maj = pca_init.transform(pts_majority)\n",
    "# pca_min = pca_init.transform(pts_non_majority)\n",
    "\n",
    "# maj = ax.scatter3D(pca_maj[:, 0], pca_maj[:, 1], pca_maj[:, 2], c='grey')\n",
    "# nonmaj = ax.scatter3D(pca_min[:, 0], pca_min[:, 1], pca_min[:, 2], c='green')\n",
    "# artificial = ax.scatter3D(fake_pca[:500, 0], fake_pca[:500, 1], fake_pca[:500, 2], c='red')\n",
    "# # ax.set_title('Majority, minority latent points distribution')\n",
    "# ax.legend([maj, nonmaj, artificial], ['Majority', 'Minority', 'Synthesised'])\n",
    "# # ax.legend([maj, nonmaj], ['Majority', 'Minority'])"
   ]
  },
  {
   "cell_type": "code",
   "execution_count": 58,
   "metadata": {
    "id": "rwpw--o3sARR"
   },
   "outputs": [],
   "source": [
    "# decoder.save('/content/gdrive/MyDrive/thesis/models/decoder.h5', save_format='h5')\n",
    "# encoder.save('/content/gdrive/MyDrive/thesis/models/encoder.h5', save_format='h5')\n",
    "# gan.gan.get_layer('critic').save('/content/gdrive/MyDrive/thesis/models/critic.h5', save_format='critic')\n",
    "# gan.gan.get_layer('generator').save('/content/gdrive/MyDrive/thesis/models/generator.h5', save_format='critic')"
   ]
  },
  {
   "cell_type": "markdown",
   "metadata": {
    "id": "Xn0JO-F4Jrsd"
   },
   "source": [
    "# GAN Network"
   ]
  },
  {
   "cell_type": "markdown",
   "metadata": {
    "id": "cqHEB_7-X1a1"
   },
   "source": [
    "## Define network"
   ]
  },
  {
   "cell_type": "code",
   "execution_count": 59,
   "metadata": {
    "id": "ksXWNUk3abz_"
   },
   "outputs": [],
   "source": [
    "class ClipConstraint(tf.keras.constraints.Constraint):\n",
    "\t# set clip value when initialized\n",
    "\tdef __init__(self, clip_value):\n",
    "\t\tself.clip_value = clip_value\n",
    " \n",
    "\t# clip model weights to hypercube\n",
    "\tdef __call__(self, weights):\n",
    "\t\treturn backend.clip(weights, -self.clip_value, self.clip_value)\n",
    " \n",
    "\t# get the config\n",
    "\tdef get_config(self):\n",
    "\t\treturn {'clip_value': self.clip_value}"
   ]
  },
  {
   "cell_type": "code",
   "execution_count": 60,
   "metadata": {
    "id": "oliNdS4KJvQO"
   },
   "outputs": [],
   "source": [
    "def wasserstein_loss(y_true, y_pred):\n",
    "  return backend.mean(y_true * y_pred)\n",
    "\n",
    "class GAN:\n",
    "\n",
    "  def __init__(self, real_data: List, batch_size: int):\n",
    "    self.real_data = tf.convert_to_tensor(real_data)\n",
    "    self.batch_size = batch_size\n",
    "    self.data_size = self.real_data.shape[1]\n",
    "    self.noise_size = 15\n",
    "\n",
    "    const = ClipConstraint(0.05)\n",
    "\n",
    "    critic_input = keras.Input(shape=(self.data_size, 1))\n",
    "    x = layers.Conv1D(16, 4, 2, padding='same', kernel_constraint=const)(critic_input)\n",
    "    x = layers.LeakyReLU()(x)\n",
    "    x = layers.Conv1D(16, 4, 2, padding='same', kernel_constraint=const)(x)\n",
    "    x = layers.LeakyReLU()(x)\n",
    "    x = layers.Conv1D(16, 4, 2, padding='same', kernel_constraint=const)(x)\n",
    "    x = layers.LeakyReLU()(x)\n",
    "    x = layers.Flatten()(x)\n",
    "    x = layers.Dense(100, kernel_constraint=const)(x)\n",
    "    critic_output = layers.Dense(1, activation='linear')(x)\n",
    "    critic = keras.Model(critic_input, critic_output, name='critic')\n",
    "    critic.compile(loss=wasserstein_loss, optimizer=tf.keras.optimizers.RMSprop(learning_rate=0.0001))\n",
    "\n",
    "    generator_input = keras.Input(shape=(self.noise_size, 1))\n",
    "    x = layers.Dense(20)(generator_input)\n",
    "    x = layers.Conv1D(16, 4, 2, padding='same')(x)\n",
    "    x = layers.LeakyReLU()(x)\n",
    "    x = layers.Conv1D(16, 4, 2, padding='same')(x)\n",
    "    x = layers.LeakyReLU()(x)\n",
    "    x = layers.Flatten()(x)\n",
    "    x = layers.Dense(100)(x)\n",
    "    x = layers.Dense(100)(x)\n",
    "    generator_output = layers.Dense(self.data_size)(x)\n",
    "    generator = keras.Model(generator_input, generator_output, name='generator')\n",
    "    \n",
    "    # Define the combined generator and critic model, for updating the generator\n",
    "    self.gan = keras.Sequential()\n",
    "    self.gan.add(generator)\n",
    "    self.gan.add(critic)\n",
    "    self.gan.compile(loss=wasserstein_loss, optimizer=tf.keras.optimizers.RMSprop(learning_rate=0.0001))\n",
    "\n",
    "  def _get_noise(self, how_many: int):\n",
    "    # Sample random noise\n",
    "    x_input = np.random.randn(how_many, self.noise_size)\n",
    "    # reshape into a batch of inputs for the network\n",
    "    x_input = x_input.reshape(how_many, self.noise_size)\n",
    "    return x_input\n",
    "\n",
    "  def _clip_weights(self):\n",
    "    for l in self.gan.get_layer('critic').layers:\n",
    "      weights = l.get_weights()\n",
    "      weights = [np.clip(w, -0.01, 0.01) for w in weights]\n",
    "      l.set_weights(weights)\n",
    "\n",
    "  def train(self, num_epochs=1000, disc_steps=5):\n",
    "    for i in range(num_epochs):\n",
    "      d_real_all = []\n",
    "      d_fake_all = []\n",
    "      \n",
    "      # Unfreeze the generator so we can train it\n",
    "      self.gan.get_layer('critic').trainable = True\n",
    "\n",
    "      for j in range(disc_steps):\n",
    "        # Train the critic [disc_steps] times as often\n",
    "        X_real = tf.convert_to_tensor([random.choice(self.real_data) for k in range(self.batch_size)])\n",
    "        y_real = tf.convert_to_tensor([-1.0 for k in range(self.batch_size)])\n",
    "\n",
    "        noise_batch = self._get_noise(self.batch_size)\n",
    "        X_fake = self.gan.get_layer('generator').predict(noise_batch)\n",
    "        y_fake = tf.convert_to_tensor([1.0 for k in range(self.batch_size)])\n",
    "\n",
    "        real_l = self.gan.get_layer('critic').train_on_batch(X_real, y_real)\n",
    "        self._clip_weights()\n",
    "        fake_l = self.gan.get_layer('critic').train_on_batch(X_fake, y_fake)\n",
    "        self._clip_weights()\n",
    "        d_real_all.append(real_l)\n",
    "        d_fake_all.append(fake_l)\n",
    "      \n",
    "      # Freeze the critic so we can update only the generator\n",
    "      self.gan.get_layer('critic').trainable = False\n",
    "\n",
    "      noise_batch = self._get_noise(self.batch_size)\n",
    "      # INVERSE THE LABELS IN ORDER TO INCETIVISE THE GENERATOR TOWARDS REAL\n",
    "      y_fake = tf.convert_to_tensor([-1.0 for k in range(self.batch_size)])\n",
    "      g_loss = self.gan.train_on_batch(noise_batch, y_fake)\n",
    "        \n",
    "      # Recall that the Wasserstein loss seeks scores for real and fake that are more different during training\n",
    "      # The benefit of the WGAN is that the loss correlates with generated image quality. Lower loss means better quality images, for a stable training process\n",
    "      print(f'EPOCH {i+1} CRIT REAL {np.mean(d_real_all)} CRIT FAKE {np.mean(d_fake_all)} GENR {g_loss}')\n",
    "      self.gan.save_weights(f'{checkpoint_path}/gan-log-3.weights')\n",
    "\n",
    "      if (i+1) % 20 == 0:\n",
    "        clear_output(wait=False)\n",
    "        self.benchmark()\n",
    "        self.gan.save_weights(f'{checkpoint_path}/gan-log-3.weights')\n",
    "  \n",
    "  def generate_examples(self, num_examples: int):\n",
    "    noise = self._get_noise(num_examples)\n",
    "    return self.gan.get_layer('generator').predict(noise)\n",
    "  \n",
    "  def benchmark(self, num=10):\n",
    "    noise = self._get_noise(num)\n",
    "    real = tf.convert_to_tensor([random.choice(self.real_data) for k in range(num)])\n",
    "    print(f\"FAKE\\n{self.gan.predict(noise)}\\nREAL\\n{self.gan.get_layer('critic').predict(real)}\")\n",
    "    return self.gan.get_layer('generator').predict(noise), self.gan.get_layer('critic').predict(real)"
   ]
  },
  {
   "cell_type": "code",
   "execution_count": 61,
   "metadata": {
    "id": "KyYYGd42Q1rj"
   },
   "outputs": [],
   "source": [
    "gan = GAN(pts_non_majority, batch_size=64)\n",
    "# gan.train(num_epochs=200, disc_steps=20)"
   ]
  },
  {
   "cell_type": "markdown",
   "metadata": {
    "id": "BcuBn3EQYsFL"
   },
   "source": [
    "## Training and preparing fakes"
   ]
  },
  {
   "cell_type": "code",
   "execution_count": 62,
   "metadata": {
    "id": "21p7NF_S-Y-i"
   },
   "outputs": [
    {
     "data": {
      "text/plain": [
       "<tensorflow.python.training.tracking.util.CheckpointLoadStatus at 0x1de8136b5b0>"
      ]
     },
     "execution_count": 62,
     "metadata": {},
     "output_type": "execute_result"
    }
   ],
   "source": [
    "# gan.gan.save_weights(f'{checkpoint_path}/gan-log-3.weights')\n",
    "gan.gan.load_weights(f'gan-log-3.weights')"
   ]
  },
  {
   "cell_type": "code",
   "execution_count": 63,
   "metadata": {
    "id": "QRhsag1531R3"
   },
   "outputs": [
    {
     "name": "stdout",
     "output_type": "stream",
     "text": [
      "Model: \"sequential\"\n",
      "_________________________________________________________________\n",
      "Layer (type)                 Output Shape              Param #   \n",
      "=================================================================\n",
      "generator (Functional)       (None, 12)                20188     \n",
      "_________________________________________________________________\n",
      "critic (Functional)          (None, 1)                 5561      \n",
      "=================================================================\n",
      "Total params: 25,749\n",
      "Trainable params: 25,749\n",
      "Non-trainable params: 0\n",
      "_________________________________________________________________\n"
     ]
    }
   ],
   "source": [
    "gan.gan.summary()"
   ]
  },
  {
   "cell_type": "code",
   "execution_count": 64,
   "metadata": {
    "id": "i9dDLqMbIDBp"
   },
   "outputs": [
    {
     "name": "stdout",
     "output_type": "stream",
     "text": [
      "Model: \"generator\"\n",
      "_________________________________________________________________\n",
      "Layer (type)                 Output Shape              Param #   \n",
      "=================================================================\n",
      "input_4 (InputLayer)         [(None, 15, 1)]           0         \n",
      "_________________________________________________________________\n",
      "dense_3 (Dense)              (None, 15, 20)            40        \n",
      "_________________________________________________________________\n",
      "conv1d_9 (Conv1D)            (None, 8, 16)             1296      \n",
      "_________________________________________________________________\n",
      "leaky_re_lu_3 (LeakyReLU)    (None, 8, 16)             0         \n",
      "_________________________________________________________________\n",
      "conv1d_10 (Conv1D)           (None, 4, 16)             1040      \n",
      "_________________________________________________________________\n",
      "leaky_re_lu_4 (LeakyReLU)    (None, 4, 16)             0         \n",
      "_________________________________________________________________\n",
      "flatten_1 (Flatten)          (None, 64)                0         \n",
      "_________________________________________________________________\n",
      "dense_4 (Dense)              (None, 100)               6500      \n",
      "_________________________________________________________________\n",
      "dense_5 (Dense)              (None, 100)               10100     \n",
      "_________________________________________________________________\n",
      "dense_6 (Dense)              (None, 12)                1212      \n",
      "=================================================================\n",
      "Total params: 20,188\n",
      "Trainable params: 20,188\n",
      "Non-trainable params: 0\n",
      "_________________________________________________________________\n"
     ]
    }
   ],
   "source": [
    "gan.gan.get_layer('generator').summary()"
   ]
  },
  {
   "cell_type": "code",
   "execution_count": 65,
   "metadata": {
    "id": "d6Hvz0B0TA9H"
   },
   "outputs": [],
   "source": [
    "pts_non_majority_t = tf.convert_to_tensor(pts_non_majority)"
   ]
  },
  {
   "cell_type": "code",
   "execution_count": 66,
   "metadata": {
    "id": "4929muZSVB4A"
   },
   "outputs": [
    {
     "data": {
      "text/plain": [
       "<tf.Tensor: shape=(12,), dtype=float32, numpy=\n",
       "array([-0.2906114 , -0.01206935,  0.18873441, -0.54608124, -0.340461  ,\n",
       "       -0.06134724, -0.03871496,  0.51779324,  0.11520461, -0.05542064,\n",
       "        0.10372353, -0.04873171], dtype=float32)>"
      ]
     },
     "execution_count": 66,
     "metadata": {},
     "output_type": "execute_result"
    }
   ],
   "source": [
    "pts_non_majority_t[0]"
   ]
  },
  {
   "cell_type": "code",
   "execution_count": 67,
   "metadata": {
    "id": "Rdbzi8nITdSO"
   },
   "outputs": [
    {
     "data": {
      "text/plain": [
       "(2919, 20, 5)"
      ]
     },
     "execution_count": 67,
     "metadata": {},
     "output_type": "execute_result"
    }
   ],
   "source": [
    "decoder.predict(pts_non_majority_t).shape"
   ]
  },
  {
   "cell_type": "markdown",
   "metadata": {
    "id": "qyFnSrW2Y9r9"
   },
   "source": [
    "## Generate fakes"
   ]
  },
  {
   "cell_type": "code",
   "execution_count": 68,
   "metadata": {
    "id": "Eo9EOCaeUWyQ"
   },
   "outputs": [],
   "source": [
    "fake_examples = gan.generate_examples(2919)"
   ]
  },
  {
   "cell_type": "code",
   "execution_count": 69,
   "metadata": {
    "id": "HfT0p-x3I9Zb"
   },
   "outputs": [],
   "source": [
    "fake_pca = pca_init.transform(fake_examples)"
   ]
  },
  {
   "cell_type": "code",
   "execution_count": 70,
   "metadata": {
    "id": "as93RmoxXTI8"
   },
   "outputs": [
    {
     "data": {
      "text/plain": [
       "(2919, 20, 5)"
      ]
     },
     "execution_count": 70,
     "metadata": {},
     "output_type": "execute_result"
    }
   ],
   "source": [
    "decoder.predict(fake_examples).shape"
   ]
  },
  {
   "cell_type": "code",
   "execution_count": 71,
   "metadata": {
    "id": "WEOb8k8ZXhBd"
   },
   "outputs": [
    {
     "data": {
      "text/plain": [
       "(2919, 12)"
      ]
     },
     "execution_count": 71,
     "metadata": {},
     "output_type": "execute_result"
    }
   ],
   "source": [
    "np.array(pts_non_majority).shape"
   ]
  },
  {
   "cell_type": "code",
   "execution_count": 72,
   "metadata": {
    "id": "CrE2hanvsD_a"
   },
   "outputs": [
    {
     "data": {
      "text/html": [
       "<div>\n",
       "<style scoped>\n",
       "    .dataframe tbody tr th:only-of-type {\n",
       "        vertical-align: middle;\n",
       "    }\n",
       "\n",
       "    .dataframe tbody tr th {\n",
       "        vertical-align: top;\n",
       "    }\n",
       "\n",
       "    .dataframe thead th {\n",
       "        text-align: right;\n",
       "    }\n",
       "</style>\n",
       "<table border=\"1\" class=\"dataframe\">\n",
       "  <thead>\n",
       "    <tr style=\"text-align: right;\">\n",
       "      <th></th>\n",
       "      <th>0</th>\n",
       "      <th>1</th>\n",
       "      <th>2</th>\n",
       "      <th>3</th>\n",
       "      <th>4</th>\n",
       "      <th>5</th>\n",
       "      <th>6</th>\n",
       "      <th>7</th>\n",
       "      <th>8</th>\n",
       "      <th>9</th>\n",
       "      <th>10</th>\n",
       "      <th>11</th>\n",
       "    </tr>\n",
       "  </thead>\n",
       "  <tbody>\n",
       "    <tr>\n",
       "      <th>0</th>\n",
       "      <td>-0.290611</td>\n",
       "      <td>-0.012069</td>\n",
       "      <td>0.188734</td>\n",
       "      <td>-0.546081</td>\n",
       "      <td>-0.340461</td>\n",
       "      <td>-0.061347</td>\n",
       "      <td>-0.038715</td>\n",
       "      <td>0.517793</td>\n",
       "      <td>0.115205</td>\n",
       "      <td>-0.055421</td>\n",
       "      <td>0.103724</td>\n",
       "      <td>-0.048732</td>\n",
       "    </tr>\n",
       "    <tr>\n",
       "      <th>1</th>\n",
       "      <td>-0.263218</td>\n",
       "      <td>-0.214195</td>\n",
       "      <td>0.214723</td>\n",
       "      <td>-0.339556</td>\n",
       "      <td>-0.110675</td>\n",
       "      <td>0.074956</td>\n",
       "      <td>-0.052716</td>\n",
       "      <td>0.471068</td>\n",
       "      <td>0.125437</td>\n",
       "      <td>0.066794</td>\n",
       "      <td>0.089679</td>\n",
       "      <td>-0.085679</td>\n",
       "    </tr>\n",
       "    <tr>\n",
       "      <th>2</th>\n",
       "      <td>-0.133759</td>\n",
       "      <td>0.173298</td>\n",
       "      <td>0.342326</td>\n",
       "      <td>-0.564784</td>\n",
       "      <td>-0.218631</td>\n",
       "      <td>0.259299</td>\n",
       "      <td>-0.098261</td>\n",
       "      <td>0.305348</td>\n",
       "      <td>0.087232</td>\n",
       "      <td>0.169084</td>\n",
       "      <td>-0.198754</td>\n",
       "      <td>-0.164711</td>\n",
       "    </tr>\n",
       "    <tr>\n",
       "      <th>3</th>\n",
       "      <td>-0.044600</td>\n",
       "      <td>0.032486</td>\n",
       "      <td>0.393923</td>\n",
       "      <td>-0.457022</td>\n",
       "      <td>-0.187116</td>\n",
       "      <td>-0.095602</td>\n",
       "      <td>-0.179738</td>\n",
       "      <td>0.401243</td>\n",
       "      <td>-0.125618</td>\n",
       "      <td>-0.111320</td>\n",
       "      <td>0.136679</td>\n",
       "      <td>-0.047606</td>\n",
       "    </tr>\n",
       "    <tr>\n",
       "      <th>4</th>\n",
       "      <td>-0.023935</td>\n",
       "      <td>-0.094080</td>\n",
       "      <td>0.255595</td>\n",
       "      <td>-0.486529</td>\n",
       "      <td>-0.253267</td>\n",
       "      <td>-0.188835</td>\n",
       "      <td>-0.126538</td>\n",
       "      <td>0.532069</td>\n",
       "      <td>0.145826</td>\n",
       "      <td>0.010506</td>\n",
       "      <td>-0.104612</td>\n",
       "      <td>-0.068177</td>\n",
       "    </tr>\n",
       "    <tr>\n",
       "      <th>...</th>\n",
       "      <td>...</td>\n",
       "      <td>...</td>\n",
       "      <td>...</td>\n",
       "      <td>...</td>\n",
       "      <td>...</td>\n",
       "      <td>...</td>\n",
       "      <td>...</td>\n",
       "      <td>...</td>\n",
       "      <td>...</td>\n",
       "      <td>...</td>\n",
       "      <td>...</td>\n",
       "      <td>...</td>\n",
       "    </tr>\n",
       "    <tr>\n",
       "      <th>2914</th>\n",
       "      <td>-0.103215</td>\n",
       "      <td>0.175290</td>\n",
       "      <td>0.320947</td>\n",
       "      <td>0.225412</td>\n",
       "      <td>-0.488490</td>\n",
       "      <td>0.287575</td>\n",
       "      <td>-0.118537</td>\n",
       "      <td>0.500052</td>\n",
       "      <td>0.053928</td>\n",
       "      <td>-0.014576</td>\n",
       "      <td>-0.257693</td>\n",
       "      <td>0.101007</td>\n",
       "    </tr>\n",
       "    <tr>\n",
       "      <th>2915</th>\n",
       "      <td>-0.132599</td>\n",
       "      <td>-0.099102</td>\n",
       "      <td>-0.059437</td>\n",
       "      <td>0.381783</td>\n",
       "      <td>0.289663</td>\n",
       "      <td>-0.265213</td>\n",
       "      <td>0.036844</td>\n",
       "      <td>0.465412</td>\n",
       "      <td>-0.001449</td>\n",
       "      <td>0.006046</td>\n",
       "      <td>0.060676</td>\n",
       "      <td>0.123346</td>\n",
       "    </tr>\n",
       "    <tr>\n",
       "      <th>2916</th>\n",
       "      <td>-0.090910</td>\n",
       "      <td>-0.007915</td>\n",
       "      <td>-0.091570</td>\n",
       "      <td>0.255393</td>\n",
       "      <td>-0.043288</td>\n",
       "      <td>0.167167</td>\n",
       "      <td>0.131810</td>\n",
       "      <td>0.478587</td>\n",
       "      <td>-0.193937</td>\n",
       "      <td>0.289847</td>\n",
       "      <td>0.154536</td>\n",
       "      <td>0.126080</td>\n",
       "    </tr>\n",
       "    <tr>\n",
       "      <th>2917</th>\n",
       "      <td>-0.105453</td>\n",
       "      <td>0.057376</td>\n",
       "      <td>0.127530</td>\n",
       "      <td>0.391568</td>\n",
       "      <td>-0.013333</td>\n",
       "      <td>-0.045720</td>\n",
       "      <td>-0.118098</td>\n",
       "      <td>0.370095</td>\n",
       "      <td>0.036993</td>\n",
       "      <td>-0.047905</td>\n",
       "      <td>0.383159</td>\n",
       "      <td>-0.006004</td>\n",
       "    </tr>\n",
       "    <tr>\n",
       "      <th>2918</th>\n",
       "      <td>-0.103805</td>\n",
       "      <td>0.128498</td>\n",
       "      <td>-0.043518</td>\n",
       "      <td>0.336428</td>\n",
       "      <td>0.083621</td>\n",
       "      <td>-0.123882</td>\n",
       "      <td>-0.024652</td>\n",
       "      <td>-0.478087</td>\n",
       "      <td>-0.150461</td>\n",
       "      <td>-0.117574</td>\n",
       "      <td>-0.049368</td>\n",
       "      <td>-0.114823</td>\n",
       "    </tr>\n",
       "  </tbody>\n",
       "</table>\n",
       "<p>2919 rows × 12 columns</p>\n",
       "</div>"
      ],
      "text/plain": [
       "            0         1         2         3         4         5         6   \\\n",
       "0    -0.290611 -0.012069  0.188734 -0.546081 -0.340461 -0.061347 -0.038715   \n",
       "1    -0.263218 -0.214195  0.214723 -0.339556 -0.110675  0.074956 -0.052716   \n",
       "2    -0.133759  0.173298  0.342326 -0.564784 -0.218631  0.259299 -0.098261   \n",
       "3    -0.044600  0.032486  0.393923 -0.457022 -0.187116 -0.095602 -0.179738   \n",
       "4    -0.023935 -0.094080  0.255595 -0.486529 -0.253267 -0.188835 -0.126538   \n",
       "...        ...       ...       ...       ...       ...       ...       ...   \n",
       "2914 -0.103215  0.175290  0.320947  0.225412 -0.488490  0.287575 -0.118537   \n",
       "2915 -0.132599 -0.099102 -0.059437  0.381783  0.289663 -0.265213  0.036844   \n",
       "2916 -0.090910 -0.007915 -0.091570  0.255393 -0.043288  0.167167  0.131810   \n",
       "2917 -0.105453  0.057376  0.127530  0.391568 -0.013333 -0.045720 -0.118098   \n",
       "2918 -0.103805  0.128498 -0.043518  0.336428  0.083621 -0.123882 -0.024652   \n",
       "\n",
       "            7         8         9         10        11  \n",
       "0     0.517793  0.115205 -0.055421  0.103724 -0.048732  \n",
       "1     0.471068  0.125437  0.066794  0.089679 -0.085679  \n",
       "2     0.305348  0.087232  0.169084 -0.198754 -0.164711  \n",
       "3     0.401243 -0.125618 -0.111320  0.136679 -0.047606  \n",
       "4     0.532069  0.145826  0.010506 -0.104612 -0.068177  \n",
       "...        ...       ...       ...       ...       ...  \n",
       "2914  0.500052  0.053928 -0.014576 -0.257693  0.101007  \n",
       "2915  0.465412 -0.001449  0.006046  0.060676  0.123346  \n",
       "2916  0.478587 -0.193937  0.289847  0.154536  0.126080  \n",
       "2917  0.370095  0.036993 -0.047905  0.383159 -0.006004  \n",
       "2918 -0.478087 -0.150461 -0.117574 -0.049368 -0.114823  \n",
       "\n",
       "[2919 rows x 12 columns]"
      ]
     },
     "execution_count": 72,
     "metadata": {},
     "output_type": "execute_result"
    }
   ],
   "source": [
    "pnm_df = pd.DataFrame(pts_non_majority)\n",
    "pnm_df"
   ]
  },
  {
   "cell_type": "markdown",
   "metadata": {
    "id": "3SyrBxGcZQgU"
   },
   "source": [
    "## Correlation comparison with minority"
   ]
  },
  {
   "cell_type": "code",
   "execution_count": 73,
   "metadata": {
    "id": "_GJiCT8tyq6O"
   },
   "outputs": [
    {
     "data": {
      "text/plain": [
       "<AxesSubplot:>"
      ]
     },
     "execution_count": 73,
     "metadata": {},
     "output_type": "execute_result"
    },
    {
     "data": {
      "image/png": "[encoded data removed]",
      "text/plain": [
       "<Figure size 842.4x595.44 with 2 Axes>"
      ]
     },
     "metadata": {},
     "output_type": "display_data"
    }
   ],
   "source": [
    "sns.heatmap(pnm_df.corr(), vmin=-1, vmax=1)"
   ]
  },
  {
   "cell_type": "code",
   "execution_count": 74,
   "metadata": {
    "id": "E9GPvHvBXJ_i"
   },
   "outputs": [
    {
     "data": {
      "text/plain": [
       "<AxesSubplot:>"
      ]
     },
     "execution_count": 74,
     "metadata": {},
     "output_type": "execute_result"
    },
    {
     "data": {
      "image/png": "[encoded data removed]",
      "text/plain": [
       "<Figure size 842.4x595.44 with 2 Axes>"
      ]
     },
     "metadata": {},
     "output_type": "display_data"
    }
   ],
   "source": [
    "sns.heatmap(pd.DataFrame(fake_examples).corr(), vmin=-1, vmax=1)\n",
    "# gan.generate_examples(3935).shape"
   ]
  },
  {
   "cell_type": "code",
   "execution_count": 75,
   "metadata": {
    "id": "Bta6wFQ0X6e8"
   },
   "outputs": [
    {
     "data": {
      "text/plain": [
       "<AxesSubplot:>"
      ]
     },
     "execution_count": 75,
     "metadata": {},
     "output_type": "execute_result"
    },
    {
     "data": {
      "image/png": "[encoded data removed]",
      "text/plain": [
       "<Figure size 842.4x595.44 with 2 Axes>"
      ]
     },
     "metadata": {},
     "output_type": "display_data"
    }
   ],
   "source": [
    "sns.heatmap((pnm_df.corr() - pd.DataFrame(fake_examples).corr()).abs(), vmin=-1.5, vmax=1.5)"
   ]
  },
  {
   "cell_type": "code",
   "execution_count": 76,
   "metadata": {
    "id": "lP_kkfmB2qYd"
   },
   "outputs": [],
   "source": [
    "pts_non_majority_np = np.array(pts_non_majority)\n",
    "fake_examples = gan.generate_examples(pts_non_majority_np.shape[0])"
   ]
  },
  {
   "cell_type": "code",
   "execution_count": 77,
   "metadata": {
    "id": "Xf0H7cLNW4GD"
   },
   "outputs": [
    {
     "data": {
      "text/plain": [
       "(2919, 12)"
      ]
     },
     "execution_count": 77,
     "metadata": {},
     "output_type": "execute_result"
    }
   ],
   "source": [
    "pts_non_majority_np.shape"
   ]
  },
  {
   "cell_type": "code",
   "execution_count": 78,
   "metadata": {
    "id": "tYkMN1TDUIq8"
   },
   "outputs": [
    {
     "data": {
      "text/plain": [
       "(2919, 12)"
      ]
     },
     "execution_count": 78,
     "metadata": {},
     "output_type": "execute_result"
    }
   ],
   "source": [
    "fake_examples = np.array(fake_examples)\n",
    "fake_examples.shape"
   ]
  },
  {
   "cell_type": "code",
   "execution_count": 79,
   "metadata": {
    "id": "Z5ZrZdttXDYf"
   },
   "outputs": [
    {
     "data": {
      "text/plain": [
       "(2919, 12)"
      ]
     },
     "execution_count": 79,
     "metadata": {},
     "output_type": "execute_result"
    }
   ],
   "source": [
    "fake_examples.shape"
   ]
  },
  {
   "cell_type": "markdown",
   "metadata": {
    "id": "slVG_DZGZf_g"
   },
   "source": [
    "## Multivariate Wilcoxon"
   ]
  },
  {
   "cell_type": "code",
   "execution_count": 80,
   "metadata": {
    "id": "wlBWxH6S5FCy"
   },
   "outputs": [],
   "source": [
    "def multivariate_wilcoxon(distr_one, distr_two):\n",
    "  def sgn(val):\n",
    "    if val == 0: return 0\n",
    "    return val / abs(val)\n",
    "\n",
    "  distr_one_np = np.array(distr_one)\n",
    "  distr_two_np = np.array(distr_two)\n",
    "\n",
    "  print(distr_one.shape, distr_two.shape)\n",
    "\n",
    "  p, n = distr_one_np.shape\n",
    "  assert (p, n) == distr_two_np.shape\n",
    "  D = np.sum(distr_one - distr_two, 1, keepdims=True)\n",
    "  assert (p, 1) == D.shape\n",
    "  V = np.zeros((p, p))\n",
    "  X = distr_one_np - distr_two_np\n",
    "  X_sgn = np.vectorize(sgn)(X)\n",
    "  for i in range(p):\n",
    "    for j in range(p):\n",
    "      V[i, j] = (1/n) * np.dot(X_sgn[i, :], X_sgn[j, :])\n",
    "  D_star = np.transpose(D) @ np.linalg.inv(n * V) @ D\n",
    "  D_star = D_star[0, 0]\n",
    "  degrees_freedom = p\n",
    "  return 1 - stats.chi2.cdf(D_star, df=degrees_freedom)"
   ]
  },
  {
   "cell_type": "code",
   "execution_count": 81,
   "metadata": {
    "id": "5kyuF_u60ND7"
   },
   "outputs": [
    {
     "name": "stdout",
     "output_type": "stream",
     "text": [
      "(12, 2919) (12, 2919)\n"
     ]
    },
    {
     "data": {
      "text/plain": [
       "0.8466267602077453"
      ]
     },
     "execution_count": 81,
     "metadata": {},
     "output_type": "execute_result"
    }
   ],
   "source": [
    "multivariate_wilcoxon(np.transpose(fake_examples), np.transpose(pts_non_majority_np))"
   ]
  },
  {
   "cell_type": "code",
   "execution_count": 82,
   "metadata": {
    "id": "Q9I4SLtDqqY4"
   },
   "outputs": [
    {
     "data": {
      "text/plain": [
       "(12, 2919)"
      ]
     },
     "execution_count": 82,
     "metadata": {},
     "output_type": "execute_result"
    }
   ],
   "source": [
    "np.transpose(fake_examples).shape"
   ]
  },
  {
   "cell_type": "code",
   "execution_count": 83,
   "metadata": {
    "id": "vn89Z3FqucYS"
   },
   "outputs": [],
   "source": [
    "decoded_fake = decoder.predict(fake_examples)"
   ]
  },
  {
   "cell_type": "markdown",
   "metadata": {
    "id": "Oa9qKsEAYK9O"
   },
   "source": [
    "# Integrating fakes"
   ]
  },
  {
   "cell_type": "markdown",
   "metadata": {
    "id": "C6fjH57bYQna"
   },
   "source": [
    "## Smoothing out fakes"
   ]
  },
  {
   "cell_type": "code",
   "execution_count": 84,
   "metadata": {
    "id": "D9Ibh234fzbQ"
   },
   "outputs": [],
   "source": [
    "def _scale_back(fake_sample: List[List]) -> pd.DataFrame:\n",
    "  fake_df = pd.DataFrame(fake_sample, columns=COLS)\n",
    "  fake_df[['open', 'low', 'high', 'close']] = price_scaler.inverse_transform(fake_df[['open', 'low', 'high', 'close']].values)\n",
    "  fake_df['volume'] = volume_scaler.inverse_transform(fake_df['volume'].values.reshape(-1, 1))\n",
    "  for col in COLS:\n",
    "    fake_df[col] = np.exp(fake_df[col])\n",
    "  return fake_df"
   ]
  },
  {
   "cell_type": "code",
   "execution_count": 85,
   "metadata": {
    "id": "OVI2j-iaOoIi"
   },
   "outputs": [
    {
     "data": {
      "text/html": [
       "<div>\n",
       "<style scoped>\n",
       "    .dataframe tbody tr th:only-of-type {\n",
       "        vertical-align: middle;\n",
       "    }\n",
       "\n",
       "    .dataframe tbody tr th {\n",
       "        vertical-align: top;\n",
       "    }\n",
       "\n",
       "    .dataframe thead th {\n",
       "        text-align: right;\n",
       "    }\n",
       "</style>\n",
       "<table border=\"1\" class=\"dataframe\">\n",
       "  <thead>\n",
       "    <tr style=\"text-align: right;\">\n",
       "      <th></th>\n",
       "      <th>open</th>\n",
       "      <th>high</th>\n",
       "      <th>low</th>\n",
       "      <th>close</th>\n",
       "      <th>volume</th>\n",
       "    </tr>\n",
       "  </thead>\n",
       "  <tbody>\n",
       "    <tr>\n",
       "      <th>0</th>\n",
       "      <td>128.731583</td>\n",
       "      <td>129.088776</td>\n",
       "      <td>128.333252</td>\n",
       "      <td>128.650696</td>\n",
       "      <td>3.639195e+06</td>\n",
       "    </tr>\n",
       "    <tr>\n",
       "      <th>1</th>\n",
       "      <td>128.680023</td>\n",
       "      <td>129.037445</td>\n",
       "      <td>128.233124</td>\n",
       "      <td>128.582993</td>\n",
       "      <td>3.902801e+06</td>\n",
       "    </tr>\n",
       "    <tr>\n",
       "      <th>2</th>\n",
       "      <td>129.504135</td>\n",
       "      <td>129.885834</td>\n",
       "      <td>129.023361</td>\n",
       "      <td>129.488937</td>\n",
       "      <td>5.318873e+05</td>\n",
       "    </tr>\n",
       "    <tr>\n",
       "      <th>3</th>\n",
       "      <td>130.256546</td>\n",
       "      <td>130.603455</td>\n",
       "      <td>129.862167</td>\n",
       "      <td>130.264236</td>\n",
       "      <td>2.291412e+05</td>\n",
       "    </tr>\n",
       "    <tr>\n",
       "      <th>4</th>\n",
       "      <td>129.281769</td>\n",
       "      <td>129.619781</td>\n",
       "      <td>128.921646</td>\n",
       "      <td>129.278625</td>\n",
       "      <td>2.653879e+05</td>\n",
       "    </tr>\n",
       "    <tr>\n",
       "      <th>5</th>\n",
       "      <td>129.480545</td>\n",
       "      <td>129.776627</td>\n",
       "      <td>129.163330</td>\n",
       "      <td>129.471466</td>\n",
       "      <td>1.706689e+05</td>\n",
       "    </tr>\n",
       "    <tr>\n",
       "      <th>6</th>\n",
       "      <td>129.220627</td>\n",
       "      <td>129.494568</td>\n",
       "      <td>128.920593</td>\n",
       "      <td>129.225311</td>\n",
       "      <td>1.156397e+05</td>\n",
       "    </tr>\n",
       "    <tr>\n",
       "      <th>7</th>\n",
       "      <td>128.809738</td>\n",
       "      <td>129.053131</td>\n",
       "      <td>128.536774</td>\n",
       "      <td>128.815399</td>\n",
       "      <td>7.068367e+04</td>\n",
       "    </tr>\n",
       "    <tr>\n",
       "      <th>8</th>\n",
       "      <td>128.938354</td>\n",
       "      <td>129.155334</td>\n",
       "      <td>128.672226</td>\n",
       "      <td>128.961792</td>\n",
       "      <td>3.012545e+04</td>\n",
       "    </tr>\n",
       "    <tr>\n",
       "      <th>9</th>\n",
       "      <td>128.858276</td>\n",
       "      <td>129.064529</td>\n",
       "      <td>128.624573</td>\n",
       "      <td>128.907745</td>\n",
       "      <td>1.330604e+04</td>\n",
       "    </tr>\n",
       "    <tr>\n",
       "      <th>10</th>\n",
       "      <td>128.612793</td>\n",
       "      <td>129.019424</td>\n",
       "      <td>128.081207</td>\n",
       "      <td>128.606415</td>\n",
       "      <td>5.091433e+05</td>\n",
       "    </tr>\n",
       "    <tr>\n",
       "      <th>11</th>\n",
       "      <td>127.951424</td>\n",
       "      <td>128.213806</td>\n",
       "      <td>127.609123</td>\n",
       "      <td>127.972542</td>\n",
       "      <td>4.412805e+04</td>\n",
       "    </tr>\n",
       "    <tr>\n",
       "      <th>12</th>\n",
       "      <td>129.100159</td>\n",
       "      <td>129.282501</td>\n",
       "      <td>128.911560</td>\n",
       "      <td>129.229385</td>\n",
       "      <td>1.706411e+03</td>\n",
       "    </tr>\n",
       "    <tr>\n",
       "      <th>13</th>\n",
       "      <td>129.799957</td>\n",
       "      <td>129.957947</td>\n",
       "      <td>129.651062</td>\n",
       "      <td>129.883102</td>\n",
       "      <td>2.407312e+03</td>\n",
       "    </tr>\n",
       "    <tr>\n",
       "      <th>14</th>\n",
       "      <td>128.485229</td>\n",
       "      <td>128.699966</td>\n",
       "      <td>128.259720</td>\n",
       "      <td>128.547501</td>\n",
       "      <td>6.842443e+03</td>\n",
       "    </tr>\n",
       "    <tr>\n",
       "      <th>15</th>\n",
       "      <td>130.716537</td>\n",
       "      <td>130.850739</td>\n",
       "      <td>130.669739</td>\n",
       "      <td>130.865906</td>\n",
       "      <td>3.060215e+02</td>\n",
       "    </tr>\n",
       "    <tr>\n",
       "      <th>16</th>\n",
       "      <td>130.255600</td>\n",
       "      <td>130.414215</td>\n",
       "      <td>130.103775</td>\n",
       "      <td>130.345383</td>\n",
       "      <td>1.566485e+03</td>\n",
       "    </tr>\n",
       "    <tr>\n",
       "      <th>17</th>\n",
       "      <td>130.178177</td>\n",
       "      <td>130.367142</td>\n",
       "      <td>129.951813</td>\n",
       "      <td>130.284119</td>\n",
       "      <td>2.343423e+03</td>\n",
       "    </tr>\n",
       "    <tr>\n",
       "      <th>18</th>\n",
       "      <td>132.574982</td>\n",
       "      <td>132.615570</td>\n",
       "      <td>132.612350</td>\n",
       "      <td>132.873123</td>\n",
       "      <td>9.999996e+01</td>\n",
       "    </tr>\n",
       "    <tr>\n",
       "      <th>19</th>\n",
       "      <td>131.522583</td>\n",
       "      <td>131.638275</td>\n",
       "      <td>131.503265</td>\n",
       "      <td>131.655914</td>\n",
       "      <td>3.773941e+02</td>\n",
       "    </tr>\n",
       "  </tbody>\n",
       "</table>\n",
       "</div>"
      ],
      "text/plain": [
       "          open        high         low       close        volume\n",
       "0   128.731583  129.088776  128.333252  128.650696  3.639195e+06\n",
       "1   128.680023  129.037445  128.233124  128.582993  3.902801e+06\n",
       "2   129.504135  129.885834  129.023361  129.488937  5.318873e+05\n",
       "3   130.256546  130.603455  129.862167  130.264236  2.291412e+05\n",
       "4   129.281769  129.619781  128.921646  129.278625  2.653879e+05\n",
       "5   129.480545  129.776627  129.163330  129.471466  1.706689e+05\n",
       "6   129.220627  129.494568  128.920593  129.225311  1.156397e+05\n",
       "7   128.809738  129.053131  128.536774  128.815399  7.068367e+04\n",
       "8   128.938354  129.155334  128.672226  128.961792  3.012545e+04\n",
       "9   128.858276  129.064529  128.624573  128.907745  1.330604e+04\n",
       "10  128.612793  129.019424  128.081207  128.606415  5.091433e+05\n",
       "11  127.951424  128.213806  127.609123  127.972542  4.412805e+04\n",
       "12  129.100159  129.282501  128.911560  129.229385  1.706411e+03\n",
       "13  129.799957  129.957947  129.651062  129.883102  2.407312e+03\n",
       "14  128.485229  128.699966  128.259720  128.547501  6.842443e+03\n",
       "15  130.716537  130.850739  130.669739  130.865906  3.060215e+02\n",
       "16  130.255600  130.414215  130.103775  130.345383  1.566485e+03\n",
       "17  130.178177  130.367142  129.951813  130.284119  2.343423e+03\n",
       "18  132.574982  132.615570  132.612350  132.873123  9.999996e+01\n",
       "19  131.522583  131.638275  131.503265  131.655914  3.773941e+02"
      ]
     },
     "execution_count": 85,
     "metadata": {},
     "output_type": "execute_result"
    }
   ],
   "source": [
    "_scale_back(decoded_fake[145])"
   ]
  },
  {
   "cell_type": "code",
   "execution_count": 86,
   "metadata": {
    "id": "Yyr5ZH_4Iq1f"
   },
   "outputs": [],
   "source": [
    "from bayes_opt import BayesianOptimization"
   ]
  },
  {
   "cell_type": "code",
   "execution_count": 87,
   "metadata": {
    "id": "zkezysK0azj5"
   },
   "outputs": [],
   "source": [
    "def time_step_passes(timestep: List[float]) -> bool:\n",
    "    # Input: One timestep unit\n",
    "    high_is_high = timestep[0] <= timestep[1] and timestep[2] <= timestep[1] and timestep[3] <= timestep[1]\n",
    "    low_is_low = timestep[0] >= timestep[2] and timestep[1] >= timestep[2] and timestep[3] >= timestep[2]\n",
    "    return high_is_high and low_is_low\n",
    "\n",
    "def to_batch(np_input):\n",
    "  return tf.expand_dims(\n",
    "    tf.convert_to_tensor(np_input), 0\n",
    "  )\n",
    "\n",
    "def generate_valid_fakes(s_count: int):\n",
    "  def black_box_first_wrapper(scaled_d_fake_l, volume, fake_latent):\n",
    "    def black_box_function_first(open, high, low, close):\n",
    "      if not time_step_passes([open, high, low, close, volume]):\n",
    "        return -1\n",
    "      changed_np = copy.deepcopy(scaled_d_fake_l)\n",
    "      changed_np[idx_t] = [open, high, low, close, volume]\n",
    "      changed_latent = encoder.predict(to_batch(changed_np))\n",
    "      dist = np.linalg.norm(changed_latent-fake_latent)\n",
    "      # Library attempts to maximize, so we return the inverse of the distance\n",
    "      return 1 / dist\n",
    "    return black_box_function_first\n",
    "\n",
    "  def black_box_general_wrapper(scaled_d_fake_l, open, volume, fake_latent):\n",
    "    def black_box_function_general(high, low, close):\n",
    "      if not time_step_passes([open, high, low, close, volume]):\n",
    "        return -1\n",
    "      changed_np = copy.deepcopy(scaled_d_fake_l)\n",
    "      changed_np[idx_t] = [open, high, low, close, volume]\n",
    "      changed_latent = encoder.predict(to_batch(changed_np))\n",
    "      dist = np.linalg.norm(changed_latent-fake_latent)\n",
    "      # Library attempts to maximize, so we return the inverse of the distance\n",
    "      return 1 / dist\n",
    "    return black_box_function_general\n",
    "\n",
    "  # Filter out examples generated by GAN \n",
    "  fake_examples = []\n",
    "  fake_batch = gan.generate_examples(s_count)\n",
    "  decoded_batch = decoder.predict(fake_batch)\n",
    " \n",
    "  for idx in tqdm(range(len(fake_batch))):\n",
    "    d_fake = decoded_batch[idx]\n",
    "    fake_latent = fake_batch[idx]\n",
    "    scaled_d_fake = _scale_back(d_fake)\n",
    "    scaled_d_fake_l = scaled_d_fake.values\n",
    "    \n",
    "    # Validate generated examples\n",
    "    for idx_t in range(len(scaled_d_fake_l)):\n",
    "      time_step = scaled_d_fake_l[idx_t] \n",
    "      if not time_step_passes(time_step):\n",
    "        open, high, low, close, volume = time_step\n",
    "        # Generate new values and append volume\n",
    "        if idx_t == 0:\n",
    "          bounds = {\n",
    "            'open': (open - np.sqrt(open), open + np.sqrt(open)),\n",
    "            'high': (high - np.sqrt(high), high + np.sqrt(high)),\n",
    "            'low': (low - np.sqrt(low), low + np.sqrt(low)),\n",
    "            'close': (close - np.sqrt(close), close + np.sqrt(close))\n",
    "          }\n",
    "          optimizer = BayesianOptimization(\n",
    "            f=black_box_first_wrapper(scaled_d_fake_l, volume, fake_latent),\n",
    "            pbounds=bounds,\n",
    "            random_state=1,\n",
    "          )\n",
    "        else:\n",
    "          bounds = {\n",
    "            'high': (high - np.sqrt(high), high + np.sqrt(high)),\n",
    "            'low': (low - np.sqrt(low), low + np.sqrt(low)),\n",
    "            'close': (close - np.sqrt(close), close + np.sqrt(close))\n",
    "          }\n",
    "          optimizer = BayesianOptimization(\n",
    "            f=black_box_general_wrapper(scaled_d_fake_l, open, volume, fake_latent),\n",
    "            pbounds=bounds,\n",
    "            random_state=1,\n",
    "          )\n",
    "        optimizer.maximize(\n",
    "          init_points=5,\n",
    "          n_iter=5,\n",
    "        )\n",
    "        best_params = optimizer.max['params']\n",
    "        if idx_t == 0:\n",
    "          scaled_d_fake_l[idx_t][0] = best_params['open']\n",
    "        scaled_d_fake_l[idx_t][1] = best_params['high']\n",
    "        scaled_d_fake_l[idx_t][2] = best_params['low']\n",
    "        scaled_d_fake_l[idx_t][3] = best_params['close']\n",
    "        if idx_t + 1 < len(scaled_d_fake_l):\n",
    "          scaled_d_fake_l[idx_t + 1, 0] = scaled_d_fake_l[idx_t, -2]\n",
    "    clear_output(wait=False)\n",
    "    fake_examples.append((\n",
    "      fake_latent,\n",
    "      encoder.predict(to_batch(scaled_d_fake_l)),\n",
    "      pd.DataFrame(scaled_d_fake_l, columns=COLS))\n",
    "    )\n",
    "    if len(fake_examples) % 20 == 0:\n",
    "      clear_output(wait=False)\n",
    "  return fake_examples"
   ]
  },
  {
   "cell_type": "code",
   "execution_count": 88,
   "metadata": {
    "id": "pq-mI8GrgWEI"
   },
   "outputs": [
    {
     "data": {
      "text/plain": [
       "'/content/gdrive/MyDrive/thesis'"
      ]
     },
     "execution_count": 88,
     "metadata": {},
     "output_type": "execute_result"
    }
   ],
   "source": [
    "ROOT"
   ]
  },
  {
   "cell_type": "code",
   "execution_count": 89,
   "metadata": {
    "id": "D8Ubu53emNEH"
   },
   "outputs": [],
   "source": [
    "with open(f'valid_fakes', 'rb') as fp:\n",
    "  all_valid_fake_examples = pickle.load(fp)"
   ]
  },
  {
   "cell_type": "code",
   "execution_count": 90,
   "metadata": {
    "id": "MVUpR-aMc4me"
   },
   "outputs": [],
   "source": [
    "# # all_valid_fake_examples = []\n",
    "# for i in range(50):\n",
    "#   valid_fake_examples = generate_valid_fakes(50)\n",
    "#   all_valid_fake_examples.extend(valid_fake_examples)\n",
    "#   with open(f'{ROOT}/valid_fakes', 'wb+') as fp:\n",
    "#     pickle.dump(all_valid_fake_examples, fp)"
   ]
  },
  {
   "cell_type": "code",
   "execution_count": 91,
   "metadata": {
    "id": "KHMoiew5m2UO"
   },
   "outputs": [
    {
     "data": {
      "text/plain": [
       "128"
      ]
     },
     "execution_count": 91,
     "metadata": {},
     "output_type": "execute_result"
    }
   ],
   "source": [
    "len(all_valid_fake_examples)"
   ]
  },
  {
   "cell_type": "code",
   "execution_count": 92,
   "metadata": {
    "id": "oelXX2Nu_fj4"
   },
   "outputs": [
    {
     "data": {
      "text/plain": [
       "2919"
      ]
     },
     "execution_count": 92,
     "metadata": {},
     "output_type": "execute_result"
    }
   ],
   "source": [
    "len(pts_non_majority)"
   ]
  },
  {
   "cell_type": "code",
   "execution_count": 94,
   "metadata": {
    "id": "1Kbu1O3a_jiS"
   },
   "outputs": [
    {
     "data": {
      "text/html": [
       "<div>\n",
       "<style scoped>\n",
       "    .dataframe tbody tr th:only-of-type {\n",
       "        vertical-align: middle;\n",
       "    }\n",
       "\n",
       "    .dataframe tbody tr th {\n",
       "        vertical-align: top;\n",
       "    }\n",
       "\n",
       "    .dataframe thead th {\n",
       "        text-align: right;\n",
       "    }\n",
       "</style>\n",
       "<table border=\"1\" class=\"dataframe\">\n",
       "  <thead>\n",
       "    <tr style=\"text-align: right;\">\n",
       "      <th></th>\n",
       "      <th>open</th>\n",
       "      <th>high</th>\n",
       "      <th>low</th>\n",
       "      <th>close</th>\n",
       "      <th>volume</th>\n",
       "    </tr>\n",
       "  </thead>\n",
       "  <tbody>\n",
       "    <tr>\n",
       "      <th>0</th>\n",
       "      <td>293.914124</td>\n",
       "      <td>294.764221</td>\n",
       "      <td>293.374878</td>\n",
       "      <td>294.137177</td>\n",
       "      <td>275120.468750</td>\n",
       "    </tr>\n",
       "    <tr>\n",
       "      <th>1</th>\n",
       "      <td>313.488373</td>\n",
       "      <td>322.726929</td>\n",
       "      <td>295.394714</td>\n",
       "      <td>312.033600</td>\n",
       "      <td>165204.812500</td>\n",
       "    </tr>\n",
       "    <tr>\n",
       "      <th>2</th>\n",
       "      <td>312.033600</td>\n",
       "      <td>313.113373</td>\n",
       "      <td>311.714539</td>\n",
       "      <td>312.362213</td>\n",
       "      <td>193206.250000</td>\n",
       "    </tr>\n",
       "    <tr>\n",
       "      <th>3</th>\n",
       "      <td>309.593140</td>\n",
       "      <td>309.978119</td>\n",
       "      <td>308.941650</td>\n",
       "      <td>309.486877</td>\n",
       "      <td>182285.765625</td>\n",
       "    </tr>\n",
       "    <tr>\n",
       "      <th>4</th>\n",
       "      <td>306.659241</td>\n",
       "      <td>306.884064</td>\n",
       "      <td>306.008636</td>\n",
       "      <td>306.320435</td>\n",
       "      <td>278594.281250</td>\n",
       "    </tr>\n",
       "    <tr>\n",
       "      <th>5</th>\n",
       "      <td>302.354675</td>\n",
       "      <td>302.715637</td>\n",
       "      <td>301.951141</td>\n",
       "      <td>302.131287</td>\n",
       "      <td>204947.421875</td>\n",
       "    </tr>\n",
       "    <tr>\n",
       "      <th>6</th>\n",
       "      <td>304.539551</td>\n",
       "      <td>305.081970</td>\n",
       "      <td>303.807556</td>\n",
       "      <td>304.664642</td>\n",
       "      <td>199747.281250</td>\n",
       "    </tr>\n",
       "    <tr>\n",
       "      <th>7</th>\n",
       "      <td>301.955566</td>\n",
       "      <td>302.285889</td>\n",
       "      <td>301.335663</td>\n",
       "      <td>301.664459</td>\n",
       "      <td>258156.890625</td>\n",
       "    </tr>\n",
       "    <tr>\n",
       "      <th>8</th>\n",
       "      <td>302.393311</td>\n",
       "      <td>302.871124</td>\n",
       "      <td>301.744720</td>\n",
       "      <td>302.387146</td>\n",
       "      <td>229778.812500</td>\n",
       "    </tr>\n",
       "    <tr>\n",
       "      <th>9</th>\n",
       "      <td>304.642670</td>\n",
       "      <td>305.231873</td>\n",
       "      <td>303.920288</td>\n",
       "      <td>304.847870</td>\n",
       "      <td>182839.750000</td>\n",
       "    </tr>\n",
       "    <tr>\n",
       "      <th>10</th>\n",
       "      <td>302.406738</td>\n",
       "      <td>302.747528</td>\n",
       "      <td>301.752197</td>\n",
       "      <td>302.171204</td>\n",
       "      <td>229962.296875</td>\n",
       "    </tr>\n",
       "    <tr>\n",
       "      <th>11</th>\n",
       "      <td>305.306244</td>\n",
       "      <td>305.889282</td>\n",
       "      <td>304.540741</td>\n",
       "      <td>305.543060</td>\n",
       "      <td>187294.968750</td>\n",
       "    </tr>\n",
       "    <tr>\n",
       "      <th>12</th>\n",
       "      <td>305.260254</td>\n",
       "      <td>305.742310</td>\n",
       "      <td>304.553070</td>\n",
       "      <td>305.291412</td>\n",
       "      <td>180096.968750</td>\n",
       "    </tr>\n",
       "    <tr>\n",
       "      <th>13</th>\n",
       "      <td>305.795502</td>\n",
       "      <td>306.198212</td>\n",
       "      <td>305.022217</td>\n",
       "      <td>305.729309</td>\n",
       "      <td>223812.828125</td>\n",
       "    </tr>\n",
       "    <tr>\n",
       "      <th>14</th>\n",
       "      <td>304.031616</td>\n",
       "      <td>304.314575</td>\n",
       "      <td>303.343323</td>\n",
       "      <td>303.712372</td>\n",
       "      <td>313582.875000</td>\n",
       "    </tr>\n",
       "    <tr>\n",
       "      <th>15</th>\n",
       "      <td>308.570770</td>\n",
       "      <td>309.163422</td>\n",
       "      <td>307.736755</td>\n",
       "      <td>308.836487</td>\n",
       "      <td>241291.875000</td>\n",
       "    </tr>\n",
       "    <tr>\n",
       "      <th>16</th>\n",
       "      <td>307.137604</td>\n",
       "      <td>307.405579</td>\n",
       "      <td>306.376526</td>\n",
       "      <td>306.789825</td>\n",
       "      <td>372125.781250</td>\n",
       "    </tr>\n",
       "    <tr>\n",
       "      <th>17</th>\n",
       "      <td>307.026306</td>\n",
       "      <td>307.360291</td>\n",
       "      <td>306.266846</td>\n",
       "      <td>306.776794</td>\n",
       "      <td>444110.187500</td>\n",
       "    </tr>\n",
       "    <tr>\n",
       "      <th>18</th>\n",
       "      <td>316.409454</td>\n",
       "      <td>317.051636</td>\n",
       "      <td>315.302338</td>\n",
       "      <td>316.874359</td>\n",
       "      <td>455104.875000</td>\n",
       "    </tr>\n",
       "    <tr>\n",
       "      <th>19</th>\n",
       "      <td>323.375549</td>\n",
       "      <td>323.949829</td>\n",
       "      <td>322.491058</td>\n",
       "      <td>323.775452</td>\n",
       "      <td>310259.812500</td>\n",
       "    </tr>\n",
       "    <tr>\n",
       "      <th>20</th>\n",
       "      <td>326.977478</td>\n",
       "      <td>327.868317</td>\n",
       "      <td>326.830017</td>\n",
       "      <td>327.069641</td>\n",
       "      <td>4077.612061</td>\n",
       "    </tr>\n",
       "    <tr>\n",
       "      <th>21</th>\n",
       "      <td>334.434296</td>\n",
       "      <td>334.653778</td>\n",
       "      <td>333.606354</td>\n",
       "      <td>334.296387</td>\n",
       "      <td>2122.927002</td>\n",
       "    </tr>\n",
       "    <tr>\n",
       "      <th>22</th>\n",
       "      <td>336.824158</td>\n",
       "      <td>337.037506</td>\n",
       "      <td>336.202057</td>\n",
       "      <td>336.900299</td>\n",
       "      <td>4529.865723</td>\n",
       "    </tr>\n",
       "    <tr>\n",
       "      <th>23</th>\n",
       "      <td>338.958527</td>\n",
       "      <td>346.983887</td>\n",
       "      <td>319.810608</td>\n",
       "      <td>335.626160</td>\n",
       "      <td>1376.942993</td>\n",
       "    </tr>\n",
       "    <tr>\n",
       "      <th>24</th>\n",
       "      <td>335.626160</td>\n",
       "      <td>340.948914</td>\n",
       "      <td>314.758118</td>\n",
       "      <td>329.787231</td>\n",
       "      <td>1186.062622</td>\n",
       "    </tr>\n",
       "    <tr>\n",
       "      <th>25</th>\n",
       "      <td>329.787231</td>\n",
       "      <td>352.655670</td>\n",
       "      <td>315.935547</td>\n",
       "      <td>336.249725</td>\n",
       "      <td>683.900146</td>\n",
       "    </tr>\n",
       "    <tr>\n",
       "      <th>26</th>\n",
       "      <td>336.249725</td>\n",
       "      <td>342.113953</td>\n",
       "      <td>315.840240</td>\n",
       "      <td>331.150879</td>\n",
       "      <td>1673.216187</td>\n",
       "    </tr>\n",
       "    <tr>\n",
       "      <th>27</th>\n",
       "      <td>331.150879</td>\n",
       "      <td>336.662994</td>\n",
       "      <td>310.694672</td>\n",
       "      <td>326.026794</td>\n",
       "      <td>804.124756</td>\n",
       "    </tr>\n",
       "    <tr>\n",
       "      <th>28</th>\n",
       "      <td>326.026794</td>\n",
       "      <td>338.681427</td>\n",
       "      <td>311.697693</td>\n",
       "      <td>327.531952</td>\n",
       "      <td>7589.714844</td>\n",
       "    </tr>\n",
       "    <tr>\n",
       "      <th>29</th>\n",
       "      <td>327.531952</td>\n",
       "      <td>335.023132</td>\n",
       "      <td>308.632660</td>\n",
       "      <td>324.238495</td>\n",
       "      <td>678.969360</td>\n",
       "    </tr>\n",
       "    <tr>\n",
       "      <th>30</th>\n",
       "      <td>324.238495</td>\n",
       "      <td>335.062317</td>\n",
       "      <td>308.592407</td>\n",
       "      <td>323.855530</td>\n",
       "      <td>4113.270996</td>\n",
       "    </tr>\n",
       "    <tr>\n",
       "      <th>31</th>\n",
       "      <td>323.855530</td>\n",
       "      <td>339.235809</td>\n",
       "      <td>312.376801</td>\n",
       "      <td>328.373199</td>\n",
       "      <td>954.138062</td>\n",
       "    </tr>\n",
       "    <tr>\n",
       "      <th>32</th>\n",
       "      <td>328.373199</td>\n",
       "      <td>341.407318</td>\n",
       "      <td>314.756866</td>\n",
       "      <td>330.961853</td>\n",
       "      <td>715.901855</td>\n",
       "    </tr>\n",
       "    <tr>\n",
       "      <th>33</th>\n",
       "      <td>330.961853</td>\n",
       "      <td>353.987854</td>\n",
       "      <td>330.615509</td>\n",
       "      <td>341.171722</td>\n",
       "      <td>203.698288</td>\n",
       "    </tr>\n",
       "    <tr>\n",
       "      <th>34</th>\n",
       "      <td>341.171722</td>\n",
       "      <td>361.194641</td>\n",
       "      <td>325.629944</td>\n",
       "      <td>354.456482</td>\n",
       "      <td>134.874603</td>\n",
       "    </tr>\n",
       "    <tr>\n",
       "      <th>35</th>\n",
       "      <td>354.456482</td>\n",
       "      <td>339.839111</td>\n",
       "      <td>314.275848</td>\n",
       "      <td>329.204193</td>\n",
       "      <td>458.570557</td>\n",
       "    </tr>\n",
       "    <tr>\n",
       "      <th>36</th>\n",
       "      <td>329.204193</td>\n",
       "      <td>333.190460</td>\n",
       "      <td>316.896820</td>\n",
       "      <td>318.874634</td>\n",
       "      <td>102.258247</td>\n",
       "    </tr>\n",
       "    <tr>\n",
       "      <th>37</th>\n",
       "      <td>318.874634</td>\n",
       "      <td>347.601715</td>\n",
       "      <td>320.966125</td>\n",
       "      <td>333.021606</td>\n",
       "      <td>134.760056</td>\n",
       "    </tr>\n",
       "    <tr>\n",
       "      <th>38</th>\n",
       "      <td>333.021606</td>\n",
       "      <td>361.135895</td>\n",
       "      <td>325.177002</td>\n",
       "      <td>357.654602</td>\n",
       "      <td>196.086227</td>\n",
       "    </tr>\n",
       "    <tr>\n",
       "      <th>39</th>\n",
       "      <td>357.654602</td>\n",
       "      <td>363.573425</td>\n",
       "      <td>334.476257</td>\n",
       "      <td>352.082947</td>\n",
       "      <td>7913.995117</td>\n",
       "    </tr>\n",
       "  </tbody>\n",
       "</table>\n",
       "</div>"
      ],
      "text/plain": [
       "          open        high         low       close         volume\n",
       "0   293.914124  294.764221  293.374878  294.137177  275120.468750\n",
       "1   313.488373  322.726929  295.394714  312.033600  165204.812500\n",
       "2   312.033600  313.113373  311.714539  312.362213  193206.250000\n",
       "3   309.593140  309.978119  308.941650  309.486877  182285.765625\n",
       "4   306.659241  306.884064  306.008636  306.320435  278594.281250\n",
       "5   302.354675  302.715637  301.951141  302.131287  204947.421875\n",
       "6   304.539551  305.081970  303.807556  304.664642  199747.281250\n",
       "7   301.955566  302.285889  301.335663  301.664459  258156.890625\n",
       "8   302.393311  302.871124  301.744720  302.387146  229778.812500\n",
       "9   304.642670  305.231873  303.920288  304.847870  182839.750000\n",
       "10  302.406738  302.747528  301.752197  302.171204  229962.296875\n",
       "11  305.306244  305.889282  304.540741  305.543060  187294.968750\n",
       "12  305.260254  305.742310  304.553070  305.291412  180096.968750\n",
       "13  305.795502  306.198212  305.022217  305.729309  223812.828125\n",
       "14  304.031616  304.314575  303.343323  303.712372  313582.875000\n",
       "15  308.570770  309.163422  307.736755  308.836487  241291.875000\n",
       "16  307.137604  307.405579  306.376526  306.789825  372125.781250\n",
       "17  307.026306  307.360291  306.266846  306.776794  444110.187500\n",
       "18  316.409454  317.051636  315.302338  316.874359  455104.875000\n",
       "19  323.375549  323.949829  322.491058  323.775452  310259.812500\n",
       "20  326.977478  327.868317  326.830017  327.069641    4077.612061\n",
       "21  334.434296  334.653778  333.606354  334.296387    2122.927002\n",
       "22  336.824158  337.037506  336.202057  336.900299    4529.865723\n",
       "23  338.958527  346.983887  319.810608  335.626160    1376.942993\n",
       "24  335.626160  340.948914  314.758118  329.787231    1186.062622\n",
       "25  329.787231  352.655670  315.935547  336.249725     683.900146\n",
       "26  336.249725  342.113953  315.840240  331.150879    1673.216187\n",
       "27  331.150879  336.662994  310.694672  326.026794     804.124756\n",
       "28  326.026794  338.681427  311.697693  327.531952    7589.714844\n",
       "29  327.531952  335.023132  308.632660  324.238495     678.969360\n",
       "30  324.238495  335.062317  308.592407  323.855530    4113.270996\n",
       "31  323.855530  339.235809  312.376801  328.373199     954.138062\n",
       "32  328.373199  341.407318  314.756866  330.961853     715.901855\n",
       "33  330.961853  353.987854  330.615509  341.171722     203.698288\n",
       "34  341.171722  361.194641  325.629944  354.456482     134.874603\n",
       "35  354.456482  339.839111  314.275848  329.204193     458.570557\n",
       "36  329.204193  333.190460  316.896820  318.874634     102.258247\n",
       "37  318.874634  347.601715  320.966125  333.021606     134.760056\n",
       "38  333.021606  361.135895  325.177002  357.654602     196.086227\n",
       "39  357.654602  363.573425  334.476257  352.082947    7913.995117"
      ]
     },
     "execution_count": 94,
     "metadata": {},
     "output_type": "execute_result"
    }
   ],
   "source": [
    "all_valid_fake_examples[117]"
   ]
  },
  {
   "cell_type": "markdown",
   "metadata": {
    "id": "mtS_XdCQBOVi"
   },
   "source": [
    "## Prepare original samples"
   ]
  },
  {
   "cell_type": "code",
   "execution_count": 121,
   "metadata": {
    "id": "yNkgVD05_wyS"
   },
   "outputs": [
    {
     "data": {
      "text/plain": [
       "24123"
      ]
     },
     "execution_count": 121,
     "metadata": {},
     "output_type": "execute_result"
    }
   ],
   "source": [
    "aapl = pd.read_csv(f'AAPL.txt', names=['date', 'time', 'open', 'high', 'low', 'close', 'volume'])\n",
    "chunks = split_dataframe(aapl[COLS], split_size=TIME_STEPS, time_steps_common=TIME_STEPS_COMMON)\n",
    "len(chunks)"
   ]
  },
  {
   "cell_type": "code",
   "execution_count": 122,
   "metadata": {
    "id": "UjFCUDSjE5Zi"
   },
   "outputs": [],
   "source": [
    "chunks = list(map(lambda x: x.df_chunk, chunks))"
   ]
  },
  {
   "cell_type": "code",
   "execution_count": 123,
   "metadata": {
    "id": "w8B5rNMXDmt2"
   },
   "outputs": [],
   "source": [
    "def get_interval_prices(chunks):\n",
    "  interval_prices = []\n",
    "  for idx_t in range(len(chunks)):\n",
    "    if idx_t < len(chunks)-1:\n",
    "      first_close_price = chunks[idx_t]['close'].values[-1]\n",
    "      next_open_price = chunks[idx_t+1]['open'].values[0]\n",
    "      vol_average = np.hstack((chunks[idx_t]['volume'].values, chunks[idx_t+1]['volume'].values))\n",
    "      vol_average = np.average(vol_average)\n",
    "      interval_prices.append(np.array((first_close_price, next_open_price, vol_average)))\n",
    "  return interval_prices"
   ]
  },
  {
   "cell_type": "code",
   "execution_count": 103,
   "metadata": {
    "id": "h9pUgqo2H0y8"
   },
   "outputs": [
    {
     "data": {
      "text/plain": [
       "[array([1.53750000e+01, 1.50625000e+01, 2.48120575e+05]),\n",
       " array([1.64375000e+01, 1.56875000e+01, 2.45053525e+05]),\n",
       " array([1.56875000e+01, 1.60000000e+01, 1.76493275e+05]),\n",
       " array([1.58750000e+01, 1.53750000e+01, 1.15372975e+05]),\n",
       " array([1.49375000e+01, 1.58750000e+01, 4.69525075e+05]),\n",
       " array([1.83125000e+01, 1.94375000e+01, 7.29801425e+05]),\n",
       " array([1.76250000e+01, 1.80625000e+01, 4.33031825e+05]),\n",
       " array([1.74375000e+01, 1.76250000e+01, 2.35260425e+05]),\n",
       " array([1.76250000e+01, 1.71875000e+01, 2.27205525e+05]),\n",
       " array([1.8250000e+01, 1.7750000e+01, 2.3797335e+05])]"
      ]
     },
     "execution_count": 103,
     "metadata": {},
     "output_type": "execute_result"
    }
   ],
   "source": [
    "get_interval_prices(chunks)[:10]"
   ]
  },
  {
   "cell_type": "code",
   "execution_count": 104,
   "metadata": {
    "id": "GH6KfRIwSsDx"
   },
   "outputs": [
    {
     "data": {
      "text/plain": [
       "128"
      ]
     },
     "execution_count": 104,
     "metadata": {},
     "output_type": "execute_result"
    }
   ],
   "source": [
    "len(all_valid_fake_examples)"
   ]
  },
  {
   "cell_type": "code",
   "execution_count": 105,
   "metadata": {
    "id": "-ucED68mTvMb"
   },
   "outputs": [],
   "source": [
    "augmented_chunks = deepcopy(chunks)"
   ]
  },
  {
   "cell_type": "code",
   "execution_count": 106,
   "metadata": {
    "id": "RgRudtEcIiDu"
   },
   "outputs": [],
   "source": [
    "def euclidian_dist(x, y):\n",
    "  return np.linalg.norm(x-y)\n",
    "\n",
    "best_indices = []\n",
    "for fake in tqdm(all_valid_fake_examples):\n",
    "  open_p = fake[2]['open'].values[0]\n",
    "  close_p = fake[2]['close'].values[-1]\n",
    "  best_idx = None\n",
    "  best_dist = float('inf')\n",
    "  interval_prices = get_interval_prices(augmented_chunks) \n",
    "  for idx, interval in enumerate(interval_prices):\n",
    "    dist = euclidian_dist(np.array((open_p, close_p, np.average(fake[2]['volume'].values))), interval)\n",
    "    if dist < best_dist:\n",
    "      best_dist = dist\n",
    "      best_idx = idx\n",
    "  augmented_chunks.insert(best_idx+1, fake[2])"
   ]
  },
  {
   "cell_type": "code",
   "execution_count": null,
   "metadata": {
    "id": "JE930YRfvCNN"
   },
   "outputs": [],
   "source": [
    "# with open(f'{ROOT}/augmented', 'wb+') as fp:\n",
    "#   pickle.dump(augmented_chunks, fp)"
   ]
  },
  {
   "cell_type": "code",
   "execution_count": 108,
   "metadata": {
    "id": "9v3x7AosQgjt"
   },
   "outputs": [],
   "source": [
    "with open(f'augmented', 'rb') as fp:\n",
    "  augmented_chunks = pickle.load(fp)"
   ]
  },
  {
   "cell_type": "code",
   "execution_count": 109,
   "metadata": {
    "id": "FPW4__bcgt_k"
   },
   "outputs": [],
   "source": [
    "def add_date(df):\n",
    "  start = datetime.datetime(1998, 5, 5, 8, 0)\n",
    "  delta = datetime.timedelta(minutes=15)\n",
    "  step = deepcopy(start)\n",
    "  series = []\n",
    "  for i in range(len(df)):\n",
    "    series.append(step)\n",
    "    step += delta\n",
    "  df['date'] = series\n",
    "  return df"
   ]
  },
  {
   "cell_type": "code",
   "execution_count": 110,
   "metadata": {
    "id": "ThLXqpCN-qj8"
   },
   "outputs": [],
   "source": [
    "# len(chunks), len(augmented_chunks)"
   ]
  },
  {
   "cell_type": "code",
   "execution_count": 111,
   "metadata": {
    "id": "LRi_sF8xXaDo"
   },
   "outputs": [],
   "source": [
    "# def add_date(df):\n",
    "#   start = datetime.datetime(1998, 5, 5, 8, 0)\n",
    "#   delta = datetime.timedelta(minutes=15)\n",
    "#   step = deepcopy(start)\n",
    "#   series = []\n",
    "#   for i in range(len(df)):\n",
    "#     series.append(step)\n",
    "#     step += delta\n",
    "#   df['date'] = series\n",
    "#   return df"
   ]
  },
  {
   "cell_type": "code",
   "execution_count": 112,
   "metadata": {
    "id": "2gDDJiZDhhpl"
   },
   "outputs": [],
   "source": [
    "# full_df\n",
    "# full_df['tic'] = 'AAPL'"
   ]
  },
  {
   "cell_type": "code",
   "execution_count": 113,
   "metadata": {
    "id": "bzA2AYSkjod5"
   },
   "outputs": [],
   "source": [
    "# full_df = add_date(full_df)"
   ]
  },
  {
   "cell_type": "code",
   "execution_count": 114,
   "metadata": {
    "id": "UQMpXhfIagw1"
   },
   "outputs": [],
   "source": [
    "# full_df"
   ]
  },
  {
   "cell_type": "markdown",
   "metadata": {
    "id": "4WJCY0WNisNm"
   },
   "source": [
    "## Final test"
   ]
  },
  {
   "cell_type": "markdown",
   "metadata": {
    "id": "qq2CisdgHFTt"
   },
   "source": [
    "__Code below is very taxing, just load datasets again__"
   ]
  },
  {
   "cell_type": "code",
   "execution_count": 115,
   "metadata": {
    "id": "db93xO8-Y_Xt"
   },
   "outputs": [],
   "source": [
    "# full_df = FeatureEngineer(use_technical_indicator=True, use_turbulence=False).preprocess_data(full_df.copy())"
   ]
  },
  {
   "cell_type": "code",
   "execution_count": 116,
   "metadata": {
    "id": "7w_D61BbZlFh"
   },
   "outputs": [],
   "source": [
    "# augmented_chunks = pd.concat(augmented_chunks)\n",
    "# augmented_chunks['tic'] = 'AAPL'\n",
    "# augmented_chunks = add_date(augmented_chunks)\n",
    "# augmented_df = FeatureEngineer(use_technical_indicator=True, use_turbulence=False).preprocess_data(augmented_chunks.copy())"
   ]
  },
  {
   "cell_type": "code",
   "execution_count": 117,
   "metadata": {
    "id": "nsucw1Rak62d"
   },
   "outputs": [],
   "source": [
    "# # add covariance matrix as states\n",
    "# for df in [full_df]:\n",
    "#   df=df.sort_values(['date','tic'],ignore_index=True)\n",
    "#   df.index = df.date.factorize()[0]\n",
    "#   cov_list = []\n",
    "#   lookback=252\n",
    "#   for i in tqdm(range(lookback,len(df.index.unique()))):\n",
    "#     data_lookback = df.loc[i-lookback:i,:]\n",
    "#     price_lookback=data_lookback.pivot_table(index = 'date',columns = 'tic', values = 'close')\n",
    "#     return_lookback = price_lookback.pct_change().dropna()\n",
    "#     covs = return_lookback.cov().values \n",
    "#     cov_list.append(covs)\n",
    "    \n",
    "#   df_cov = pd.DataFrame({'date':df.date.unique()[lookback:],'cov_list':cov_list})\n",
    "#   df = df.merge(df_cov, on='date')\n",
    "#   df = df.sort_values(['date','tic']).reset_index(drop=True)"
   ]
  },
  {
   "cell_type": "code",
   "execution_count": 119,
   "metadata": {
    "id": "p53XkcQkmyJf"
   },
   "outputs": [],
   "source": [
    "import numpy as np\n",
    "import pandas as pd\n",
    "from gym.utils import seeding\n",
    "import gym\n",
    "from gym import spaces\n",
    "import matplotlib\n",
    "matplotlib.use('Agg')\n",
    "import matplotlib.pyplot as plt\n",
    "from stable_baselines3.common.vec_env import DummyVecEnv\n",
    "\n",
    "class StockPortfolioEnv(gym.Env):\n",
    "    \"\"\"A single stock trading environment for OpenAI gym\n",
    "\n",
    "    Attributes\n",
    "    ----------\n",
    "        df: DataFrame\n",
    "            input data\n",
    "        stock_dim : int\n",
    "            number of unique stocks\n",
    "        hmax : int\n",
    "            maximum number of shares to trade\n",
    "        initial_amount : int\n",
    "            start money\n",
    "        transaction_cost_pct: float\n",
    "            transaction cost percentage per trade\n",
    "        reward_scaling: float\n",
    "            scaling factor for reward, good for training\n",
    "        state_space: int\n",
    "            the dimension of input features\n",
    "        action_space: int\n",
    "            equals stock dimension\n",
    "        tech_indicator_list: list\n",
    "            a list of technical indicator names\n",
    "        turbulence_threshold: int\n",
    "            a threshold to control risk aversion\n",
    "        day: int\n",
    "            an increment number to control date\n",
    "\n",
    "    Methods\n",
    "    -------\n",
    "    _sell_stock()\n",
    "        perform sell action based on the sign of the action\n",
    "    _buy_stock()\n",
    "        perform buy action based on the sign of the action\n",
    "    step()\n",
    "        at each step the agent will return actions, then \n",
    "        we will calculate the reward, and return the next observation.\n",
    "    reset()\n",
    "        reset the environment\n",
    "    render()\n",
    "        use render to return other functions\n",
    "    save_asset_memory()\n",
    "        return account value at each time step\n",
    "    save_action_memory()\n",
    "        return actions/positions at each time step\n",
    "        \n",
    "\n",
    "    \"\"\"\n",
    "    metadata = {'render.modes': ['human']}\n",
    "\n",
    "    def __init__(self, \n",
    "                df,\n",
    "                stock_dim,\n",
    "                hmax,\n",
    "                initial_amount,\n",
    "                transaction_cost_pct,\n",
    "                reward_scaling,\n",
    "                state_space,\n",
    "                action_space,\n",
    "                tech_indicator_list,\n",
    "                turbulence_threshold=None,\n",
    "                lookback=252,\n",
    "                day = 0):\n",
    "        #super(StockEnv, self).__init__()\n",
    "        #money = 10 , scope = 1\n",
    "        self.day = day\n",
    "        self.lookback=lookback\n",
    "        self.df = df\n",
    "        self.stock_dim = stock_dim\n",
    "        self.hmax = hmax\n",
    "        self.initial_amount = initial_amount\n",
    "        self.transaction_cost_pct =transaction_cost_pct\n",
    "        self.reward_scaling = reward_scaling\n",
    "        self.state_space = state_space\n",
    "        self.action_space = action_space\n",
    "        self.tech_indicator_list = tech_indicator_list\n",
    "\n",
    "        # action_space normalization and shape is self.stock_dim\n",
    "        self.action_space = spaces.Box(low = 0, high = 1,shape = (self.action_space,)) \n",
    "        # Shape = (34, 30)\n",
    "        # covariance matrix + technical indicators\n",
    "        self.observation_space = spaces.Box(low=-np.inf, high=np.inf, shape = (self.state_space+len(self.tech_indicator_list),self.state_space))\n",
    "\n",
    "        # load data from a pandas dataframe\n",
    "        self.data = self.df.loc[self.day,:]\n",
    "        self.covs = self.data['cov_list'].values[0]\n",
    "        self.state =  np.append(np.array(self.covs), [self.data[tech].values.tolist() for tech in self.tech_indicator_list ], axis=0)\n",
    "        self.terminal = False     \n",
    "        self.turbulence_threshold = turbulence_threshold        \n",
    "        # initalize state: inital portfolio return + individual stock return + individual weights\n",
    "        self.portfolio_value = self.initial_amount\n",
    "\n",
    "        # memorize portfolio value each step\n",
    "        self.asset_memory = [self.initial_amount]\n",
    "        # memorize portfolio return each step\n",
    "        self.portfolio_return_memory = [0]\n",
    "        self.actions_memory=[[1/self.stock_dim]*self.stock_dim]\n",
    "        self.date_memory=[self.data.date.unique()[0]]\n",
    "\n",
    "        \n",
    "    def step(self, actions):\n",
    "        # print(self.day)\n",
    "        self.terminal = self.day >= len(self.df.index.unique())-1\n",
    "        # print(actions)\n",
    "\n",
    "        if self.terminal:\n",
    "            df = pd.DataFrame(self.portfolio_return_memory)\n",
    "            df.columns = ['daily_return']\n",
    "            plt.plot(df.daily_return.cumsum(),'r')\n",
    "            plt.savefig('results/cumulative_reward.png')\n",
    "            plt.close()\n",
    "            \n",
    "            plt.plot(self.portfolio_return_memory,'r')\n",
    "            plt.savefig('results/rewards.png')\n",
    "            plt.close()\n",
    "\n",
    "            print(\"=================================\")\n",
    "            print(\"begin_total_asset:{}\".format(self.asset_memory[0]))           \n",
    "            print(\"end_total_asset:{}\".format(self.portfolio_value))\n",
    "\n",
    "            df_daily_return = pd.DataFrame(self.portfolio_return_memory)\n",
    "            df_daily_return.columns = ['daily_return']\n",
    "            if df_daily_return['daily_return'].std() !=0:\n",
    "              sharpe = (252**0.5)*df_daily_return['daily_return'].mean()/ \\\n",
    "                       df_daily_return['daily_return'].std()\n",
    "              print(\"Sharpe: \",sharpe)\n",
    "            print(\"=================================\")\n",
    "            \n",
    "            return self.state, self.reward, self.terminal,{}\n",
    "\n",
    "        else:\n",
    "            #print(\"Model actions: \",actions)\n",
    "            # actions are the portfolio weight\n",
    "            # normalize to sum of 1\n",
    "            #if (np.array(actions) - np.array(actions).min()).sum() != 0:\n",
    "            #  norm_actions = (np.array(actions) - np.array(actions).min()) / (np.array(actions) - np.array(actions).min()).sum()\n",
    "            #else:\n",
    "            #  norm_actions = actions\n",
    "            weights = self.softmax_normalization(actions) \n",
    "            #print(\"Normalized actions: \", weights)\n",
    "            self.actions_memory.append(weights)\n",
    "            last_day_memory = self.data\n",
    "\n",
    "            #load next state\n",
    "            self.day += 1\n",
    "            self.data = self.df.loc[self.day,:]\n",
    "            self.covs = self.data['cov_list'].values[0]\n",
    "            self.state =  np.append(np.array(self.covs), [self.data[tech].values.tolist() for tech in self.tech_indicator_list ], axis=0)\n",
    "            #print(self.state)\n",
    "            # calcualte portfolio return\n",
    "            # individual stocks' return * weight\n",
    "            portfolio_return = sum(((self.data.close.values / last_day_memory.close.values)-1)*weights)\n",
    "            # update portfolio value\n",
    "            new_portfolio_value = self.portfolio_value*(1+portfolio_return)\n",
    "            self.portfolio_value = new_portfolio_value\n",
    "\n",
    "            # save into memory\n",
    "            self.portfolio_return_memory.append(portfolio_return)\n",
    "            self.date_memory.append(self.data.date.unique()[0])            \n",
    "            self.asset_memory.append(new_portfolio_value)\n",
    "\n",
    "            # the reward is the new portfolio value or end portfolo value\n",
    "            self.reward = new_portfolio_value \n",
    "            #print(\"Step reward: \", self.reward)\n",
    "            #self.reward = self.reward*self.reward_scaling\n",
    "\n",
    "        return self.state, self.reward, self.terminal, {}\n",
    "\n",
    "    def reset(self):\n",
    "        self.asset_memory = [self.initial_amount]\n",
    "        self.day = 0\n",
    "        self.data = self.df.loc[self.day,:]\n",
    "        # load states\n",
    "        self.covs = self.data['cov_list'].values[0]\n",
    "        self.state =  np.append(np.array(self.covs), [self.data[tech].values.tolist() for tech in self.tech_indicator_list ], axis=0)\n",
    "        self.portfolio_value = self.initial_amount\n",
    "        #self.cost = 0\n",
    "        #self.trades = 0\n",
    "        self.terminal = False \n",
    "        self.portfolio_return_memory = [0]\n",
    "        self.actions_memory=[[1/self.stock_dim]*self.stock_dim]\n",
    "        self.date_memory=[self.data.date.unique()[0]] \n",
    "        return self.state\n",
    "    \n",
    "    def render(self, mode='human'):\n",
    "        return self.state\n",
    "        \n",
    "    def softmax_normalization(self, actions):\n",
    "        numerator = np.exp(actions)\n",
    "        denominator = np.sum(np.exp(actions))\n",
    "        softmax_output = numerator/denominator\n",
    "        return softmax_output\n",
    "\n",
    "    \n",
    "    def save_asset_memory(self):\n",
    "        date_list = self.date_memory\n",
    "        portfolio_return = self.portfolio_return_memory\n",
    "        #print(len(date_list))\n",
    "        #print(len(asset_list))\n",
    "        df_account_value = pd.DataFrame({'date':date_list,'daily_return':portfolio_return})\n",
    "        return df_account_value\n",
    "\n",
    "    def save_action_memory(self):\n",
    "        # date and close price length must match actions length\n",
    "        date_list = self.date_memory\n",
    "        df_date = pd.DataFrame(date_list)\n",
    "        df_date.columns = ['date']\n",
    "        \n",
    "        action_list = self.actions_memory\n",
    "        df_actions = pd.DataFrame(action_list)\n",
    "        df_actions.columns = self.data.tic.values\n",
    "        df_actions.index = df_date.date\n",
    "        #df_actions = pd.DataFrame({'date':date_list,'actions':action_list})\n",
    "        return df_actions\n",
    "\n",
    "    def _seed(self, seed=None):\n",
    "        self.np_random, seed = seeding.np_random(seed)\n",
    "        return [seed]\n",
    "\n",
    "    def get_sb_env(self):\n",
    "        e = DummyVecEnv([lambda: self])\n",
    "        obs = e.reset()\n",
    "        return e, obs"
   ]
  }
 ],
 "metadata": {
  "colab": {
   "collapsed_sections": [],
   "name": "thesis3.ipynb",
   "private_outputs": true,
   "provenance": [],
   "toc_visible": true
  },
  "kernelspec": {
   "display_name": "Python 3",
   "language": "python",
   "name": "python3"
  },
  "language_info": {
   "codemirror_mode": {
    "name": "ipython",
    "version": 3
   },
   "file_extension": ".py",
   "mimetype": "text/x-python",
   "name": "python",
   "nbconvert_exporter": "python",
   "pygments_lexer": "ipython3",
   "version": "3.8.2"
  }
 },
 "nbformat": 4,
 "nbformat_minor": 4
}

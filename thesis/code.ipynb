{
 "cells": [
  {
   "cell_type": "markdown",
   "metadata": {
    "id": "65IwPG2_TeyE"
   },
   "source": [
    "# Prerequisites"
   ]
  },
  {
   "cell_type": "code",
   "execution_count": 2,
   "metadata": {
    "id": "BYcQkywIXKe_"
   },
   "outputs": [
    {
     "name": "stdout",
     "output_type": "stream",
     "text": [
      "^C\n",
      "Collecting tqdm\n",
      "  Cloning https://github.com/tqdm/tqdm.git (to revision devel) to c:\\users\\bratu\\appdata\\local\\temp\\pip-install-6wubily5\\tqdm_c06182047be94c958431d2d7703891c9\n",
      "  Resolved https://github.com/tqdm/tqdm.git to commit 98f72896757e7e339c942a12af2752feefab4910\n",
      "  Installing build dependencies: started\n",
      "  Installing build dependencies: finished with status 'done'\n",
      "  Getting requirements to build wheel: started\n",
      "  Getting requirements to build wheel: finished with status 'done'\n",
      "    Preparing wheel metadata: started\n",
      "    Preparing wheel metadata: finished with status 'done'\n",
      "Requirement already satisfied: colorama in c:\\users\\bratu\\desktop\\bachelor\\thesis\\venv\\lib\\site-packages (from tqdm) (0.4.4)\n",
      "Building wheels for collected packages: tqdm\n",
      "  Building wheel for tqdm (PEP 517): started\n",
      "  Building wheel for tqdm (PEP 517): finished with status 'done'\n",
      "  Created wheel for tqdm: filename=tqdm-4.62.2.dev2+g98f7289-py2.py3-none-any.whl size=76511 sha256=1b8e048b090e6b3fd218ee4c0053d55ef1422cadcc4b1fb0a9d5d5ae148edca8\n",
      "  Stored in directory: C:\\Users\\bratu\\AppData\\Local\\Temp\\pip-ephem-wheel-cache-4hlolu5z\\wheels\\f1\\58\\54\\d72aae0c3247efd40fa1ab18ef7a77c9be7c69953ed9ec71ff\n",
      "Successfully built tqdm\n",
      "Installing collected packages: tqdm\n",
      "  Attempting uninstall: tqdm\n",
      "    Found existing installation: tqdm 4.61.2.dev2+gd2a6ec2\n",
      "    Uninstalling tqdm-4.61.2.dev2+gd2a6ec2:\n",
      "      Successfully uninstalled tqdm-4.61.2.dev2+gd2a6ec2\n",
      "Successfully installed tqdm-4.62.2.dev2+g98f7289\n"
     ]
    },
    {
     "name": "stderr",
     "output_type": "stream",
     "text": [
      "  Running command git clone -q https://github.com/tqdm/tqdm.git 'C:\\Users\\bratu\\AppData\\Local\\Temp\\pip-install-6wubily5\\tqdm_c06182047be94c958431d2d7703891c9'\n",
      "  Running command git checkout -b devel --track origin/devel\n",
      "  Branch 'devel' set up to track remote branch 'devel' from 'origin'.\n",
      "  Switched to a new branch 'devel'\n",
      "fatal: destination path 'keras-tuner' already exists and is not an empty directory.\n"
     ]
    },
    {
     "name": "stdout",
     "output_type": "stream",
     "text": [
      "Collecting git+https://github.com/paulgavrikov/visualkeras\n",
      "  Cloning https://github.com/paulgavrikov/visualkeras to c:\\users\\bratu\\appdata\\local\\temp\\pip-req-build-xpvmc623\n",
      "  Resolved https://github.com/paulgavrikov/visualkeras to commit 39373a627f38a5880a1f9716089d77c2a6230722\n",
      "Requirement already satisfied: pillow>=6.2.0 in c:\\users\\bratu\\desktop\\bachelor\\thesis\\venv\\lib\\site-packages (from visualkeras==0.0.2) (8.2.0)\n",
      "Requirement already satisfied: numpy>=1.18.1 in c:\\users\\bratu\\desktop\\bachelor\\thesis\\venv\\lib\\site-packages (from visualkeras==0.0.2) (1.19.5)\n",
      "Collecting aggdraw>=1.3.11\n",
      "  Using cached aggdraw-1.3.12-cp38-cp38-win_amd64.whl (42 kB)\n",
      "Building wheels for collected packages: visualkeras\n",
      "  Building wheel for visualkeras (setup.py): started\n",
      "  Building wheel for visualkeras (setup.py): finished with status 'done'\n",
      "  Created wheel for visualkeras: filename=visualkeras-0.0.2-py3-none-any.whl size=13042 sha256=10e1f8a0a3f20038fd3b224639ddf9ccc747b616ce4cefdfe2ef309ee9e4b96f\n",
      "  Stored in directory: C:\\Users\\bratu\\AppData\\Local\\Temp\\pip-ephem-wheel-cache-5n9er4k6\\wheels\\e6\\fe\\80\\74c54ccb79205ab57079259bc349e1629373e811e1c82ed535\n",
      "Successfully built visualkeras\n",
      "Installing collected packages: aggdraw, visualkeras"
     ]
    },
    {
     "name": "stderr",
     "output_type": "stream",
     "text": [
      "  Running command git clone -q https://github.com/paulgavrikov/visualkeras 'C:\\Users\\bratu\\AppData\\Local\\Temp\\pip-req-build-xpvmc623'\n"
     ]
    },
    {
     "name": "stdout",
     "output_type": "stream",
     "text": [
      "\n",
      "Successfully installed aggdraw-1.3.12 visualkeras-0.0.2\n",
      "Collecting git+http://github.com/fmfn/BayesianOptimization.git\n",
      "  Cloning http://github.com/fmfn/BayesianOptimization.git to c:\\users\\bratu\\appdata\\local\\temp\\pip-req-build-4fqsu505\n",
      "  Resolved http://github.com/fmfn/BayesianOptimization.git to commit 91441fe4002fb6ebdb4aa5e33826230d8df560d0\n",
      "Requirement already satisfied: numpy>=1.9.0 in c:\\users\\bratu\\desktop\\bachelor\\thesis\\venv\\lib\\site-packages (from bayesian-optimization==1.2.0) (1.19.5)\n",
      "Requirement already satisfied: scipy>=0.14.0 in c:\\users\\bratu\\desktop\\bachelor\\thesis\\venv\\lib\\site-packages (from bayesian-optimization==1.2.0) (1.6.3)\n",
      "Requirement already satisfied: scikit-learn>=0.18.0 in c:\\users\\bratu\\desktop\\bachelor\\thesis\\venv\\lib\\site-packages (from bayesian-optimization==1.2.0) (0.24.2)\n",
      "Requirement already satisfied: threadpoolctl>=2.0.0 in c:\\users\\bratu\\desktop\\bachelor\\thesis\\venv\\lib\\site-packages (from scikit-learn>=0.18.0->bayesian-optimization==1.2.0) (2.1.0)\n",
      "Requirement already satisfied: joblib>=0.11 in c:\\users\\bratu\\desktop\\bachelor\\thesis\\venv\\lib\\site-packages (from scikit-learn>=0.18.0->bayesian-optimization==1.2.0) (1.0.1)\n",
      "Building wheels for collected packages: bayesian-optimization\n",
      "  Building wheel for bayesian-optimization (setup.py): started\n",
      "  Building wheel for bayesian-optimization (setup.py): finished with status 'done'\n",
      "  Created wheel for bayesian-optimization: filename=bayesian_optimization-1.2.0-py3-none-any.whl size=13625 sha256=c2060c89ff4da7f20c1508b5023002ed702bc686d39f6f253ecdd5856d3d5422\n",
      "  Stored in directory: C:\\Users\\bratu\\AppData\\Local\\Temp\\pip-ephem-wheel-cache-l7aebq4e\\wheels\\40\\4d\\7c\\bdc87cf9606d3ef213031da377a5a030df71c36ff1603ded82\n",
      "Successfully built bayesian-optimization\n",
      "Installing collected packages: bayesian-optimization\n"
     ]
    },
    {
     "name": "stderr",
     "output_type": "stream",
     "text": [
      "  Running command git clone -q http://github.com/fmfn/BayesianOptimization.git 'C:\\Users\\bratu\\AppData\\Local\\Temp\\pip-req-build-4fqsu505'\n"
     ]
    },
    {
     "name": "stdout",
     "output_type": "stream",
     "text": [
      "Successfully installed bayesian-optimization-1.2.0\n"
     ]
    }
   ],
   "source": [
    "# install finrl library\n",
    "!pip install git+https://github.com/AI4Finance-LLC/FinRL-Library.git -q\n",
    "!pip install pyclustering -q\n",
    "!pip install \"git+https://github.com/tqdm/tqdm.git@devel#egg=tqdm\"\n",
    "!git clone https://github.com/keras-team/keras-tuner -q\n",
    "!pip install keras-tuner -q\n",
    "!pip install git+https://github.com/paulgavrikov/visualkeras\n",
    "!pip install git+http://github.com/fmfn/BayesianOptimization.git"
   ]
  },
  {
   "cell_type": "code",
   "execution_count": 1,
   "metadata": {
    "id": "ivHAT94tV_q7"
   },
   "outputs": [],
   "source": [
    "import math\n",
    "import pickle\n",
    "import random\n",
    "import copy\n",
    "import itertools\n",
    "from math import sqrt\n",
    "from typing import List\n",
    "from copy import deepcopy\n",
    "from tqdm import tqdm\n",
    "from collections import Counter\n",
    "\n",
    "import numpy as np\n",
    "import kerastuner as kt\n",
    "import pandas as pd\n",
    "from tqdm import tqdm\n",
    "from scipy import stats\n",
    "from collections import namedtuple\n",
    "from datetime import datetime, date, timedelta\n",
    "\n",
    "from itertools import combinations\n",
    "\n",
    "import tensorflow as tf\n",
    "import tensorflow.keras as keras\n",
    "import tensorflow.keras.layers as layers\n",
    "\n",
    "from keras import backend\n",
    "from typing import List\n",
    "from IPython.display import clear_output\n",
    "\n",
    "from sklearn import preprocessing\n",
    "from sklearn.cluster import DBSCAN\n",
    "from sklearn.model_selection import train_test_split\n",
    "from sklearn.metrics import silhouette_score as sh_score\n",
    "from sklearn.decomposition import PCA\n",
    "\n",
    "from pyclustering.cluster.optics import optics\n",
    "import yfinance as yf\n",
    "\n",
    "from finrl.config import config as finrl_config\n",
    "from finrl.preprocessing.data import data_split\n",
    "from finrl.env.env_portfolio import StockPortfolioEnv\n",
    "from finrl.marketdata.yahoodownloader import YahooDownloader\n",
    "from finrl.preprocessing.preprocessors import FeatureEngineer\n",
    "\n",
    "from scipy.spatial.distance import pdist, squareform\n",
    "import datetime"
   ]
  },
  {
   "cell_type": "code",
   "execution_count": 3,
   "metadata": {
    "id": "BU_k9y-VaJIZ"
   },
   "outputs": [],
   "source": [
    "from matplotlib import pyplot as plt\n",
    "%matplotlib inline"
   ]
  },
  {
   "cell_type": "code",
   "execution_count": 4,
   "metadata": {
    "id": "ZDSdhm-LDlk0"
   },
   "outputs": [],
   "source": [
    "import seaborn as sns\n",
    "\n",
    "sns.set(rc={'figure.figsize':(11.7,8.27)})"
   ]
  },
  {
   "cell_type": "markdown",
   "metadata": {
    "id": "bQu47vOmKYvk"
   },
   "source": [
    "# Mount Google Drive"
   ]
  },
  {
   "cell_type": "markdown",
   "metadata": {
    "id": "aTKZbt1iKNqX"
   },
   "source": [
    "# Constants"
   ]
  },
  {
   "cell_type": "code",
   "execution_count": 26,
   "metadata": {
    "id": "kiJui8b5KPR5"
   },
   "outputs": [],
   "source": [
    "TIME_STEPS = 20\n",
    "TIME_STEPS_COMMON = 8\n",
    "COLS = ['open', 'high', 'low', 'close', 'volume']\n",
    "NUM_FEATURES = len(COLS)\n",
    "ROOT = 'weights'"
   ]
  },
  {
   "cell_type": "markdown",
   "metadata": {
    "id": "MBCjCLBRQerX"
   },
   "source": [
    "# Dataset analysis"
   ]
  },
  {
   "cell_type": "code",
   "execution_count": 6,
   "metadata": {
    "id": "Vp_eMMxfoqXw"
   },
   "outputs": [
    {
     "data": {
      "text/html": [
       "<div>\n",
       "<style scoped>\n",
       "    .dataframe tbody tr th:only-of-type {\n",
       "        vertical-align: middle;\n",
       "    }\n",
       "\n",
       "    .dataframe tbody tr th {\n",
       "        vertical-align: top;\n",
       "    }\n",
       "\n",
       "    .dataframe thead th {\n",
       "        text-align: right;\n",
       "    }\n",
       "</style>\n",
       "<table border=\"1\" class=\"dataframe\">\n",
       "  <thead>\n",
       "    <tr style=\"text-align: right;\">\n",
       "      <th></th>\n",
       "      <th>date</th>\n",
       "      <th>time</th>\n",
       "      <th>open</th>\n",
       "      <th>high</th>\n",
       "      <th>low</th>\n",
       "      <th>close</th>\n",
       "      <th>volume</th>\n",
       "    </tr>\n",
       "  </thead>\n",
       "  <tbody>\n",
       "    <tr>\n",
       "      <th>0</th>\n",
       "      <td>1998/02/01</td>\n",
       "      <td>09:30</td>\n",
       "      <td>13.6250</td>\n",
       "      <td>13.7500</td>\n",
       "      <td>13.5000</td>\n",
       "      <td>13.6875</td>\n",
       "      <td>202700</td>\n",
       "    </tr>\n",
       "    <tr>\n",
       "      <th>1</th>\n",
       "      <td>1998/02/01</td>\n",
       "      <td>09:45</td>\n",
       "      <td>13.6875</td>\n",
       "      <td>13.7500</td>\n",
       "      <td>13.5000</td>\n",
       "      <td>13.6250</td>\n",
       "      <td>334000</td>\n",
       "    </tr>\n",
       "    <tr>\n",
       "      <th>2</th>\n",
       "      <td>1998/02/01</td>\n",
       "      <td>10:00</td>\n",
       "      <td>13.6250</td>\n",
       "      <td>13.7500</td>\n",
       "      <td>13.5625</td>\n",
       "      <td>13.7500</td>\n",
       "      <td>299900</td>\n",
       "    </tr>\n",
       "    <tr>\n",
       "      <th>3</th>\n",
       "      <td>1998/02/01</td>\n",
       "      <td>10:15</td>\n",
       "      <td>13.7500</td>\n",
       "      <td>14.0000</td>\n",
       "      <td>13.6250</td>\n",
       "      <td>14.0000</td>\n",
       "      <td>430201</td>\n",
       "    </tr>\n",
       "    <tr>\n",
       "      <th>4</th>\n",
       "      <td>1998/02/01</td>\n",
       "      <td>10:30</td>\n",
       "      <td>13.9375</td>\n",
       "      <td>14.8125</td>\n",
       "      <td>13.7500</td>\n",
       "      <td>14.6250</td>\n",
       "      <td>944200</td>\n",
       "    </tr>\n",
       "    <tr>\n",
       "      <th>5</th>\n",
       "      <td>1998/02/01</td>\n",
       "      <td>10:45</td>\n",
       "      <td>14.6250</td>\n",
       "      <td>14.7500</td>\n",
       "      <td>14.3750</td>\n",
       "      <td>14.4375</td>\n",
       "      <td>218103</td>\n",
       "    </tr>\n",
       "    <tr>\n",
       "      <th>6</th>\n",
       "      <td>1998/02/01</td>\n",
       "      <td>11:00</td>\n",
       "      <td>14.4375</td>\n",
       "      <td>14.6875</td>\n",
       "      <td>14.3750</td>\n",
       "      <td>14.6250</td>\n",
       "      <td>463100</td>\n",
       "    </tr>\n",
       "    <tr>\n",
       "      <th>7</th>\n",
       "      <td>1998/02/01</td>\n",
       "      <td>11:15</td>\n",
       "      <td>14.6250</td>\n",
       "      <td>14.6250</td>\n",
       "      <td>14.5625</td>\n",
       "      <td>14.6250</td>\n",
       "      <td>130900</td>\n",
       "    </tr>\n",
       "    <tr>\n",
       "      <th>8</th>\n",
       "      <td>1998/02/01</td>\n",
       "      <td>11:30</td>\n",
       "      <td>14.6250</td>\n",
       "      <td>14.6250</td>\n",
       "      <td>14.5000</td>\n",
       "      <td>14.5000</td>\n",
       "      <td>135500</td>\n",
       "    </tr>\n",
       "    <tr>\n",
       "      <th>9</th>\n",
       "      <td>1998/02/01</td>\n",
       "      <td>11:45</td>\n",
       "      <td>14.5625</td>\n",
       "      <td>14.7500</td>\n",
       "      <td>14.5000</td>\n",
       "      <td>14.6250</td>\n",
       "      <td>118600</td>\n",
       "    </tr>\n",
       "    <tr>\n",
       "      <th>10</th>\n",
       "      <td>1998/02/01</td>\n",
       "      <td>12:00</td>\n",
       "      <td>14.6875</td>\n",
       "      <td>14.9375</td>\n",
       "      <td>14.6250</td>\n",
       "      <td>14.8750</td>\n",
       "      <td>143300</td>\n",
       "    </tr>\n",
       "    <tr>\n",
       "      <th>11</th>\n",
       "      <td>1998/02/01</td>\n",
       "      <td>12:15</td>\n",
       "      <td>14.9375</td>\n",
       "      <td>15.2500</td>\n",
       "      <td>14.8125</td>\n",
       "      <td>15.0625</td>\n",
       "      <td>271600</td>\n",
       "    </tr>\n",
       "    <tr>\n",
       "      <th>12</th>\n",
       "      <td>1998/02/01</td>\n",
       "      <td>12:30</td>\n",
       "      <td>15.0625</td>\n",
       "      <td>15.1875</td>\n",
       "      <td>15.0000</td>\n",
       "      <td>15.1250</td>\n",
       "      <td>232900</td>\n",
       "    </tr>\n",
       "    <tr>\n",
       "      <th>13</th>\n",
       "      <td>1998/02/01</td>\n",
       "      <td>12:45</td>\n",
       "      <td>15.1250</td>\n",
       "      <td>15.3125</td>\n",
       "      <td>15.0625</td>\n",
       "      <td>15.2500</td>\n",
       "      <td>125200</td>\n",
       "    </tr>\n",
       "    <tr>\n",
       "      <th>14</th>\n",
       "      <td>1998/02/01</td>\n",
       "      <td>13:00</td>\n",
       "      <td>15.3125</td>\n",
       "      <td>15.3125</td>\n",
       "      <td>15.0625</td>\n",
       "      <td>15.1875</td>\n",
       "      <td>121300</td>\n",
       "    </tr>\n",
       "    <tr>\n",
       "      <th>15</th>\n",
       "      <td>1998/02/01</td>\n",
       "      <td>13:15</td>\n",
       "      <td>15.1250</td>\n",
       "      <td>15.3125</td>\n",
       "      <td>15.0625</td>\n",
       "      <td>15.3125</td>\n",
       "      <td>89700</td>\n",
       "    </tr>\n",
       "    <tr>\n",
       "      <th>16</th>\n",
       "      <td>1998/02/01</td>\n",
       "      <td>13:30</td>\n",
       "      <td>15.3125</td>\n",
       "      <td>15.5000</td>\n",
       "      <td>15.3125</td>\n",
       "      <td>15.3750</td>\n",
       "      <td>130300</td>\n",
       "    </tr>\n",
       "    <tr>\n",
       "      <th>17</th>\n",
       "      <td>1998/02/01</td>\n",
       "      <td>13:45</td>\n",
       "      <td>15.4375</td>\n",
       "      <td>15.5000</td>\n",
       "      <td>15.3750</td>\n",
       "      <td>15.4375</td>\n",
       "      <td>84900</td>\n",
       "    </tr>\n",
       "    <tr>\n",
       "      <th>18</th>\n",
       "      <td>1998/02/01</td>\n",
       "      <td>14:00</td>\n",
       "      <td>15.5000</td>\n",
       "      <td>15.8750</td>\n",
       "      <td>15.3750</td>\n",
       "      <td>15.7500</td>\n",
       "      <td>253300</td>\n",
       "    </tr>\n",
       "    <tr>\n",
       "      <th>19</th>\n",
       "      <td>1998/02/01</td>\n",
       "      <td>14:15</td>\n",
       "      <td>15.8750</td>\n",
       "      <td>15.8750</td>\n",
       "      <td>15.3750</td>\n",
       "      <td>15.3750</td>\n",
       "      <td>192200</td>\n",
       "    </tr>\n",
       "  </tbody>\n",
       "</table>\n",
       "</div>"
      ],
      "text/plain": [
       "          date   time     open     high      low    close  volume\n",
       "0   1998/02/01  09:30  13.6250  13.7500  13.5000  13.6875  202700\n",
       "1   1998/02/01  09:45  13.6875  13.7500  13.5000  13.6250  334000\n",
       "2   1998/02/01  10:00  13.6250  13.7500  13.5625  13.7500  299900\n",
       "3   1998/02/01  10:15  13.7500  14.0000  13.6250  14.0000  430201\n",
       "4   1998/02/01  10:30  13.9375  14.8125  13.7500  14.6250  944200\n",
       "5   1998/02/01  10:45  14.6250  14.7500  14.3750  14.4375  218103\n",
       "6   1998/02/01  11:00  14.4375  14.6875  14.3750  14.6250  463100\n",
       "7   1998/02/01  11:15  14.6250  14.6250  14.5625  14.6250  130900\n",
       "8   1998/02/01  11:30  14.6250  14.6250  14.5000  14.5000  135500\n",
       "9   1998/02/01  11:45  14.5625  14.7500  14.5000  14.6250  118600\n",
       "10  1998/02/01  12:00  14.6875  14.9375  14.6250  14.8750  143300\n",
       "11  1998/02/01  12:15  14.9375  15.2500  14.8125  15.0625  271600\n",
       "12  1998/02/01  12:30  15.0625  15.1875  15.0000  15.1250  232900\n",
       "13  1998/02/01  12:45  15.1250  15.3125  15.0625  15.2500  125200\n",
       "14  1998/02/01  13:00  15.3125  15.3125  15.0625  15.1875  121300\n",
       "15  1998/02/01  13:15  15.1250  15.3125  15.0625  15.3125   89700\n",
       "16  1998/02/01  13:30  15.3125  15.5000  15.3125  15.3750  130300\n",
       "17  1998/02/01  13:45  15.4375  15.5000  15.3750  15.4375   84900\n",
       "18  1998/02/01  14:00  15.5000  15.8750  15.3750  15.7500  253300\n",
       "19  1998/02/01  14:15  15.8750  15.8750  15.3750  15.3750  192200"
      ]
     },
     "execution_count": 6,
     "metadata": {},
     "output_type": "execute_result"
    }
   ],
   "source": [
    "aapl = pd.read_csv(f'AAPL.txt', names=['date', 'time', 'open', 'high', 'low', 'close', 'volume'])\n",
    "aapl['date'] = aapl['date'].apply(lambda x: '/'.join(x.split('/')[::-1]))\n",
    "aapl[:20]"
   ]
  },
  {
   "cell_type": "code",
   "execution_count": 7,
   "metadata": {
    "id": "VSS09KSsEpAi"
   },
   "outputs": [
    {
     "data": {
      "text/html": [
       "<div>\n",
       "<style scoped>\n",
       "    .dataframe tbody tr th:only-of-type {\n",
       "        vertical-align: middle;\n",
       "    }\n",
       "\n",
       "    .dataframe tbody tr th {\n",
       "        vertical-align: top;\n",
       "    }\n",
       "\n",
       "    .dataframe thead th {\n",
       "        text-align: right;\n",
       "    }\n",
       "</style>\n",
       "<table border=\"1\" class=\"dataframe\">\n",
       "  <thead>\n",
       "    <tr style=\"text-align: right;\">\n",
       "      <th></th>\n",
       "      <th>open</th>\n",
       "      <th>high</th>\n",
       "      <th>low</th>\n",
       "      <th>close</th>\n",
       "      <th>volume</th>\n",
       "    </tr>\n",
       "  </thead>\n",
       "  <tbody>\n",
       "    <tr>\n",
       "      <th>0</th>\n",
       "      <td>13.6250</td>\n",
       "      <td>14.0000</td>\n",
       "      <td>13.5000</td>\n",
       "      <td>14.0000</td>\n",
       "      <td>1266801</td>\n",
       "    </tr>\n",
       "    <tr>\n",
       "      <th>1</th>\n",
       "      <td>13.9375</td>\n",
       "      <td>14.8125</td>\n",
       "      <td>13.7500</td>\n",
       "      <td>14.6250</td>\n",
       "      <td>1756303</td>\n",
       "    </tr>\n",
       "    <tr>\n",
       "      <th>2</th>\n",
       "      <td>14.6250</td>\n",
       "      <td>15.2500</td>\n",
       "      <td>14.5000</td>\n",
       "      <td>15.0625</td>\n",
       "      <td>669000</td>\n",
       "    </tr>\n",
       "    <tr>\n",
       "      <th>3</th>\n",
       "      <td>15.0625</td>\n",
       "      <td>15.3125</td>\n",
       "      <td>15.0000</td>\n",
       "      <td>15.3125</td>\n",
       "      <td>569100</td>\n",
       "    </tr>\n",
       "    <tr>\n",
       "      <th>4</th>\n",
       "      <td>15.3125</td>\n",
       "      <td>15.8750</td>\n",
       "      <td>15.3125</td>\n",
       "      <td>15.3750</td>\n",
       "      <td>660700</td>\n",
       "    </tr>\n",
       "    <tr>\n",
       "      <th>...</th>\n",
       "      <td>...</td>\n",
       "      <td>...</td>\n",
       "      <td>...</td>\n",
       "      <td>...</td>\n",
       "      <td>...</td>\n",
       "    </tr>\n",
       "    <tr>\n",
       "      <th>72367</th>\n",
       "      <td>120.7200</td>\n",
       "      <td>121.1700</td>\n",
       "      <td>120.6700</td>\n",
       "      <td>121.0300</td>\n",
       "      <td>14035592</td>\n",
       "    </tr>\n",
       "    <tr>\n",
       "      <th>72368</th>\n",
       "      <td>121.0300</td>\n",
       "      <td>121.0300</td>\n",
       "      <td>120.9500</td>\n",
       "      <td>121.0300</td>\n",
       "      <td>122431</td>\n",
       "    </tr>\n",
       "    <tr>\n",
       "      <th>72369</th>\n",
       "      <td>121.0200</td>\n",
       "      <td>121.1100</td>\n",
       "      <td>121.0100</td>\n",
       "      <td>121.0600</td>\n",
       "      <td>49839</td>\n",
       "    </tr>\n",
       "    <tr>\n",
       "      <th>72370</th>\n",
       "      <td>121.0600</td>\n",
       "      <td>121.1000</td>\n",
       "      <td>120.9700</td>\n",
       "      <td>121.0000</td>\n",
       "      <td>57417</td>\n",
       "    </tr>\n",
       "    <tr>\n",
       "      <th>72371</th>\n",
       "      <td>121.0000</td>\n",
       "      <td>121.1000</td>\n",
       "      <td>120.9900</td>\n",
       "      <td>121.0800</td>\n",
       "      <td>53977</td>\n",
       "    </tr>\n",
       "  </tbody>\n",
       "</table>\n",
       "<p>72372 rows × 5 columns</p>\n",
       "</div>"
      ],
      "text/plain": [
       "           open      high       low     close    volume\n",
       "0       13.6250   14.0000   13.5000   14.0000   1266801\n",
       "1       13.9375   14.8125   13.7500   14.6250   1756303\n",
       "2       14.6250   15.2500   14.5000   15.0625    669000\n",
       "3       15.0625   15.3125   15.0000   15.3125    569100\n",
       "4       15.3125   15.8750   15.3125   15.3750    660700\n",
       "...         ...       ...       ...       ...       ...\n",
       "72367  120.7200  121.1700  120.6700  121.0300  14035592\n",
       "72368  121.0300  121.0300  120.9500  121.0300    122431\n",
       "72369  121.0200  121.1100  121.0100  121.0600     49839\n",
       "72370  121.0600  121.1000  120.9700  121.0000     57417\n",
       "72371  121.0000  121.1000  120.9900  121.0800     53977\n",
       "\n",
       "[72372 rows x 5 columns]"
      ]
     },
     "execution_count": 7,
     "metadata": {},
     "output_type": "execute_result"
    }
   ],
   "source": [
    "rolling_aapl = pd.DataFrame()\n",
    "rolling_aapl['open'] = aapl['open'].groupby(aapl['open'].index // 4).apply(lambda arr: arr.iloc[0])\n",
    "rolling_aapl['high'] = aapl['high'].groupby(aapl['high'].index // 4).max()\n",
    "rolling_aapl['low'] = aapl['low'].groupby(aapl['low'].index // 4).min()\n",
    "rolling_aapl['close'] = aapl['close'].groupby(aapl['close'].index // 4).apply(lambda arr: arr.iloc[-1])\n",
    "rolling_aapl['volume'] = aapl['volume'].groupby(aapl['volume'].index // 4).sum()\n",
    "rolling_aapl"
   ]
  },
  {
   "cell_type": "markdown",
   "metadata": {
    "id": "b4Z930xEXAkf"
   },
   "source": [
    "# Data preparation"
   ]
  },
  {
   "cell_type": "code",
   "execution_count": 8,
   "metadata": {
    "id": "p6jyYbUipV4p"
   },
   "outputs": [
    {
     "data": {
      "text/html": [
       "<div>\n",
       "<style scoped>\n",
       "    .dataframe tbody tr th:only-of-type {\n",
       "        vertical-align: middle;\n",
       "    }\n",
       "\n",
       "    .dataframe tbody tr th {\n",
       "        vertical-align: top;\n",
       "    }\n",
       "\n",
       "    .dataframe thead th {\n",
       "        text-align: right;\n",
       "    }\n",
       "</style>\n",
       "<table border=\"1\" class=\"dataframe\">\n",
       "  <thead>\n",
       "    <tr style=\"text-align: right;\">\n",
       "      <th></th>\n",
       "      <th>open</th>\n",
       "      <th>high</th>\n",
       "      <th>low</th>\n",
       "      <th>close</th>\n",
       "    </tr>\n",
       "  </thead>\n",
       "  <tbody>\n",
       "    <tr>\n",
       "      <th>0</th>\n",
       "      <td>13.6250</td>\n",
       "      <td>13.7500</td>\n",
       "      <td>13.5000</td>\n",
       "      <td>13.6875</td>\n",
       "    </tr>\n",
       "    <tr>\n",
       "      <th>1</th>\n",
       "      <td>13.6875</td>\n",
       "      <td>13.7500</td>\n",
       "      <td>13.5000</td>\n",
       "      <td>13.6250</td>\n",
       "    </tr>\n",
       "    <tr>\n",
       "      <th>2</th>\n",
       "      <td>13.6250</td>\n",
       "      <td>13.7500</td>\n",
       "      <td>13.5625</td>\n",
       "      <td>13.7500</td>\n",
       "    </tr>\n",
       "    <tr>\n",
       "      <th>3</th>\n",
       "      <td>13.7500</td>\n",
       "      <td>14.0000</td>\n",
       "      <td>13.6250</td>\n",
       "      <td>14.0000</td>\n",
       "    </tr>\n",
       "    <tr>\n",
       "      <th>4</th>\n",
       "      <td>13.9375</td>\n",
       "      <td>14.8125</td>\n",
       "      <td>13.7500</td>\n",
       "      <td>14.6250</td>\n",
       "    </tr>\n",
       "    <tr>\n",
       "      <th>...</th>\n",
       "      <td>...</td>\n",
       "      <td>...</td>\n",
       "      <td>...</td>\n",
       "      <td>...</td>\n",
       "    </tr>\n",
       "    <tr>\n",
       "      <th>289482</th>\n",
       "      <td>120.9900</td>\n",
       "      <td>121.1000</td>\n",
       "      <td>120.9700</td>\n",
       "      <td>121.0900</td>\n",
       "    </tr>\n",
       "    <tr>\n",
       "      <th>289483</th>\n",
       "      <td>121.0600</td>\n",
       "      <td>121.1000</td>\n",
       "      <td>120.9900</td>\n",
       "      <td>121.0000</td>\n",
       "    </tr>\n",
       "    <tr>\n",
       "      <th>289484</th>\n",
       "      <td>121.0000</td>\n",
       "      <td>121.0700</td>\n",
       "      <td>120.9900</td>\n",
       "      <td>121.0300</td>\n",
       "    </tr>\n",
       "    <tr>\n",
       "      <th>289485</th>\n",
       "      <td>121.0100</td>\n",
       "      <td>121.0300</td>\n",
       "      <td>121.0000</td>\n",
       "      <td>121.0300</td>\n",
       "    </tr>\n",
       "    <tr>\n",
       "      <th>289486</th>\n",
       "      <td>121.0300</td>\n",
       "      <td>121.1000</td>\n",
       "      <td>121.0200</td>\n",
       "      <td>121.0800</td>\n",
       "    </tr>\n",
       "  </tbody>\n",
       "</table>\n",
       "<p>289487 rows × 4 columns</p>\n",
       "</div>"
      ],
      "text/plain": [
       "            open      high       low     close\n",
       "0        13.6250   13.7500   13.5000   13.6875\n",
       "1        13.6875   13.7500   13.5000   13.6250\n",
       "2        13.6250   13.7500   13.5625   13.7500\n",
       "3        13.7500   14.0000   13.6250   14.0000\n",
       "4        13.9375   14.8125   13.7500   14.6250\n",
       "...          ...       ...       ...       ...\n",
       "289482  120.9900  121.1000  120.9700  121.0900\n",
       "289483  121.0600  121.1000  120.9900  121.0000\n",
       "289484  121.0000  121.0700  120.9900  121.0300\n",
       "289485  121.0100  121.0300  121.0000  121.0300\n",
       "289486  121.0300  121.1000  121.0200  121.0800\n",
       "\n",
       "[289487 rows x 4 columns]"
      ]
     },
     "execution_count": 8,
     "metadata": {},
     "output_type": "execute_result"
    }
   ],
   "source": [
    "aapl[['open', 'high', 'low', 'close']]"
   ]
  },
  {
   "cell_type": "code",
   "execution_count": 9,
   "metadata": {
    "id": "6U4QlNG6reu0"
   },
   "outputs": [],
   "source": [
    "aapl[COLS] = np.log(aapl[COLS].values)"
   ]
  },
  {
   "cell_type": "code",
   "execution_count": 10,
   "metadata": {
    "id": "b4yctEOkok-m"
   },
   "outputs": [],
   "source": [
    "price_scaler = preprocessing.MinMaxScaler()\n",
    "volume_scaler = preprocessing.MinMaxScaler()\n",
    "\n",
    "aapl[['open', 'low', 'high', 'close']] = price_scaler.fit_transform(aapl[['open', 'low', 'high', 'close']])\n",
    "aapl['volume'] = volume_scaler.fit_transform(aapl['volume'].values.reshape(-1, 1))"
   ]
  },
  {
   "cell_type": "code",
   "execution_count": 11,
   "metadata": {
    "id": "oDajW2mKX_hJ"
   },
   "outputs": [
    {
     "data": {
      "text/plain": [
       "(              date   time      open      high       low     close    volume\n",
       " 0       1998/02/01  09:30  0.020403  0.014996  0.042787  0.015767  0.562784\n",
       " 1       1998/02/01  09:45  0.021539  0.014996  0.042787  0.014624  0.599697\n",
       " 2       1998/02/01  10:00  0.020403  0.014996  0.043905  0.016904  0.591737\n",
       " 3       1998/02/01  10:15  0.022670  0.019504  0.045018  0.021404  0.618405\n",
       " 4       1998/02/01  10:30  0.026032  0.033617  0.047229  0.032310  0.676505\n",
       " ...            ...    ...       ...       ...       ...       ...       ...\n",
       " 289482  2021/12/03  18:45  0.562532  0.559272  0.573536  0.560158  0.373959\n",
       " 289483  2021/12/03  19:00  0.562675  0.559272  0.573576  0.559972  0.388435\n",
       " 289484  2021/12/03  19:15  0.562552  0.559210  0.573576  0.560034  0.364261\n",
       " 289485  2021/12/03  19:30  0.562573  0.559127  0.573596  0.560034  0.312981\n",
       " 289486  2021/12/03  19:45  0.562614  0.559272  0.573636  0.560137  0.429197\n",
       " \n",
       " [289487 rows x 7 columns],\n",
       " 289487,\n",
       " 7)"
      ]
     },
     "execution_count": 11,
     "metadata": {},
     "output_type": "execute_result"
    }
   ],
   "source": [
    "rows = aapl.shape[0]\n",
    "cols = aapl.shape[1]\n",
    "aapl, rows, cols"
   ]
  },
  {
   "cell_type": "code",
   "execution_count": 12,
   "metadata": {
    "id": "1NRf8XneyHjN"
   },
   "outputs": [],
   "source": [
    "Chunk = namedtuple('Chunk', 'df_chunk init_idx latent_vector')"
   ]
  },
  {
   "cell_type": "code",
   "execution_count": 13,
   "metadata": {
    "id": "tJR63AlFc3RB"
   },
   "outputs": [],
   "source": [
    "# input - df: a Dataframe, chunkSize: the chunk size\n",
    "# output - a list of DataFrame\n",
    "# purpose - splits the DataFrame into smaller chunks\n",
    "def split_dataframe(df, split_size, time_steps_common) -> List[Chunk]: \n",
    "    chunks = list()\n",
    "    num_chunks = len(df) // split_size + 1\n",
    "    step = split_size - time_steps_common\n",
    "    for i in range(0, len(df), step):\n",
    "        if i >= len(df):\n",
    "          break\n",
    "        chunks.append(Chunk(df[i:i+split_size], i, None))\n",
    "    return list(filter(lambda x: len(x.df_chunk) == TIME_STEPS, chunks))"
   ]
  },
  {
   "cell_type": "code",
   "execution_count": 14,
   "metadata": {
    "id": "prCtuP71wWZI"
   },
   "outputs": [
    {
     "data": {
      "text/plain": [
       "24123"
      ]
     },
     "execution_count": 14,
     "metadata": {},
     "output_type": "execute_result"
    }
   ],
   "source": [
    "chunks = split_dataframe(aapl[COLS], split_size=TIME_STEPS, time_steps_common=TIME_STEPS_COMMON)\n",
    "len(chunks)"
   ]
  },
  {
   "cell_type": "code",
   "execution_count": 15,
   "metadata": {
    "id": "wu5TFI7NMg8w"
   },
   "outputs": [
    {
     "data": {
      "text/plain": [
       "Chunk(df_chunk=        open      high       low     close    volume\n",
       "0   0.020403  0.014996  0.042787  0.015767  0.562784\n",
       "1   0.021539  0.014996  0.042787  0.014624  0.599697\n",
       "2   0.020403  0.014996  0.043905  0.016904  0.591737\n",
       "3   0.022670  0.019504  0.045018  0.021404  0.618405\n",
       "4   0.026032  0.033617  0.047229  0.032310  0.676505\n",
       "5   0.037985  0.032560  0.057987  0.029088  0.568198\n",
       "6   0.034782  0.031497  0.057987  0.032310  0.623851\n",
       "7   0.037985  0.030430  0.061124  0.032310  0.530464\n",
       "8   0.037985  0.030430  0.060083  0.030167  0.533016\n",
       "9   0.036922  0.032560  0.060083  0.032310  0.523170\n",
       "10  0.039044  0.035720  0.062161  0.036543  0.537153\n",
       "11  0.043234  0.040900  0.065244  0.039671  0.584411\n",
       "12  0.045303  0.039872  0.068288  0.040705  0.573049\n",
       "13  0.046331  0.041923  0.069295  0.042760  0.527173\n",
       "14  0.049389  0.041923  0.069295  0.041735  0.524834\n",
       "15  0.046331  0.041923  0.069295  0.043781  0.502528\n",
       "16  0.049389  0.044968  0.073279  0.044799  0.530124\n",
       "17  0.051407  0.044968  0.074265  0.045812  0.498463\n",
       "18  0.052410  0.050948  0.074265  0.050816  0.579255\n",
       "19  0.058345  0.050948  0.074265  0.044799  0.558853, init_idx=0, latent_vector=None)"
      ]
     },
     "execution_count": 15,
     "metadata": {},
     "output_type": "execute_result"
    }
   ],
   "source": [
    "chunks[0]"
   ]
  },
  {
   "cell_type": "code",
   "execution_count": 16,
   "metadata": {
    "id": "a506QvF5hRlY"
   },
   "outputs": [],
   "source": [
    "ds = np.array(list(map(lambda x: x.df_chunk, chunks)))"
   ]
  },
  {
   "cell_type": "code",
   "execution_count": 17,
   "metadata": {
    "id": "VeVgPZAFuvSb"
   },
   "outputs": [
    {
     "data": {
      "text/plain": [
       "(24123, 20, 5)"
      ]
     },
     "execution_count": 17,
     "metadata": {},
     "output_type": "execute_result"
    }
   ],
   "source": [
    "ds.shape"
   ]
  },
  {
   "cell_type": "code",
   "execution_count": 18,
   "metadata": {
    "id": "ZMyWpp9N8meK"
   },
   "outputs": [],
   "source": [
    "X_train, X_test = train_test_split(ds, train_size=0.8, shuffle = True)"
   ]
  },
  {
   "cell_type": "code",
   "execution_count": 19,
   "metadata": {
    "id": "Cf2v7p49AfyA"
   },
   "outputs": [
    {
     "data": {
      "text/plain": [
       "array([[[0.57478178, 0.57152679, 0.5853097 , 0.57241088, 0.38745614],\n",
       "        [0.57501604, 0.57174307, 0.5856525 , 0.57254829, 0.37146777],\n",
       "        [0.57505506, 0.57184132, 0.58578568, 0.57264639, 0.31972985],\n",
       "        ...,\n",
       "        [0.57573693, 0.572528  , 0.58626072, 0.57333201, 0.40186532],\n",
       "        [0.57583419, 0.57254759, 0.58635562, 0.57313631, 0.31453829],\n",
       "        [0.57571747, 0.572332  , 0.58631767, 0.57313631, 0.33616209]],\n",
       "\n",
       "       [[0.65585209, 0.65337174, 0.6641201 , 0.65345319, 0.40669614],\n",
       "        [0.65554193, 0.65313052, 0.66262929, 0.65272829, 0.70417548],\n",
       "        [0.65472805, 0.65223458, 0.66276771, 0.65245769, 0.66116533],\n",
       "        ...,\n",
       "        [0.65209011, 0.64954172, 0.66033378, 0.64964898, 0.60745668],\n",
       "        [0.65167494, 0.64941208, 0.66012401, 0.64936059, 0.63338058],\n",
       "        [0.6514169 , 0.64912374, 0.65994207, 0.64910076, 0.61370664]],\n",
       "\n",
       "       [[0.44807984, 0.44396691, 0.4619891 , 0.44498763, 0.29044715],\n",
       "        [0.44811238, 0.44396691, 0.46202082, 0.44508573, 0.22067593],\n",
       "        [0.4483725 , 0.44399966, 0.46202082, 0.44485677, 0.20200488],\n",
       "        ...,\n",
       "        [0.44895644, 0.4446538 , 0.46233779, 0.44531448, 0.59966232],\n",
       "        [0.44853753, 0.44432694, 0.46205254, 0.44528149, 0.62676269],\n",
       "        [0.44850245, 0.44419608, 0.46170344, 0.44459484, 0.65215272]],\n",
       "\n",
       "       ...,\n",
       "\n",
       "       [[0.50171209, 0.49862308, 0.51371581, 0.49943102, 0.69147636],\n",
       "        [0.50236659, 0.49872837, 0.51384387, 0.49927291, 0.68162284],\n",
       "        [0.5021835 , 0.49855726, 0.51412535, 0.49877003, 0.69540916],\n",
       "        ...,\n",
       "        [0.50265402, 0.49984425, 0.51504428, 0.49990423, 0.70953476],\n",
       "        [0.50283676, 0.49920159, 0.51466181, 0.49961505, 0.74086406],\n",
       "        [0.50247115, 0.49867573, 0.51448312, 0.49929949, 0.71633806]],\n",
       "\n",
       "       [[0.57986585, 0.57651254, 0.59045738, 0.57736821, 0.34383275],\n",
       "        [0.57982757, 0.57651254, 0.59043854, 0.57734896, 0.26227218],\n",
       "        [0.57982757, 0.57658966, 0.59043872, 0.5774067 , 0.31707335],\n",
       "        ...,\n",
       "        [0.58013358, 0.57759005, 0.59073707, 0.57834797, 0.51835578],\n",
       "        [0.58080167, 0.57749403, 0.59107228, 0.57809859, 0.43869934],\n",
       "        [0.58049648, 0.57728266, 0.59103505, 0.5780794 , 0.39274653]],\n",
       "\n",
       "       [[0.86186123, 0.8607315 , 0.86516033, 0.86081755, 0.57542526],\n",
       "        [0.86162763, 0.86065101, 0.86487231, 0.86053529, 0.59327666],\n",
       "        [0.86137534, 0.86048993, 0.86478223, 0.86079899, 0.61528916],\n",
       "        ...,\n",
       "        [0.86120289, 0.86013023, 0.86465006, 0.86026015, 0.23286503],\n",
       "        [0.86095634, 0.85978245, 0.86440955, 0.86004925, 0.25581012],\n",
       "        [0.86086382, 0.86031635, 0.86441557, 0.86066903, 0.28186317]]])"
      ]
     },
     "execution_count": 19,
     "metadata": {},
     "output_type": "execute_result"
    }
   ],
   "source": [
    "X_train"
   ]
  },
  {
   "cell_type": "code",
   "execution_count": 20,
   "metadata": {
    "id": "O-LDK4efo5XN"
   },
   "outputs": [],
   "source": [
    "train_tensor = tf.convert_to_tensor(X_train)\n",
    "test_tensor = tf.convert_to_tensor(X_test)"
   ]
  },
  {
   "cell_type": "code",
   "execution_count": 21,
   "metadata": {
    "id": "pDQSDVNHrJFt"
   },
   "outputs": [
    {
     "data": {
      "text/plain": [
       "<tf.Tensor: shape=(19298, 20, 5), dtype=float64, numpy=\n",
       "array([[[0.57478178, 0.57152679, 0.5853097 , 0.57241088, 0.38745614],\n",
       "        [0.57501604, 0.57174307, 0.5856525 , 0.57254829, 0.37146777],\n",
       "        [0.57505506, 0.57184132, 0.58578568, 0.57264639, 0.31972985],\n",
       "        ...,\n",
       "        [0.57573693, 0.572528  , 0.58626072, 0.57333201, 0.40186532],\n",
       "        [0.57583419, 0.57254759, 0.58635562, 0.57313631, 0.31453829],\n",
       "        [0.57571747, 0.572332  , 0.58631767, 0.57313631, 0.33616209]],\n",
       "\n",
       "       [[0.65585209, 0.65337174, 0.6641201 , 0.65345319, 0.40669614],\n",
       "        [0.65554193, 0.65313052, 0.66262929, 0.65272829, 0.70417548],\n",
       "        [0.65472805, 0.65223458, 0.66276771, 0.65245769, 0.66116533],\n",
       "        ...,\n",
       "        [0.65209011, 0.64954172, 0.66033378, 0.64964898, 0.60745668],\n",
       "        [0.65167494, 0.64941208, 0.66012401, 0.64936059, 0.63338058],\n",
       "        [0.6514169 , 0.64912374, 0.65994207, 0.64910076, 0.61370664]],\n",
       "\n",
       "       [[0.44807984, 0.44396691, 0.4619891 , 0.44498763, 0.29044715],\n",
       "        [0.44811238, 0.44396691, 0.46202082, 0.44508573, 0.22067593],\n",
       "        [0.4483725 , 0.44399966, 0.46202082, 0.44485677, 0.20200488],\n",
       "        ...,\n",
       "        [0.44895644, 0.4446538 , 0.46233779, 0.44531448, 0.59966232],\n",
       "        [0.44853753, 0.44432694, 0.46205254, 0.44528149, 0.62676269],\n",
       "        [0.44850245, 0.44419608, 0.46170344, 0.44459484, 0.65215272]],\n",
       "\n",
       "       ...,\n",
       "\n",
       "       [[0.50171209, 0.49862308, 0.51371581, 0.49943102, 0.69147636],\n",
       "        [0.50236659, 0.49872837, 0.51384387, 0.49927291, 0.68162284],\n",
       "        [0.5021835 , 0.49855726, 0.51412535, 0.49877003, 0.69540916],\n",
       "        ...,\n",
       "        [0.50265402, 0.49984425, 0.51504428, 0.49990423, 0.70953476],\n",
       "        [0.50283676, 0.49920159, 0.51466181, 0.49961505, 0.74086406],\n",
       "        [0.50247115, 0.49867573, 0.51448312, 0.49929949, 0.71633806]],\n",
       "\n",
       "       [[0.57986585, 0.57651254, 0.59045738, 0.57736821, 0.34383275],\n",
       "        [0.57982757, 0.57651254, 0.59043854, 0.57734896, 0.26227218],\n",
       "        [0.57982757, 0.57658966, 0.59043872, 0.5774067 , 0.31707335],\n",
       "        ...,\n",
       "        [0.58013358, 0.57759005, 0.59073707, 0.57834797, 0.51835578],\n",
       "        [0.58080167, 0.57749403, 0.59107228, 0.57809859, 0.43869934],\n",
       "        [0.58049648, 0.57728266, 0.59103505, 0.5780794 , 0.39274653]],\n",
       "\n",
       "       [[0.86186123, 0.8607315 , 0.86516033, 0.86081755, 0.57542526],\n",
       "        [0.86162763, 0.86065101, 0.86487231, 0.86053529, 0.59327666],\n",
       "        [0.86137534, 0.86048993, 0.86478223, 0.86079899, 0.61528916],\n",
       "        ...,\n",
       "        [0.86120289, 0.86013023, 0.86465006, 0.86026015, 0.23286503],\n",
       "        [0.86095634, 0.85978245, 0.86440955, 0.86004925, 0.25581012],\n",
       "        [0.86086382, 0.86031635, 0.86441557, 0.86066903, 0.28186317]]])>"
      ]
     },
     "execution_count": 21,
     "metadata": {},
     "output_type": "execute_result"
    }
   ],
   "source": [
    "train_tensor"
   ]
  },
  {
   "cell_type": "markdown",
   "metadata": {
    "id": "QatuoqFxLHOk"
   },
   "source": [
    "# The Autoencoder"
   ]
  },
  {
   "cell_type": "markdown",
   "metadata": {
    "id": "IKCir986I83b"
   },
   "source": [
    "## Setup AE"
   ]
  },
  {
   "cell_type": "code",
   "execution_count": 22,
   "metadata": {
    "id": "SOscgR8pn3AP"
   },
   "outputs": [],
   "source": [
    "DROP_RATE = 0.3\n",
    "LATENT_SPACE_DIM = 12"
   ]
  },
  {
   "cell_type": "code",
   "execution_count": 23,
   "metadata": {
    "id": "AzdCFNmlwm3Z"
   },
   "outputs": [],
   "source": [
    "encoder_input = keras.Input(shape=(TIME_STEPS, NUM_FEATURES))\n",
    "x = layers.Conv1D(256, 4, padding='same')(encoder_input)\n",
    "x = layers.PReLU()(x)\n",
    "x = layers.Dropout(DROP_RATE)(x)\n",
    "x = layers.Conv1D(256, 4, padding='same')(x)\n",
    "x = layers.PReLU()(x)\n",
    "x = layers.Dropout(DROP_RATE)(x)\n",
    "x = layers.Conv1D(256, 4, padding='same')(x)\n",
    "x = layers.PReLU()(x)\n",
    "x = layers.Dropout(DROP_RATE)(x)\n",
    "x = layers.LSTM(units=256, kernel_initializer='he_uniform', return_sequences=True)(x)\n",
    "x = layers.PReLU()(x)\n",
    "x = layers.Dropout(DROP_RATE)(x)\n",
    "x = layers.LSTM(units=256, kernel_initializer='he_uniform', return_sequences=True)(x)\n",
    "x = layers.PReLU()(x)\n",
    "x = layers.Dropout(DROP_RATE)(x)\n",
    "encoder_output = layers.LSTM(units=LATENT_SPACE_DIM, kernel_initializer='he_uniform', return_sequences=False)(x)\n",
    "encoder = keras.Model(encoder_input, encoder_output, name='encoder')\n",
    "\n",
    "\n",
    "decoder_input = keras.Input(shape=(LATENT_SPACE_DIM,))\n",
    "x = layers.RepeatVector(TIME_STEPS)(decoder_input)\n",
    "x = layers.LSTM(units=256, kernel_initializer='he_uniform', return_sequences=True)(x)\n",
    "x = layers.PReLU()(x)\n",
    "x = layers.Dropout(DROP_RATE)(x)\n",
    "x = layers.LSTM(units=256, kernel_initializer='he_uniform', return_sequences=True)(x)\n",
    "x = layers.PReLU()(x)\n",
    "x = layers.Dropout(DROP_RATE)(x)\n",
    "x = layers.Conv1D(256, 4, padding='same')(x)\n",
    "x = layers.PReLU()(x)\n",
    "x = layers.Dropout(DROP_RATE)(x)\n",
    "x = layers.Conv1D(256, 4, padding='same')(x)\n",
    "x = layers.PReLU()(x)\n",
    "x = layers.Dropout(DROP_RATE)(x)\n",
    "x = layers.Conv1D(256, 4, padding='same')(x)\n",
    "x = layers.PReLU()(x)\n",
    "x = layers.Dropout(DROP_RATE)(x)\n",
    "x = layers.TimeDistributed(layers.Dense(NUM_FEATURES))(x)\n",
    "decoder_output = layers.TimeDistributed(layers.ReLU(max_value=1.0))(x)\n",
    "decoder = keras.Model(decoder_input, decoder_output, name='decoder')\n",
    "\n",
    "# Setup checkpoints\n",
    "checkpoint_path=f'{ROOT}/weights'\n",
    "# cp_callback = tf.keras.callbacks.ModelCheckpoint(filepath=checkpoint_path,\n",
    "#                                                  save_weights_only=True,\n",
    "#                                                  verbose=1)\n",
    "\n",
    "ae_input = keras.Input(shape=(TIME_STEPS, NUM_FEATURES), name='encoder_input')\n",
    "ae_encoding = encoder(ae_input)\n",
    "ae_decoding = decoder(ae_encoding)\n",
    "autoencoder = keras.Model(ae_input, ae_decoding, name=\"autoencoder\")\n",
    "\n",
    "encoder.compile(optimizer=tf.keras.optimizers.SGD(learning_rate=0.00001, nesterov=True), loss='mse')\n",
    "decoder.compile(optimizer=tf.keras.optimizers.SGD(learning_rate=0.00001, nesterov=True), loss='mse')\n",
    "autoencoder.compile(optimizer='adam', loss='mse')"
   ]
  },
  {
   "cell_type": "code",
   "execution_count": 24,
   "metadata": {
    "id": "n7-WKC6Mx87S"
   },
   "outputs": [
    {
     "name": "stdout",
     "output_type": "stream",
     "text": [
      "Model: \"decoder\"\n",
      "_________________________________________________________________\n",
      "Layer (type)                 Output Shape              Param #   \n",
      "=================================================================\n",
      "input_2 (InputLayer)         [(None, 12)]              0         \n",
      "_________________________________________________________________\n",
      "repeat_vector (RepeatVector) (None, 20, 12)            0         \n",
      "_________________________________________________________________\n",
      "lstm_3 (LSTM)                (None, 20, 256)           275456    \n",
      "_________________________________________________________________\n",
      "p_re_lu_5 (PReLU)            (None, 20, 256)           5120      \n",
      "_________________________________________________________________\n",
      "dropout_5 (Dropout)          (None, 20, 256)           0         \n",
      "_________________________________________________________________\n",
      "lstm_4 (LSTM)                (None, 20, 256)           525312    \n",
      "_________________________________________________________________\n",
      "p_re_lu_6 (PReLU)            (None, 20, 256)           5120      \n",
      "_________________________________________________________________\n",
      "dropout_6 (Dropout)          (None, 20, 256)           0         \n",
      "_________________________________________________________________\n",
      "conv1d_3 (Conv1D)            (None, 20, 256)           262400    \n",
      "_________________________________________________________________\n",
      "p_re_lu_7 (PReLU)            (None, 20, 256)           5120      \n",
      "_________________________________________________________________\n",
      "dropout_7 (Dropout)          (None, 20, 256)           0         \n",
      "_________________________________________________________________\n",
      "conv1d_4 (Conv1D)            (None, 20, 256)           262400    \n",
      "_________________________________________________________________\n",
      "p_re_lu_8 (PReLU)            (None, 20, 256)           5120      \n",
      "_________________________________________________________________\n",
      "dropout_8 (Dropout)          (None, 20, 256)           0         \n",
      "_________________________________________________________________\n",
      "conv1d_5 (Conv1D)            (None, 20, 256)           262400    \n",
      "_________________________________________________________________\n",
      "p_re_lu_9 (PReLU)            (None, 20, 256)           5120      \n",
      "_________________________________________________________________\n",
      "dropout_9 (Dropout)          (None, 20, 256)           0         \n",
      "_________________________________________________________________\n",
      "time_distributed (TimeDistri (None, 20, 5)             1285      \n",
      "_________________________________________________________________\n",
      "time_distributed_1 (TimeDist (None, 20, 5)             0         \n",
      "=================================================================\n",
      "Total params: 1,614,853\n",
      "Trainable params: 1,614,853\n",
      "Non-trainable params: 0\n",
      "_________________________________________________________________\n"
     ]
    }
   ],
   "source": [
    "decoder.summary()"
   ]
  },
  {
   "cell_type": "code",
   "execution_count": 25,
   "metadata": {
    "id": "iltOqSVLgIMo"
   },
   "outputs": [
    {
     "name": "stderr",
     "output_type": "stream",
     "text": [
      "WARNING: Error parsing requirements for tqdm: [Errno 2] No such file or directory: 'c:\\\\users\\\\bratu\\\\desktop\\\\bachelor\\\\thesis\\\\venv\\\\lib\\\\site-packages\\\\tqdm-4.61.2.dev2+gd2a6ec2.dist-info\\\\METADATA'\n"
     ]
    }
   ],
   "source": [
    "class SaveBestModel(tf.keras.callbacks.Callback):\n",
    "    def __init__(self, save_best_metric='val_loss', this_max=False):\n",
    "        self.save_best_metric = save_best_metric\n",
    "        self.max = this_max\n",
    "        if this_max:\n",
    "            self.best = float('-inf')\n",
    "        else:\n",
    "            self.best = float('inf')\n",
    "\n",
    "    def on_epoch_end(self, epoch, logs=None):\n",
    "        metric_value = logs[self.save_best_metric]\n",
    "        if self.max:\n",
    "            if metric_value > self.best:\n",
    "                self.best = metric_value\n",
    "                self.best_model = self.model\n",
    "\n",
    "        else:\n",
    "            if metric_value < self.best:\n",
    "                self.best = metric_value\n",
    "                self.best_model = self.model"
   ]
  },
  {
   "cell_type": "markdown",
   "metadata": {
    "id": "JEqeTl5TQJoz"
   },
   "source": [
    "## Train AE"
   ]
  },
  {
   "cell_type": "code",
   "execution_count": 31,
   "metadata": {
    "id": "akEIK-qLJAvx"
   },
   "outputs": [],
   "source": [
    "# best_model_cb = SaveBestModel()\n",
    "\n",
    "# autoencoder.fit(\n",
    "#     x=train_tensor,\n",
    "#     y=train_tensor,\n",
    "#     validation_data=(test_tensor, test_tensor),\n",
    "#     epochs=1000, shuffle=True, batch_size=64, callbacks=[best_model_cb])\n",
    "\n",
    "# autoencoder = best_model_cb.best_model\n",
    "\n",
    "# autoencoder.save_weights(f'{checkpoint_path}/autoencoder-log-alt.weights')\n",
    "# autoencoder.get_layer('decoder').save_weights(f'{checkpoint_path}/decoder-log-alt.weights')\n",
    "# autoencoder.get_layer('encoder').save_weights(f'{checkpoint_path}/encoder-log-alt.weights')"
   ]
  },
  {
   "cell_type": "markdown",
   "metadata": {
    "id": "tJBPUwb1QMjG"
   },
   "source": [
    "## Load AE"
   ]
  },
  {
   "cell_type": "code",
   "execution_count": 29,
   "metadata": {
    "id": "1MlOBD4AQOH9"
   },
   "outputs": [
    {
     "data": {
      "text/plain": [
       "<tensorflow.python.training.tracking.util.CheckpointLoadStatus at 0x1be9a863e80>"
      ]
     },
     "execution_count": 29,
     "metadata": {},
     "output_type": "execute_result"
    }
   ],
   "source": [
    "autoencoder.load_weights(f'{ROOT}/autoencoder-log-alt.weights')\n",
    "decoder.load_weights(f'{ROOT}/decoder-log-alt.weights')\n",
    "encoder.load_weights(f'{ROOT}/encoder-log-alt.weights')"
   ]
  },
  {
   "cell_type": "markdown",
   "metadata": {
    "id": "8hi4mC0vQbOE"
   },
   "source": [
    "## Check results"
   ]
  },
  {
   "cell_type": "code",
   "execution_count": 30,
   "metadata": {
    "id": "Smg9-jS5wyRh"
   },
   "outputs": [
    {
     "name": "stdout",
     "output_type": "stream",
     "text": [
      "151/151 [==============================] - 1s 760us/step - loss: 0.0000e+00\n",
      "ACTUAL TIME SERIES:\n",
      "tf.Tensor(\n",
      "[[0.44804731 0.44468646 0.46004631 0.44295154 0.72768895]\n",
      " [0.44621833 0.4426533  0.45892451 0.44199345 0.73897328]\n",
      " [0.44526585 0.44176271 0.45895664 0.44179476 0.69524314]\n",
      " [0.4450354  0.44076942 0.45682728 0.44043283 0.73822367]\n",
      " [0.44373094 0.44080259 0.45669762 0.44139692 0.72357676]\n",
      " [0.44460684 0.44083576 0.45708638 0.44126416 0.7073058 ]\n",
      " [0.44447483 0.44060349 0.45747452 0.44029956 0.68834512]\n",
      " [0.4435819  0.44040423 0.45737754 0.44119776 0.72557842]\n",
      " [0.44447483 0.44136587 0.45782976 0.44113134 0.5199885 ]\n",
      " [0.44440879 0.440371   0.45821671 0.44119776 0.35609472]\n",
      " [0.44457384 0.440371   0.45782976 0.44136374 0.3255263 ]\n",
      " [0.44457384 0.44017155 0.45837776 0.44116455 0.30393731]\n",
      " [0.44447483 0.44017155 0.45831335 0.44129736 0.30649423]\n",
      " [0.44457384 0.44053709 0.45831335 0.44159592 0.34995525]\n",
      " [0.44480473 0.44057029 0.45782976 0.44162907 0.55773171]\n",
      " [0.44490361 0.44063668 0.45879598 0.44176163 0.30231013]\n",
      " [0.4450354  0.44090209 0.45892451 0.44169536 0.31091799]\n",
      " [0.4450354  0.44126656 0.45882812 0.44219198 0.40337764]\n",
      " [0.44463983 0.44040423 0.45863521 0.4415296  0.16239994]\n",
      " [0.44543033 0.44103468 0.45940592 0.4421589  0.        ]], shape=(20, 5), dtype=float64)\n",
      "DECODED TIME SERIES:\n",
      "[[0.44537824 0.44190353 0.45819175 0.4420742  0.730174  ]\n",
      " [0.44598335 0.44252607 0.45861065 0.44271228 0.7106352 ]\n",
      " [0.4445755  0.44106454 0.45730647 0.4412862  0.69714403]\n",
      " [0.44457448 0.44106516 0.4573899  0.44128728 0.694203  ]\n",
      " [0.4412896  0.43777108 0.4541672  0.4379838  0.70190346]\n",
      " [0.44226858 0.43875548 0.45506066 0.43896505 0.69576216]\n",
      " [0.44139063 0.43784583 0.45425338 0.4380807  0.70044863]\n",
      " [0.44231087 0.43874136 0.45514768 0.4389637  0.7132807 ]\n",
      " [0.4473626  0.44369543 0.46028867 0.44415277 0.5212933 ]\n",
      " [0.44965577 0.44582453 0.4628749  0.44657192 0.34627348]\n",
      " [0.4496919  0.44584584 0.46283138 0.44664976 0.31890115]\n",
      " [0.45065936 0.4467917  0.46385646 0.4476105  0.29945105]\n",
      " [0.45031455 0.44645056 0.4634933  0.4471979  0.36128908]\n",
      " [0.45286784 0.44897115 0.4660716  0.44973934 0.36231774]\n",
      " [0.4488662  0.44524062 0.46178886 0.44570664 0.49305874]\n",
      " [0.4505443  0.44669074 0.463773   0.4475395  0.27140802]\n",
      " [0.45086318 0.44702885 0.46398538 0.44782424 0.30367252]\n",
      " [0.44725356 0.4434939  0.46018547 0.4441102  0.39746648]\n",
      " [0.45105958 0.44725057 0.4641991  0.44813484 0.20996228]\n",
      " [0.44928756 0.44533092 0.46288204 0.4465692  0.        ]]\n",
      "########\n",
      "ACTUAL TIME SERIES:\n",
      "tf.Tensor(\n",
      "[[0.91729353 0.916705   0.91926016 0.91660286 0.18000132]\n",
      " [0.91719522 0.91645737 0.9186936  0.91601833 0.18353964]\n",
      " [0.9168508  0.91611029 0.91893383 0.91626618 0.16198818]\n",
      " [0.91678186 0.91621942 0.91895784 0.91632067 0.11182255]\n",
      " [0.9169837  0.91630868 0.91904906 0.91638506 0.12573106]\n",
      " [0.91697386 0.91650692 0.91773512 0.91514891 0.46348496]\n",
      " [0.91564651 0.91507609 0.91719884 0.91457093 0.44058244]\n",
      " [0.91512151 0.91498639 0.91727138 0.91506927 0.43743597]\n",
      " [0.91558714 0.91483682 0.91709725 0.9144961  0.40549628]\n",
      " [0.91687542 0.91650196 0.91704885 0.91436633 0.51888335]\n",
      " [0.91502035 0.91451744 0.91652559 0.91477039 0.48162095]\n",
      " [0.91527517 0.91463726 0.91683097 0.91459587 0.4521499 ]\n",
      " [0.91509672 0.9144675  0.91686972 0.91439628 0.42008888]\n",
      " [0.91492306 0.9143526  0.91618098 0.91372648 0.50854641]\n",
      " [0.91437172 0.91361699 0.9158602  0.91366641 0.54926477]\n",
      " [0.91415778 0.91437619 0.91512956 0.91337086 0.78504236]\n",
      " [0.91386644 0.91341144 0.91447499 0.9129093  0.75507816]\n",
      " [0.91342004 0.91268814 0.91319985 0.91115058 0.74928937]\n",
      " [0.91165655 0.91185678 0.91354873 0.91112818 0.74163606]\n",
      " [0.91166495 0.9119022  0.91334733 0.9114816  0.7297293 ]], shape=(20, 5), dtype=float64)\n",
      "DECODED TIME SERIES:\n",
      "[[0.91904354 0.91844374 0.9215432  0.91865164 0.19585064]\n",
      " [0.91912466 0.9184923  0.92158103 0.9186897  0.20183545]\n",
      " [0.92017066 0.9195276  0.92276275 0.9197777  0.14424434]\n",
      " [0.9215742  0.9210528  0.9238672  0.92133987 0.13724002]\n",
      " [0.92028034 0.9196919  0.92276585 0.91994053 0.15382686]\n",
      " [0.91911995 0.918663   0.92128646 0.9185801  0.42072335]\n",
      " [0.91848874 0.91804814 0.92066383 0.91805226 0.4000821 ]\n",
      " [0.91863346 0.918161   0.9208332  0.91813993 0.4092311 ]\n",
      " [0.91383857 0.9133807  0.9159681  0.91334045 0.41950864]\n",
      " [0.9158571  0.91542864 0.91800976 0.9152529  0.5200509 ]\n",
      " [0.9167459  0.91633    0.9188428  0.91622126 0.47253364]\n",
      " [0.9168714  0.91648555 0.91884756 0.9163865  0.4514742 ]\n",
      " [0.9143896  0.91400206 0.9164881  0.9139425  0.4483462 ]\n",
      " [0.91761684 0.9172571  0.91951203 0.9171643  0.4765582 ]\n",
      " [0.91354525 0.91319656 0.91552746 0.9130437  0.51415765]\n",
      " [0.91579133 0.91543394 0.91783565 0.91499454 0.7728363 ]\n",
      " [0.9161925  0.91575694 0.9183207  0.9153862  0.73682433]\n",
      " [0.91508865 0.9146705  0.9170249  0.9143315  0.721933  ]\n",
      " [0.9118096  0.9112927  0.9140643  0.9109552  0.71703917]\n",
      " [0.9126435  0.9121442  0.914913   0.91179836 0.7148299 ]]\n",
      "########\n",
      "ACTUAL TIME SERIES:\n",
      "tf.Tensor(\n",
      "[[0.1266147  0.12082212 0.14787554 0.12229753 0.64143722]\n",
      " [0.12720789 0.12212976 0.14799165 0.12158201 0.64577363]\n",
      " [0.12637702 0.12094128 0.14833965 0.12241658 0.66571088]\n",
      " [0.12756312 0.12153623 0.14764314 0.12194002 0.59156447]\n",
      " [0.12685214 0.12034492 0.14787554 0.12158201 0.56112512]\n",
      " [0.1266147  0.12010597 0.14306633 0.11578286 0.67893092]\n",
      " [0.12145388 0.1145463  0.14092441 0.11492578 0.64685711]\n",
      " [0.12023816 0.11491268 0.14164049 0.116637   0.55162761]\n",
      " [0.12181744 0.11540035 0.14164049 0.1154159  0.62262821]\n",
      " [0.1206035  0.11417938 0.14068525 0.11369627 0.63572426]\n",
      " [0.11877139 0.11356666 0.14068525 0.11369627 0.58492644]\n",
      " [0.11926128 0.11233669 0.13972621 0.11344963 0.58152539]\n",
      " [0.11864877 0.11295243 0.1400863  0.1144347  0.58175142]\n",
      " [0.1197502  0.11295243 0.14056557 0.11369627 0.62469233]\n",
      " [0.11877139 0.11196652 0.13996633 0.11320276 0.57311288]\n",
      " [0.11840334 0.11245996 0.13900444 0.11233677 0.6131356 ]\n",
      " [0.11741919 0.11060451 0.13815963 0.11121892 0.63312382]\n",
      " [0.11643113 0.10998296 0.13791772 0.1104709  0.63464265]\n",
      " [0.11630735 0.10998296 0.13646113 0.11009604 0.6702434 ]\n",
      " [0.11543912 0.10923505 0.13560739 0.10921919 0.61898636]], shape=(20, 5), dtype=float64)\n",
      "DECODED TIME SERIES:\n",
      "[[0.14180231 0.13602135 0.16309005 0.13647258 0.65881073]\n",
      " [0.14323366 0.137483   0.16399142 0.1380232  0.6381977 ]\n",
      " [0.14212936 0.13627201 0.16318303 0.13685244 0.61696327]\n",
      " [0.14342934 0.13757217 0.16464204 0.13815391 0.60232973]\n",
      " [0.14408022 0.13822484 0.16523975 0.13880578 0.6040132 ]\n",
      " [0.14739168 0.14156288 0.16841978 0.1421178  0.60918784]\n",
      " [0.14364308 0.13781178 0.1647945  0.13836557 0.61534333]\n",
      " [0.14426064 0.13842303 0.16536018 0.1389868  0.6152907 ]\n",
      " [0.14707604 0.14126426 0.16811538 0.141801   0.6163419 ]\n",
      " [0.14455172 0.13872722 0.16569024 0.1392706  0.61433816]\n",
      " [0.14405084 0.13814962 0.16529274 0.13875002 0.6023824 ]\n",
      " [0.14536166 0.13943136 0.16659006 0.14003754 0.5916165 ]\n",
      " [0.14683712 0.14094761 0.1680618  0.14154756 0.5876998 ]\n",
      " [0.14766783 0.14180332 0.16875735 0.14238063 0.5986506 ]\n",
      " [0.14523941 0.13935876 0.16643444 0.13993779 0.60694563]\n",
      " [0.14307123 0.1371628  0.1643874  0.1377269  0.6101461 ]\n",
      " [0.14559859 0.13979658 0.16656023 0.14035153 0.6185993 ]\n",
      " [0.14157256 0.13583004 0.1621939  0.13635677 0.6384871 ]\n",
      " [0.14575785 0.14005291 0.16654968 0.14049268 0.65258074]\n",
      " [0.13652983 0.1306948  0.15785304 0.13120726 0.63074875]]\n",
      "########\n",
      "ACTUAL TIME SERIES:\n",
      "tf.Tensor(\n",
      "[[0.6417205  0.63884678 0.65078225 0.639607   0.00704451]\n",
      " [0.64164592 0.63952222 0.65070953 0.639682   0.14487335]\n",
      " [0.64179506 0.63892192 0.65085494 0.639682   0.11895581]\n",
      " [0.64179506 0.63892192 0.65085494 0.639682   0.17018729]\n",
      " [0.64253944 0.63985177 0.65158069 0.64061014 0.1772318 ]\n",
      " [0.64271776 0.63998646 0.65158069 0.64058025 0.27356841]\n",
      " [0.64255431 0.63982183 0.65136319 0.64022134 0.29372822]\n",
      " [0.64253944 0.63967207 0.65136319 0.64041581 0.16289105]\n",
      " [0.64210797 0.63982183 0.6511455  0.64056531 0.40677745]\n",
      " [0.64267319 0.64006126 0.65158069 0.64050552 0.40577138]\n",
      " [0.64253944 0.63967207 0.65049125 0.63944191 0.44360773]\n",
      " [0.64155639 0.63916221 0.65017075 0.63992185 0.42874661]\n",
      " [0.64189941 0.63967207 0.65089855 0.6401914  0.4192216 ]\n",
      " [0.64222707 0.63952222 0.65086948 0.63981694 0.43041789]\n",
      " [0.64200371 0.64106139 0.65085494 0.64107292 0.73279897]\n",
      " [0.643163   0.6410018  0.65143571 0.64089388 0.70962963]\n",
      " [0.64299984 0.64059914 0.65174006 0.64062508 0.65817805]\n",
      " [0.64271776 0.64077818 0.65149371 0.64121263 0.6689615 ]\n",
      " [0.64331124 0.64116566 0.65202956 0.64181753 0.64725215]\n",
      " [0.64394764 0.64216139 0.6528239  0.64233745 0.67417664]], shape=(20, 5), dtype=float64)\n",
      "DECODED TIME SERIES:\n",
      "[[0.6368835  0.6341139  0.646381   0.6351753  0.        ]\n",
      " [0.63644063 0.6337588  0.6455899  0.63445556 0.1790177 ]\n",
      " [0.63755196 0.6349129  0.6467118  0.63561964 0.15049922]\n",
      " [0.6392052  0.63658446 0.64833087 0.637314   0.15245792]\n",
      " [0.6382962  0.6356928  0.6474237  0.6363071  0.23078236]\n",
      " [0.63917994 0.63656104 0.6482924  0.6371673  0.24701078]\n",
      " [0.63806117 0.63546824 0.6470878  0.63604057 0.28011927]\n",
      " [0.6390509  0.63645047 0.6481667  0.63715285 0.1721445 ]\n",
      " [0.63668364 0.63420534 0.64547646 0.63461375 0.40195435]\n",
      " [0.6353597  0.6328326  0.6442606  0.6332794  0.38525698]\n",
      " [0.63720787 0.6347291  0.6459705  0.6350995  0.43892854]\n",
      " [0.63709855 0.6346414  0.6458587  0.63503873 0.41881123]\n",
      " [0.6353289  0.63287663 0.6441118  0.63327914 0.42795414]\n",
      " [0.63622725 0.63379633 0.6449077  0.6341795  0.42791855]\n",
      " [0.6335774  0.631166   0.6423077  0.6312584  0.7219922 ]\n",
      " [0.6342084  0.63180846 0.6429296  0.6319361  0.69604665]\n",
      " [0.63312685 0.630691   0.6418456  0.63083506 0.6828939 ]\n",
      " [0.63303035 0.6305963  0.6417213  0.6307568  0.67067045]\n",
      " [0.63385844 0.63140684 0.6426727  0.63158065 0.6644437 ]\n",
      " [0.6343925  0.63191545 0.64329153 0.63211596 0.6564776 ]]\n",
      "########\n",
      "ACTUAL TIME SERIES:\n",
      "tf.Tensor(\n",
      "[[0.67638077 0.67377578 0.68403045 0.67396236 0.63806402]\n",
      " [0.67587439 0.6739979  0.6840558  0.67440648 0.63404901]\n",
      " [0.67632888 0.67377552 0.68420783 0.674289   0.62269341]\n",
      " [0.67619911 0.67361888 0.68394171 0.674289   0.64328861]\n",
      " [0.67617717 0.67410889 0.68433445 0.67455    0.64322503]\n",
      " [0.6764521  0.67440243 0.68446101 0.6747195  0.65438511]\n",
      " [0.6766271  0.67403708 0.68448631 0.67462825 0.65365911]\n",
      " [0.67652989 0.67395872 0.68409382 0.67408    0.66257581]\n",
      " [0.67600433 0.67364504 0.68385294 0.67431511 0.68740034]\n",
      " [0.67623805 0.67380193 0.68325606 0.67341264 0.77024672]\n",
      " [0.67538    0.67339642 0.68269594 0.67367456 0.75702543]\n",
      " [0.67548416 0.67414152 0.68370068 0.67396236 0.5087065 ]\n",
      " [0.67666597 0.67973031 0.68386562 0.679266   0.75979074]\n",
      " [0.6811851  0.6805586  0.68851353 0.68003278 0.6895261 ]\n",
      " [0.68193459 0.68024035 0.68540542 0.68054267 0.64964696]\n",
      " [0.68242877 0.6819288  0.69047144 0.68154663 0.65621527]\n",
      " [0.68338897 0.68138415 0.69101387 0.68168611 0.57190804]\n",
      " [0.68356545 0.68151092 0.69156738 0.68168611 0.52508695]\n",
      " [0.68355284 0.68205529 0.69130923 0.682736   0.55813665]\n",
      " [0.68459657 0.68227018 0.69236466 0.68255922 0.56177301]], shape=(20, 5), dtype=float64)\n",
      "DECODED TIME SERIES:\n",
      "[[0.6717988  0.66955966 0.6796466  0.6697181  0.6385772 ]\n",
      " [0.6716468  0.6694236  0.6793536  0.6695989  0.62854564]\n",
      " [0.6711945  0.6689873  0.67888236 0.66915125 0.6292876 ]\n",
      " [0.6714974  0.66931003 0.67916065 0.66948825 0.6306558 ]\n",
      " [0.6699928  0.66774356 0.6778312  0.6679235  0.63485014]\n",
      " [0.6697316  0.66749656 0.677566   0.6676587  0.6403502 ]\n",
      " [0.6704156  0.6681974  0.67820626 0.668348   0.6582414 ]\n",
      " [0.66937095 0.66716176 0.67714226 0.6672724  0.6726755 ]\n",
      " [0.6686554  0.6664789  0.67632204 0.66654265 0.694317  ]\n",
      " [0.66817933 0.66606915 0.6757789  0.66605085 0.7442244 ]\n",
      " [0.6674796  0.6654921  0.67480797 0.6654207  0.7261147 ]\n",
      " [0.6706336  0.6685382  0.6780614  0.66875887 0.511773  ]\n",
      " [0.6706174  0.6685456  0.6781653  0.6684898  0.7515875 ]\n",
      " [0.6727074  0.6705502  0.6803747  0.6706171  0.68769646]\n",
      " [0.67070824 0.6684911  0.67847383 0.6686165  0.65789825]\n",
      " [0.67159325 0.6693922  0.67932206 0.66955584 0.6268382 ]\n",
      " [0.6723083  0.67007333 0.6800494  0.6702888  0.58523667]\n",
      " [0.6732611  0.67103744 0.6809174  0.6712967  0.55052406]\n",
      " [0.6727177  0.670442   0.68060225 0.67069936 0.55706394]\n",
      " [0.67236596 0.670049   0.68041193 0.67031676 0.5556634 ]]\n",
      "########\n"
     ]
    }
   ],
   "source": [
    "predictions = autoencoder.predict(test_tensor)\n",
    "\n",
    "autoencoder.evaluate(test_tensor)\n",
    "\n",
    "for (y, y_hat) in itertools.islice(zip(test_tensor, predictions), 5):\n",
    "  print(f'ACTUAL TIME SERIES:')\n",
    "  print(y)\n",
    "  print(f'DECODED TIME SERIES:')\n",
    "  print(y_hat)\n",
    "  print('########')"
   ]
  },
  {
   "cell_type": "code",
   "execution_count": 31,
   "metadata": {
    "id": "33d2HbHkKXYW"
   },
   "outputs": [],
   "source": [
    "latent_vectors = encoder.predict(tf.convert_to_tensor(ds))"
   ]
  },
  {
   "cell_type": "code",
   "execution_count": 32,
   "metadata": {
    "id": "dcdfyX2DKRtq"
   },
   "outputs": [
    {
     "data": {
      "text/plain": [
       "(array([[-0.39861548, -0.03944566,  0.27158204, ..., -0.11444458,\n",
       "          0.07899548, -0.05214661],\n",
       "        [-0.2906114 , -0.01206935,  0.18873441, ..., -0.05542064,\n",
       "          0.10372353, -0.04873171],\n",
       "        [-0.2632178 , -0.2141946 ,  0.21472318, ...,  0.06679375,\n",
       "          0.08967863, -0.0856787 ],\n",
       "        ...,\n",
       "        [-0.0977696 ,  0.05081162,  0.34469345, ..., -0.05255457,\n",
       "         -0.12060191, -0.02156346],\n",
       "        [-0.14612226, -0.00444959,  0.3201872 , ..., -0.13124855,\n",
       "          0.04075433,  0.06133635],\n",
       "        [-0.11986099, -0.08506288,  0.07533296, ..., -0.21336697,\n",
       "          0.13933961,  0.08093411]], dtype=float32),\n",
       " (24123, 12))"
      ]
     },
     "execution_count": 32,
     "metadata": {},
     "output_type": "execute_result"
    }
   ],
   "source": [
    "latent_vectors, latent_vectors.shape"
   ]
  },
  {
   "cell_type": "code",
   "execution_count": 33,
   "metadata": {
    "id": "-ZmHxWHoDTis"
   },
   "outputs": [],
   "source": [
    "corr_df = pd.DataFrame(latent_vectors)"
   ]
  },
  {
   "cell_type": "code",
   "execution_count": 34,
   "metadata": {
    "id": "FOUT_sfsDX6t"
   },
   "outputs": [
    {
     "data": {
      "text/plain": [
       "<AxesSubplot:>"
      ]
     },
     "execution_count": 34,
     "metadata": {},
     "output_type": "execute_result"
    },
    {
     "data": {
      "image/png": "[encoded data removed]",
      "text/plain": [
       "<Figure size 842.4x595.44 with 2 Axes>"
      ]
     },
     "metadata": {},
     "output_type": "display_data"
    }
   ],
   "source": [
    "sns.heatmap(corr_df.corr(), vmin=-1, vmax=1)"
   ]
  },
  {
   "cell_type": "markdown",
   "metadata": {
    "id": "AvplKAdzBlI6"
   },
   "source": [
    "# Clustering"
   ]
  },
  {
   "cell_type": "markdown",
   "metadata": {
    "id": "6KAGa1gfXPTG"
   },
   "source": [
    "## Analyse distances between points"
   ]
  },
  {
   "cell_type": "code",
   "execution_count": 35,
   "metadata": {
    "id": "5ZhcXDS8bH37"
   },
   "outputs": [],
   "source": [
    "from scipy.spatial.distance import pdist, squareform\n",
    "\n",
    "distances = squareform(pdist(latent_vectors))"
   ]
  },
  {
   "cell_type": "code",
   "execution_count": 36,
   "metadata": {
    "id": "WupX6QyXHLHw"
   },
   "outputs": [
    {
     "data": {
      "text/plain": [
       "(24123, 24123)"
      ]
     },
     "execution_count": 36,
     "metadata": {},
     "output_type": "execute_result"
    }
   ],
   "source": [
    "distances.shape"
   ]
  },
  {
   "cell_type": "code",
   "execution_count": 37,
   "metadata": {
    "id": "y-RYK08lkfcD"
   },
   "outputs": [],
   "source": [
    "NUM_STEPS = 10\n",
    "eps_range = np.linspace(0.15, 0.25, NUM_STEPS)\n",
    "\n",
    "with open(f'eps_range_aapl', 'wb+') as f:\n",
    "  pickle.dump(eps_range, f)"
   ]
  },
  {
   "cell_type": "code",
   "execution_count": 38,
   "metadata": {
    "id": "v1jqUgbdQ-oi"
   },
   "outputs": [],
   "source": [
    "with open(f'eps_range_aapl', 'rb') as f:\n",
    "  eps_range = pickle.load(f)"
   ]
  },
  {
   "cell_type": "markdown",
   "metadata": {
    "id": "ykr8odfhCCkX"
   },
   "source": [
    "## Training clusters"
   ]
  },
  {
   "cell_type": "code",
   "execution_count": 41,
   "metadata": {
    "id": "zCjiab8Zl9dg"
   },
   "outputs": [
    {
     "name": "stderr",
     "output_type": "stream",
     "text": [
      "100%|██████████████████████████████████████████████████████████████████████████████████| 10/10 [02:15<00:00, 13.53s/it]\n"
     ]
    }
   ],
   "source": [
    "clusterings = []\n",
    "for eps in tqdm(eps_range):\n",
    "  optics_instance = optics(latent_vectors, eps, 3)\n",
    "  optics_instance.process()\n",
    "  clusterings.append(optics_instance) \n",
    "\n",
    "results = {}\n",
    "for eps, inst in zip(eps_range, clusterings):\n",
    "  results[eps] = { \n",
    "      'noise': inst.get_noise(),\n",
    "      'clusters': inst.get_clusters()\n",
    "  } \n",
    "\n",
    "with open(f'{ROOT}/appl-{TIME_STEPS}-{TIME_STEPS_COMMON}-{NUM_STEPS}', 'wb+') as f:\n",
    "  pickle.dump(results, f)"
   ]
  },
  {
   "cell_type": "code",
   "execution_count": 42,
   "metadata": {},
   "outputs": [
    {
     "data": {
      "text/plain": [
       "(20, 8, 10)"
      ]
     },
     "execution_count": 42,
     "metadata": {},
     "output_type": "execute_result"
    }
   ],
   "source": [
    "TIME_STEPS, TIME_STEPS_COMMON, NUM_STEPS"
   ]
  },
  {
   "cell_type": "markdown",
   "metadata": {
    "id": "ABRLX-_PEiYG"
   },
   "source": [
    "## Loading clusters"
   ]
  },
  {
   "cell_type": "code",
   "execution_count": 44,
   "metadata": {
    "id": "9s8vjWLZEhvf"
   },
   "outputs": [],
   "source": [
    "with open(f'{ROOT}/appl-{TIME_STEPS}-{TIME_STEPS_COMMON}-{NUM_STEPS}', 'rb') as f:\n",
    "  results = pickle.load(f)"
   ]
  },
  {
   "cell_type": "markdown",
   "metadata": {
    "id": "M24r_YNC3wG1"
   },
   "source": [
    "# Clustering analysis"
   ]
  },
  {
   "cell_type": "code",
   "execution_count": 45,
   "metadata": {
    "id": "UF-t7r0K0P5Q"
   },
   "outputs": [],
   "source": [
    "def normalize_labels(latent_vectors, clusters, noise_cluster):\n",
    "  labels = [0 for _ in range(len(latent_vectors))]\n",
    "  for c_idx, cluster in enumerate(clusters):\n",
    "    for member in cluster:\n",
    "      labels[member] = c_idx\n",
    "  for member in noise_cluster:\n",
    "    labels[member] = -1\n",
    "  return labels"
   ]
  },
  {
   "cell_type": "code",
   "execution_count": 46,
   "metadata": {
    "id": "uA6-rNLl4_tC"
   },
   "outputs": [
    {
     "data": {
      "text/plain": [
       "(24123, 12)"
      ]
     },
     "execution_count": 46,
     "metadata": {},
     "output_type": "execute_result"
    }
   ],
   "source": [
    "latent_vectors.shape"
   ]
  },
  {
   "cell_type": "code",
   "execution_count": 47,
   "metadata": {
    "id": "DpRNqiN94EDe"
   },
   "outputs": [],
   "source": [
    "clustering_labels = {}\n",
    "for k, v in results.items():\n",
    "  clustering_labels[k] = normalize_labels(latent_vectors, v['clusters'], v['noise'])"
   ]
  },
  {
   "cell_type": "code",
   "execution_count": 48,
   "metadata": {
    "id": "uoGWLCCnCMhK"
   },
   "outputs": [],
   "source": [
    "def get_cluster(latent_vectors, labels, label):\n",
    "  # Get all points belonging to cluster labeled [label]\n",
    "  result = []\n",
    "  for lv, l in zip(latent_vectors, labels):\n",
    "    if l == label:\n",
    "      result.append(lv)\n",
    "  return np.array(result)"
   ]
  },
  {
   "cell_type": "code",
   "execution_count": 49,
   "metadata": {
    "id": "BqIb7GOP9eOG"
   },
   "outputs": [],
   "source": [
    "def calculate_cluster_variance(observations: np.ndarray):\n",
    "  # Calculate the variance of the set of observations\n",
    "  mean = observations.mean()\n",
    "  var = 0.0\n",
    "  for o in observations:\n",
    "    var += ((o - mean) ** 2).sum()\n",
    "  return var"
   ]
  },
  {
   "cell_type": "code",
   "execution_count": 50,
   "metadata": {
    "id": "Wivw2k7i7xDI"
   },
   "outputs": [
    {
     "data": {
      "text/plain": [
       "10466.423843063414"
      ]
     },
     "execution_count": 50,
     "metadata": {},
     "output_type": "execute_result"
    }
   ],
   "source": [
    "total_var = calculate_cluster_variance(latent_vectors)\n",
    "total_var"
   ]
  },
  {
   "cell_type": "markdown",
   "metadata": {
    "id": "P_XHFWWtaSrF"
   },
   "source": [
    "## Find ideal epsilon"
   ]
  },
  {
   "cell_type": "code",
   "execution_count": 51,
   "metadata": {
    "id": "l1C7S-QOBIw-"
   },
   "outputs": [],
   "source": [
    "plot = []\n",
    "for eps in list(clustering_labels.keys()):\n",
    "  labels = clustering_labels[eps]\n",
    "  exp_var = 0.0\n",
    "  for l in set(labels):\n",
    "    if l == -1:\n",
    "      continue\n",
    "    cluster = get_cluster(latent_vectors, labels, l)\n",
    "    exp_var += calculate_cluster_variance(cluster)\n",
    "  plot.append((eps, exp_var/total_var))"
   ]
  },
  {
   "cell_type": "code",
   "execution_count": 52,
   "metadata": {
    "id": "N_8DFnJPCBrO"
   },
   "outputs": [
    {
     "data": {
      "text/plain": [
       "[<matplotlib.lines.Line2D at 0x1bf0764c460>]"
      ]
     },
     "execution_count": 52,
     "metadata": {},
     "output_type": "execute_result"
    },
    {
     "data": {
      "image/png": "[encoded data removed]",
      "text/plain": [
       "<Figure size 842.4x595.44 with 1 Axes>"
      ]
     },
     "metadata": {},
     "output_type": "display_data"
    }
   ],
   "source": [
    "plt.plot([p[0] for p in plot], [p[1] for p in plot], 'yo--')"
   ]
  },
  {
   "cell_type": "code",
   "execution_count": 53,
   "metadata": {
    "id": "hi1byMB8LayU"
   },
   "outputs": [
    {
     "data": {
      "text/plain": [
       "[<matplotlib.lines.Line2D at 0x1bf076a5250>]"
      ]
     },
     "execution_count": 53,
     "metadata": {},
     "output_type": "execute_result"
    },
    {
     "data": {
      "image/png": "[encoded data removed]",
      "text/plain": [
       "<Figure size 842.4x595.44 with 1 Axes>"
      ]
     },
     "metadata": {},
     "output_type": "display_data"
    }
   ],
   "source": [
    "plt.plot([p[0] for p in plot][:20], [p[1] for p in plot][:20], 'go--')"
   ]
  },
  {
   "cell_type": "code",
   "execution_count": 54,
   "metadata": {
    "id": "aO6trD_f60eE"
   },
   "outputs": [
    {
     "data": {
      "text/plain": [
       "Counter({0: 21204,\n",
       "         -1: 2786,\n",
       "         1: 3,\n",
       "         2: 9,\n",
       "         3: 6,\n",
       "         4: 6,\n",
       "         5: 8,\n",
       "         6: 6,\n",
       "         7: 3,\n",
       "         8: 5,\n",
       "         9: 2,\n",
       "         10: 3,\n",
       "         11: 2,\n",
       "         12: 3,\n",
       "         13: 2,\n",
       "         14: 1,\n",
       "         15: 2,\n",
       "         16: 3,\n",
       "         17: 4,\n",
       "         18: 6,\n",
       "         19: 3,\n",
       "         20: 4,\n",
       "         21: 11,\n",
       "         22: 9,\n",
       "         23: 6,\n",
       "         24: 2,\n",
       "         25: 4,\n",
       "         26: 4,\n",
       "         27: 3,\n",
       "         28: 3,\n",
       "         29: 3,\n",
       "         30: 1,\n",
       "         31: 2,\n",
       "         32: 2,\n",
       "         33: 2})"
      ]
     },
     "execution_count": 54,
     "metadata": {},
     "output_type": "execute_result"
    }
   ],
   "source": [
    "labels = list(clustering_labels.values())[7]\n",
    "pts_majority = [x[0] for x in zip(latent_vectors, labels) if x[1] == 0]\n",
    "pts_non_majority = [x[0] for x in zip(latent_vectors, labels) if x[1] != 0]\n",
    "Counter(labels)"
   ]
  },
  {
   "cell_type": "markdown",
   "metadata": {
    "id": "Q1CeYK4qXcM6"
   },
   "source": [
    "## PCA 3D visualization of latent space"
   ]
  },
  {
   "cell_type": "code",
   "execution_count": 62,
   "metadata": {
    "id": "9DPETHZMD_bT"
   },
   "outputs": [],
   "source": [
    "pca_init = PCA(n_components=3)\n",
    "pca_latent = pca_init.fit_transform(latent_vectors)"
   ]
  },
  {
   "cell_type": "code",
   "execution_count": 63,
   "metadata": {
    "id": "5LshJhx-E_SS"
   },
   "outputs": [
    {
     "data": {
      "text/plain": [
       "(array([[ 0.43618414,  0.58003575,  0.01388557],\n",
       "        [ 0.5185512 ,  0.738597  , -0.04199301],\n",
       "        [ 0.50816774,  0.5034655 ,  0.01869515],\n",
       "        ...,\n",
       "        [-0.44651148,  0.01395809, -0.43308407],\n",
       "        [-0.36147994,  0.04021222, -0.30494076],\n",
       "        [-0.3446716 , -0.1096531 ,  0.10183307]], dtype=float32),\n",
       " (24123, 3))"
      ]
     },
     "execution_count": 63,
     "metadata": {},
     "output_type": "execute_result"
    }
   ],
   "source": [
    "pca_latent, pca_latent.shape"
   ]
  },
  {
   "cell_type": "markdown",
   "metadata": {
    "id": "Xn0JO-F4Jrsd"
   },
   "source": [
    "# GAN Network"
   ]
  },
  {
   "cell_type": "markdown",
   "metadata": {
    "id": "cqHEB_7-X1a1"
   },
   "source": [
    "## Define network"
   ]
  },
  {
   "cell_type": "code",
   "execution_count": 82,
   "metadata": {
    "id": "ksXWNUk3abz_"
   },
   "outputs": [],
   "source": [
    "class ClipConstraint(tf.keras.constraints.Constraint):\n",
    "\t# set clip value when initialized\n",
    "\tdef __init__(self, clip_value):\n",
    "\t\tself.clip_value = clip_value\n",
    " \n",
    "\t# clip model weights to hypercube\n",
    "\tdef __call__(self, weights):\n",
    "\t\treturn backend.clip(weights, -self.clip_value, self.clip_value)\n",
    " \n",
    "\t# get the config\n",
    "\tdef get_config(self):\n",
    "\t\treturn {'clip_value': self.clip_value}"
   ]
  },
  {
   "cell_type": "code",
   "execution_count": 83,
   "metadata": {
    "id": "oliNdS4KJvQO"
   },
   "outputs": [],
   "source": [
    "def wasserstein_loss(y_true, y_pred):\n",
    "  return backend.mean(y_true * y_pred)\n",
    "\n",
    "class GAN:\n",
    "\n",
    "  def __init__(self, real_data: List, batch_size: int):\n",
    "    self.real_data = tf.convert_to_tensor(real_data)\n",
    "    self.batch_size = batch_size\n",
    "    self.data_size = self.real_data.shape[1]\n",
    "    self.noise_size = 15\n",
    "\n",
    "    const = ClipConstraint(0.05)\n",
    "\n",
    "    critic_input = keras.Input(shape=(self.data_size, 1))\n",
    "    x = layers.Conv1D(16, 4, 2, padding='same', kernel_constraint=const)(critic_input)\n",
    "    x = layers.LeakyReLU()(x)\n",
    "    x = layers.Conv1D(16, 4, 2, padding='same', kernel_constraint=const)(x)\n",
    "    x = layers.LeakyReLU()(x)\n",
    "    x = layers.Conv1D(16, 4, 2, padding='same', kernel_constraint=const)(x)\n",
    "    x = layers.LeakyReLU()(x)\n",
    "    x = layers.Flatten()(x)\n",
    "    x = layers.Dense(100, kernel_constraint=const)(x)\n",
    "    critic_output = layers.Dense(1, activation='linear')(x)\n",
    "    critic = keras.Model(critic_input, critic_output, name='critic')\n",
    "    critic.compile(loss=wasserstein_loss, optimizer=tf.keras.optimizers.RMSprop(learning_rate=0.0001))\n",
    "\n",
    "    generator_input = keras.Input(shape=(self.noise_size, 1))\n",
    "    x = layers.Dense(20)(generator_input)\n",
    "    x = layers.Conv1D(16, 4, 2, padding='same')(x)\n",
    "    x = layers.LeakyReLU()(x)\n",
    "    x = layers.Conv1D(16, 4, 2, padding='same')(x)\n",
    "    x = layers.LeakyReLU()(x)\n",
    "    x = layers.Flatten()(x)\n",
    "    x = layers.Dense(100)(x)\n",
    "    x = layers.Dense(100)(x)\n",
    "    generator_output = layers.Dense(self.data_size)(x)\n",
    "    generator = keras.Model(generator_input, generator_output, name='generator')\n",
    "    \n",
    "    # Define the combined generator and critic model, for updating the generator\n",
    "    self.gan = keras.Sequential()\n",
    "    self.gan.add(generator)\n",
    "    self.gan.add(critic)\n",
    "    self.gan.compile(loss=wasserstein_loss, optimizer=tf.keras.optimizers.RMSprop(learning_rate=0.0001))\n",
    "\n",
    "  def _get_noise(self, how_many: int):\n",
    "    # Sample random noise\n",
    "    x_input = np.random.randn(how_many, self.noise_size)\n",
    "    # reshape into a batch of inputs for the network\n",
    "    x_input = x_input.reshape(how_many, self.noise_size)\n",
    "    return x_input\n",
    "\n",
    "  def _clip_weights(self):\n",
    "    for l in self.gan.get_layer('critic').layers:\n",
    "      weights = l.get_weights()\n",
    "      weights = [np.clip(w, -0.01, 0.01) for w in weights]\n",
    "      l.set_weights(weights)\n",
    "\n",
    "  def train(self, num_epochs=1000, disc_steps=5):\n",
    "    for i in range(num_epochs):\n",
    "      d_real_all = []\n",
    "      d_fake_all = []\n",
    "      \n",
    "      # Unfreeze the generator so we can train it\n",
    "      self.gan.get_layer('critic').trainable = True\n",
    "\n",
    "      for j in range(disc_steps):\n",
    "        # Train the critic [disc_steps] times as often\n",
    "        X_real = tf.convert_to_tensor([random.choice(self.real_data) for k in range(self.batch_size)])\n",
    "        y_real = tf.convert_to_tensor([-1.0 for k in range(self.batch_size)])\n",
    "\n",
    "        noise_batch = self._get_noise(self.batch_size)\n",
    "        X_fake = self.gan.get_layer('generator').predict(noise_batch)\n",
    "        y_fake = tf.convert_to_tensor([1.0 for k in range(self.batch_size)])\n",
    "\n",
    "        real_l = self.gan.get_layer('critic').train_on_batch(X_real, y_real)\n",
    "        self._clip_weights()\n",
    "        fake_l = self.gan.get_layer('critic').train_on_batch(X_fake, y_fake)\n",
    "        self._clip_weights()\n",
    "        d_real_all.append(real_l)\n",
    "        d_fake_all.append(fake_l)\n",
    "      \n",
    "      # Freeze the critic so we can update only the generator\n",
    "      self.gan.get_layer('critic').trainable = False\n",
    "\n",
    "      noise_batch = self._get_noise(self.batch_size)\n",
    "      # INVERSE THE LABELS IN ORDER TO INCETIVISE THE GENERATOR TOWARDS REAL\n",
    "      y_fake = tf.convert_to_tensor([-1.0 for k in range(self.batch_size)])\n",
    "      g_loss = self.gan.train_on_batch(noise_batch, y_fake)\n",
    "        \n",
    "      # Recall that the Wasserstein loss seeks scores for real and fake that are more different during training\n",
    "      # The benefit of the WGAN is that the loss correlates with generated image quality. Lower loss means better quality images, for a stable training process\n",
    "      print(f'EPOCH {i+1} CRIT REAL {np.mean(d_real_all)} CRIT FAKE {np.mean(d_fake_all)} GENR {g_loss}')\n",
    "      self.gan.save_weights(f'{checkpoint_path}/gan-log-3.weights')\n",
    "\n",
    "      if (i+1) % 20 == 0:\n",
    "        clear_output(wait=False)\n",
    "        self.benchmark()\n",
    "        self.gan.save_weights(f'{checkpoint_path}/gan-log-3.weights')\n",
    "  \n",
    "  def generate_examples(self, num_examples: int):\n",
    "    noise = self._get_noise(num_examples)\n",
    "    return self.gan.get_layer('generator').predict(noise)\n",
    "  \n",
    "  def benchmark(self, num=10):\n",
    "    noise = self._get_noise(num)\n",
    "    real = tf.convert_to_tensor([random.choice(self.real_data) for k in range(num)])\n",
    "    print(f\"FAKE\\n{self.gan.predict(noise)}\\nREAL\\n{self.gan.get_layer('critic').predict(real)}\")\n",
    "    return self.gan.get_layer('generator').predict(noise), self.gan.get_layer('critic').predict(real)"
   ]
  },
  {
   "cell_type": "code",
   "execution_count": 86,
   "metadata": {
    "id": "KyYYGd42Q1rj"
   },
   "outputs": [],
   "source": [
    "gan = GAN(pts_non_majority, batch_size=64)"
   ]
  },
  {
   "cell_type": "code",
   "execution_count": 84,
   "metadata": {},
   "outputs": [],
   "source": [
    "# gan.train(num_epochs=200, disc_steps=20)\n",
    "# gan.gan.save_weights(f'{ROOT}/gan-log-3.weights')"
   ]
  },
  {
   "cell_type": "markdown",
   "metadata": {
    "id": "BcuBn3EQYsFL"
   },
   "source": [
    "## Training and preparing fakes"
   ]
  },
  {
   "cell_type": "code",
   "execution_count": 87,
   "metadata": {
    "id": "21p7NF_S-Y-i"
   },
   "outputs": [
    {
     "data": {
      "text/plain": [
       "<tensorflow.python.training.tracking.util.CheckpointLoadStatus at 0x1bf04ab77c0>"
      ]
     },
     "execution_count": 87,
     "metadata": {},
     "output_type": "execute_result"
    }
   ],
   "source": [
    "gan.gan.load_weights(f'{ROOT}/gan-log-3.weights')"
   ]
  },
  {
   "cell_type": "code",
   "execution_count": 88,
   "metadata": {
    "id": "QRhsag1531R3"
   },
   "outputs": [
    {
     "name": "stdout",
     "output_type": "stream",
     "text": [
      "Model: \"sequential\"\n",
      "_________________________________________________________________\n",
      "Layer (type)                 Output Shape              Param #   \n",
      "=================================================================\n",
      "generator (Functional)       (None, 12)                20188     \n",
      "_________________________________________________________________\n",
      "critic (Functional)          (None, 1)                 5561      \n",
      "=================================================================\n",
      "Total params: 25,749\n",
      "Trainable params: 25,749\n",
      "Non-trainable params: 0\n",
      "_________________________________________________________________\n"
     ]
    }
   ],
   "source": [
    "gan.gan.summary()"
   ]
  },
  {
   "cell_type": "code",
   "execution_count": 89,
   "metadata": {
    "id": "i9dDLqMbIDBp"
   },
   "outputs": [
    {
     "name": "stdout",
     "output_type": "stream",
     "text": [
      "Model: \"generator\"\n",
      "_________________________________________________________________\n",
      "Layer (type)                 Output Shape              Param #   \n",
      "=================================================================\n",
      "input_4 (InputLayer)         [(None, 15, 1)]           0         \n",
      "_________________________________________________________________\n",
      "dense_3 (Dense)              (None, 15, 20)            40        \n",
      "_________________________________________________________________\n",
      "conv1d_9 (Conv1D)            (None, 8, 16)             1296      \n",
      "_________________________________________________________________\n",
      "leaky_re_lu_3 (LeakyReLU)    (None, 8, 16)             0         \n",
      "_________________________________________________________________\n",
      "conv1d_10 (Conv1D)           (None, 4, 16)             1040      \n",
      "_________________________________________________________________\n",
      "leaky_re_lu_4 (LeakyReLU)    (None, 4, 16)             0         \n",
      "_________________________________________________________________\n",
      "flatten_1 (Flatten)          (None, 64)                0         \n",
      "_________________________________________________________________\n",
      "dense_4 (Dense)              (None, 100)               6500      \n",
      "_________________________________________________________________\n",
      "dense_5 (Dense)              (None, 100)               10100     \n",
      "_________________________________________________________________\n",
      "dense_6 (Dense)              (None, 12)                1212      \n",
      "=================================================================\n",
      "Total params: 20,188\n",
      "Trainable params: 20,188\n",
      "Non-trainable params: 0\n",
      "_________________________________________________________________\n"
     ]
    }
   ],
   "source": [
    "gan.gan.get_layer('generator').summary()"
   ]
  },
  {
   "cell_type": "code",
   "execution_count": 90,
   "metadata": {
    "id": "d6Hvz0B0TA9H"
   },
   "outputs": [],
   "source": [
    "pts_non_majority_t = tf.convert_to_tensor(pts_non_majority)"
   ]
  },
  {
   "cell_type": "code",
   "execution_count": 91,
   "metadata": {
    "id": "4929muZSVB4A"
   },
   "outputs": [
    {
     "data": {
      "text/plain": [
       "<tf.Tensor: shape=(12,), dtype=float32, numpy=\n",
       "array([-0.2906114 , -0.01206935,  0.18873441, -0.54608124, -0.340461  ,\n",
       "       -0.06134724, -0.03871496,  0.51779324,  0.11520461, -0.05542064,\n",
       "        0.10372353, -0.04873171], dtype=float32)>"
      ]
     },
     "execution_count": 91,
     "metadata": {},
     "output_type": "execute_result"
    }
   ],
   "source": [
    "pts_non_majority_t[0]"
   ]
  },
  {
   "cell_type": "code",
   "execution_count": 92,
   "metadata": {
    "id": "Rdbzi8nITdSO"
   },
   "outputs": [
    {
     "data": {
      "text/plain": [
       "(2919, 20, 5)"
      ]
     },
     "execution_count": 92,
     "metadata": {},
     "output_type": "execute_result"
    }
   ],
   "source": [
    "decoder.predict(pts_non_majority_t).shape"
   ]
  },
  {
   "cell_type": "markdown",
   "metadata": {
    "id": "qyFnSrW2Y9r9"
   },
   "source": [
    "## Generate fakes"
   ]
  },
  {
   "cell_type": "code",
   "execution_count": 93,
   "metadata": {
    "id": "Eo9EOCaeUWyQ"
   },
   "outputs": [],
   "source": [
    "fake_examples = gan.generate_examples(2919)"
   ]
  },
  {
   "cell_type": "code",
   "execution_count": 108,
   "metadata": {},
   "outputs": [
    {
     "name": "stdout",
     "output_type": "stream",
     "text": [
      "Requirement already satisfied: ipympl in c:\\users\\bratu\\desktop\\bachelor\\thesis\\venv\\lib\\site-packages (0.7.0)\n",
      "Requirement already satisfied: ipykernel>=4.7 in c:\\users\\bratu\\desktop\\bachelor\\thesis\\venv\\lib\\site-packages (from ipympl) (5.5.5)\n",
      "Requirement already satisfied: ipywidgets>=7.6.0 in c:\\users\\bratu\\desktop\\bachelor\\thesis\\venv\\lib\\site-packages (from ipympl) (7.6.3)\n",
      "Requirement already satisfied: matplotlib>=2.0.0 in c:\\users\\bratu\\desktop\\bachelor\\thesis\\venv\\lib\\site-packages (from ipympl) (3.4.2)\n",
      "Requirement already satisfied: tornado>=4.2 in c:\\users\\bratu\\desktop\\bachelor\\thesis\\venv\\lib\\site-packages (from ipykernel>=4.7->ipympl) (6.1)\n",
      "Requirement already satisfied: ipython>=5.0.0 in c:\\users\\bratu\\desktop\\bachelor\\thesis\\venv\\lib\\site-packages (from ipykernel>=4.7->ipympl) (7.24.1)\n",
      "Requirement already satisfied: jupyter-client in c:\\users\\bratu\\desktop\\bachelor\\thesis\\venv\\lib\\site-packages (from ipykernel>=4.7->ipympl) (6.1.12)\n",
      "Requirement already satisfied: traitlets>=4.1.0 in c:\\users\\bratu\\desktop\\bachelor\\thesis\\venv\\lib\\site-packages (from ipykernel>=4.7->ipympl) (5.0.5)\n",
      "Requirement already satisfied: setuptools>=18.5 in c:\\users\\bratu\\desktop\\bachelor\\thesis\\venv\\lib\\site-packages (from ipython>=5.0.0->ipykernel>=4.7->ipympl) (57.4.0)\n",
      "Requirement already satisfied: colorama in c:\\users\\bratu\\desktop\\bachelor\\thesis\\venv\\lib\\site-packages (from ipython>=5.0.0->ipykernel>=4.7->ipympl) (0.4.4)\n",
      "Requirement already satisfied: backcall in c:\\users\\bratu\\desktop\\bachelor\\thesis\\venv\\lib\\site-packages (from ipython>=5.0.0->ipykernel>=4.7->ipympl) (0.2.0)\n",
      "Requirement already satisfied: matplotlib-inline in c:\\users\\bratu\\desktop\\bachelor\\thesis\\venv\\lib\\site-packages (from ipython>=5.0.0->ipykernel>=4.7->ipympl) (0.1.2)\n",
      "Requirement already satisfied: decorator in c:\\users\\bratu\\desktop\\bachelor\\thesis\\venv\\lib\\site-packages (from ipython>=5.0.0->ipykernel>=4.7->ipympl) (5.0.9)\n",
      "Requirement already satisfied: pickleshare in c:\\users\\bratu\\desktop\\bachelor\\thesis\\venv\\lib\\site-packages (from ipython>=5.0.0->ipykernel>=4.7->ipympl) (0.7.5)\n",
      "Requirement already satisfied: prompt-toolkit!=3.0.0,!=3.0.1,<3.1.0,>=2.0.0 in c:\\users\\bratu\\desktop\\bachelor\\thesis\\venv\\lib\\site-packages (from ipython>=5.0.0->ipykernel>=4.7->ipympl) (3.0.18)\n",
      "Requirement already satisfied: pygments in c:\\users\\bratu\\desktop\\bachelor\\thesis\\venv\\lib\\site-packages (from ipython>=5.0.0->ipykernel>=4.7->ipympl) (2.9.0)\n",
      "Requirement already satisfied: jedi>=0.16 in c:\\users\\bratu\\desktop\\bachelor\\thesis\\venv\\lib\\site-packages (from ipython>=5.0.0->ipykernel>=4.7->ipympl) (0.18.0)\n",
      "Requirement already satisfied: jupyterlab-widgets>=1.0.0 in c:\\users\\bratu\\desktop\\bachelor\\thesis\\venv\\lib\\site-packages (from ipywidgets>=7.6.0->ipympl) (1.0.0)\n",
      "Requirement already satisfied: widgetsnbextension~=3.5.0 in c:\\users\\bratu\\desktop\\bachelor\\thesis\\venv\\lib\\site-packages (from ipywidgets>=7.6.0->ipympl) (3.5.1)\n",
      "Requirement already satisfied: nbformat>=4.2.0 in c:\\users\\bratu\\desktop\\bachelor\\thesis\\venv\\lib\\site-packages (from ipywidgets>=7.6.0->ipympl) (5.1.3)\n",
      "Requirement already satisfied: parso<0.9.0,>=0.8.0 in c:\\users\\bratu\\desktop\\bachelor\\thesis\\venv\\lib\\site-packages (from jedi>=0.16->ipython>=5.0.0->ipykernel>=4.7->ipympl) (0.8.2)\n",
      "Requirement already satisfied: python-dateutil>=2.7 in c:\\users\\bratu\\desktop\\bachelor\\thesis\\venv\\lib\\site-packages (from matplotlib>=2.0.0->ipympl) (2.8.1)\n",
      "Requirement already satisfied: pillow>=6.2.0 in c:\\users\\bratu\\desktop\\bachelor\\thesis\\venv\\lib\\site-packages (from matplotlib>=2.0.0->ipympl) (8.2.0)\n",
      "Requirement already satisfied: kiwisolver>=1.0.1 in c:\\users\\bratu\\desktop\\bachelor\\thesis\\venv\\lib\\site-packages (from matplotlib>=2.0.0->ipympl) (1.3.1)\n",
      "Requirement already satisfied: numpy>=1.16 in c:\\users\\bratu\\desktop\\bachelor\\thesis\\venv\\lib\\site-packages (from matplotlib>=2.0.0->ipympl) (1.19.5)\n",
      "Requirement already satisfied: pyparsing>=2.2.1 in c:\\users\\bratu\\desktop\\bachelor\\thesis\\venv\\lib\\site-packages (from matplotlib>=2.0.0->ipympl) (2.4.7)\n",
      "Requirement already satisfied: cycler>=0.10 in c:\\users\\bratu\\desktop\\bachelor\\thesis\\venv\\lib\\site-packages (from matplotlib>=2.0.0->ipympl) (0.10.0)\n",
      "Requirement already satisfied: six in c:\\users\\bratu\\desktop\\bachelor\\thesis\\venv\\lib\\site-packages (from cycler>=0.10->matplotlib>=2.0.0->ipympl) (1.15.0)\n",
      "Requirement already satisfied: jupyter-core in c:\\users\\bratu\\desktop\\bachelor\\thesis\\venv\\lib\\site-packages (from nbformat>=4.2.0->ipywidgets>=7.6.0->ipympl) (4.7.1)\n",
      "Requirement already satisfied: ipython-genutils in c:\\users\\bratu\\desktop\\bachelor\\thesis\\venv\\lib\\site-packages (from nbformat>=4.2.0->ipywidgets>=7.6.0->ipympl) (0.2.0)\n",
      "Requirement already satisfied: jsonschema!=2.5.0,>=2.4 in c:\\users\\bratu\\desktop\\bachelor\\thesis\\venv\\lib\\site-packages (from nbformat>=4.2.0->ipywidgets>=7.6.0->ipympl) (3.2.0)\n",
      "Requirement already satisfied: pyrsistent>=0.14.0 in c:\\users\\bratu\\desktop\\bachelor\\thesis\\venv\\lib\\site-packages (from jsonschema!=2.5.0,>=2.4->nbformat>=4.2.0->ipywidgets>=7.6.0->ipympl) (0.17.3)\n",
      "Requirement already satisfied: attrs>=17.4.0 in c:\\users\\bratu\\desktop\\bachelor\\thesis\\venv\\lib\\site-packages (from jsonschema!=2.5.0,>=2.4->nbformat>=4.2.0->ipywidgets>=7.6.0->ipympl) (21.2.0)\n",
      "Requirement already satisfied: wcwidth in c:\\users\\bratu\\desktop\\bachelor\\thesis\\venv\\lib\\site-packages (from prompt-toolkit!=3.0.0,!=3.0.1,<3.1.0,>=2.0.0->ipython>=5.0.0->ipykernel>=4.7->ipympl) (0.2.5)\n",
      "Requirement already satisfied: notebook>=4.4.1 in c:\\users\\bratu\\desktop\\bachelor\\thesis\\venv\\lib\\site-packages (from widgetsnbextension~=3.5.0->ipywidgets>=7.6.0->ipympl) (6.4.0)\n",
      "Requirement already satisfied: nbconvert in c:\\users\\bratu\\desktop\\bachelor\\thesis\\venv\\lib\\site-packages (from notebook>=4.4.1->widgetsnbextension~=3.5.0->ipywidgets>=7.6.0->ipympl) (6.0.7)\n",
      "Requirement already satisfied: Send2Trash>=1.5.0 in c:\\users\\bratu\\desktop\\bachelor\\thesis\\venv\\lib\\site-packages (from notebook>=4.4.1->widgetsnbextension~=3.5.0->ipywidgets>=7.6.0->ipympl) (1.5.0)\n",
      "Requirement already satisfied: prometheus-client in c:\\users\\bratu\\desktop\\bachelor\\thesis\\venv\\lib\\site-packages (from notebook>=4.4.1->widgetsnbextension~=3.5.0->ipywidgets>=7.6.0->ipympl) (0.11.0)\n",
      "Requirement already satisfied: jinja2 in c:\\users\\bratu\\desktop\\bachelor\\thesis\\venv\\lib\\site-packages (from notebook>=4.4.1->widgetsnbextension~=3.5.0->ipywidgets>=7.6.0->ipympl) (3.0.1)\n",
      "Requirement already satisfied: terminado>=0.8.3 in c:\\users\\bratu\\desktop\\bachelor\\thesis\\venv\\lib\\site-packages (from notebook>=4.4.1->widgetsnbextension~=3.5.0->ipywidgets>=7.6.0->ipympl) (0.10.0)\n",
      "Requirement already satisfied: argon2-cffi in c:\\users\\bratu\\desktop\\bachelor\\thesis\\venv\\lib\\site-packages (from notebook>=4.4.1->widgetsnbextension~=3.5.0->ipywidgets>=7.6.0->ipympl) (20.1.0)\n",
      "Requirement already satisfied: pyzmq>=17 in c:\\users\\bratu\\desktop\\bachelor\\thesis\\venv\\lib\\site-packages (from notebook>=4.4.1->widgetsnbextension~=3.5.0->ipywidgets>=7.6.0->ipympl) (22.1.0)\n",
      "Requirement already satisfied: pywin32>=1.0 in c:\\users\\bratu\\desktop\\bachelor\\thesis\\venv\\lib\\site-packages (from jupyter-core->nbformat>=4.2.0->ipywidgets>=7.6.0->ipympl) (301)\n",
      "Requirement already satisfied: pywinpty>=1.1.0 in c:\\users\\bratu\\desktop\\bachelor\\thesis\\venv\\lib\\site-packages (from terminado>=0.8.3->notebook>=4.4.1->widgetsnbextension~=3.5.0->ipywidgets>=7.6.0->ipympl) (1.1.1)\n",
      "Requirement already satisfied: cffi>=1.0.0 in c:\\users\\bratu\\desktop\\bachelor\\thesis\\venv\\lib\\site-packages (from argon2-cffi->notebook>=4.4.1->widgetsnbextension~=3.5.0->ipywidgets>=7.6.0->ipympl) (1.14.5)\n",
      "Requirement already satisfied: pycparser in c:\\users\\bratu\\desktop\\bachelor\\thesis\\venv\\lib\\site-packages (from cffi>=1.0.0->argon2-cffi->notebook>=4.4.1->widgetsnbextension~=3.5.0->ipywidgets>=7.6.0->ipympl) (2.20)\n",
      "Requirement already satisfied: MarkupSafe>=2.0 in c:\\users\\bratu\\desktop\\bachelor\\thesis\\venv\\lib\\site-packages (from jinja2->notebook>=4.4.1->widgetsnbextension~=3.5.0->ipywidgets>=7.6.0->ipympl) (2.0.1)\n",
      "Requirement already satisfied: pandocfilters>=1.4.1 in c:\\users\\bratu\\desktop\\bachelor\\thesis\\venv\\lib\\site-packages (from nbconvert->notebook>=4.4.1->widgetsnbextension~=3.5.0->ipywidgets>=7.6.0->ipympl) (1.4.3)\n",
      "Requirement already satisfied: defusedxml in c:\\users\\bratu\\desktop\\bachelor\\thesis\\venv\\lib\\site-packages (from nbconvert->notebook>=4.4.1->widgetsnbextension~=3.5.0->ipywidgets>=7.6.0->ipympl) (0.7.1)\n",
      "Requirement already satisfied: jupyterlab-pygments in c:\\users\\bratu\\desktop\\bachelor\\thesis\\venv\\lib\\site-packages (from nbconvert->notebook>=4.4.1->widgetsnbextension~=3.5.0->ipywidgets>=7.6.0->ipympl) (0.1.2)\n",
      "Requirement already satisfied: entrypoints>=0.2.2 in c:\\users\\bratu\\desktop\\bachelor\\thesis\\venv\\lib\\site-packages (from nbconvert->notebook>=4.4.1->widgetsnbextension~=3.5.0->ipywidgets>=7.6.0->ipympl) (0.3)\n",
      "Requirement already satisfied: bleach in c:\\users\\bratu\\desktop\\bachelor\\thesis\\venv\\lib\\site-packages (from nbconvert->notebook>=4.4.1->widgetsnbextension~=3.5.0->ipywidgets>=7.6.0->ipympl) (3.3.0)\n",
      "Requirement already satisfied: nbclient<0.6.0,>=0.5.0 in c:\\users\\bratu\\desktop\\bachelor\\thesis\\venv\\lib\\site-packages (from nbconvert->notebook>=4.4.1->widgetsnbextension~=3.5.0->ipywidgets>=7.6.0->ipympl) (0.5.3)\n",
      "Requirement already satisfied: mistune<2,>=0.8.1 in c:\\users\\bratu\\desktop\\bachelor\\thesis\\venv\\lib\\site-packages (from nbconvert->notebook>=4.4.1->widgetsnbextension~=3.5.0->ipywidgets>=7.6.0->ipympl) (0.8.4)\n",
      "Requirement already satisfied: testpath in c:\\users\\bratu\\desktop\\bachelor\\thesis\\venv\\lib\\site-packages (from nbconvert->notebook>=4.4.1->widgetsnbextension~=3.5.0->ipywidgets>=7.6.0->ipympl) (0.5.0)\n",
      "Requirement already satisfied: async-generator in c:\\users\\bratu\\desktop\\bachelor\\thesis\\venv\\lib\\site-packages (from nbclient<0.6.0,>=0.5.0->nbconvert->notebook>=4.4.1->widgetsnbextension~=3.5.0->ipywidgets>=7.6.0->ipympl) (1.10)\n",
      "Requirement already satisfied: nest-asyncio in c:\\users\\bratu\\desktop\\bachelor\\thesis\\venv\\lib\\site-packages (from nbclient<0.6.0,>=0.5.0->nbconvert->notebook>=4.4.1->widgetsnbextension~=3.5.0->ipywidgets>=7.6.0->ipympl) (1.5.1)\n",
      "Requirement already satisfied: webencodings in c:\\users\\bratu\\desktop\\bachelor\\thesis\\venv\\lib\\site-packages (from bleach->nbconvert->notebook>=4.4.1->widgetsnbextension~=3.5.0->ipywidgets>=7.6.0->ipympl) (0.5.1)\n",
      "Requirement already satisfied: packaging in c:\\users\\bratu\\desktop\\bachelor\\thesis\\venv\\lib\\site-packages (from bleach->nbconvert->notebook>=4.4.1->widgetsnbextension~=3.5.0->ipywidgets>=7.6.0->ipympl) (20.9)\n"
     ]
    }
   ],
   "source": [
    "!pip install ipympl"
   ]
  },
  {
   "cell_type": "code",
   "execution_count": 192,
   "metadata": {},
   "outputs": [
    {
     "data": {
      "image/png": "[encoded data removed]",
      "text/plain": [
       "<Figure size 842.4x595.44 with 1 Axes>"
      ]
     },
     "metadata": {},
     "output_type": "display_data"
    }
   ],
   "source": [
    "ax = plt.axes(projection='3d')\n",
    "\n",
    "# pca_maj = pca_init.transform(pts_majority)\n",
    "# mask = np.random.choice([False, True], len(pca_maj), p=[0.95, 0.05])\n",
    "# pca_maj = pca_maj[mask]\n",
    "\n",
    "# pca_min = pca_init.transform(pts_non_majority)\n",
    "# mask = np.random.choice([False, True], len(pca_min), p=[0.92, 0.08])\n",
    "# pca_min = pca_min[mask]\n",
    "\n",
    "# pca_fake = pca_init.transform(fake_examples)\n",
    "# mask = np.random.choice([False, True], len(pca_fake), p=[0.92, 0.08])\n",
    "# pca_fake = pca_fake[mask]\n",
    "\n",
    "# pca_fake_bordered = []\n",
    "# for x in pca_fake:\n",
    "#     if any([v > 0.8 or v < -0.8 for v in x]):\n",
    "#         continue\n",
    "#     pca_fake_bordered.append(x)\n",
    "# pca_fake = np.array(pca_fake_bordered)\n",
    "\n",
    "maj = ax.scatter3D(pca_maj[:, 0], pca_maj[:, 1], pca_maj[:, 2], c='grey', alpha=0.2, marker='o')\n",
    "nonmaj = ax.scatter3D(pca_min[:, 0], pca_min[:, 1], pca_min[:, 2], c='green',alpha=0.6, marker='o')\n",
    "# fake = ax.scatter3D(pca_fake[:, 0], pca_fake[:, 1], pca_fake[:, 2], c='red', alpha=0.6, marker='o')\n",
    "# ax.set_title('Majority and minority points distribution')\n",
    "ax.legend([maj, nonmaj], ['Majority', 'Minority'])\n",
    "# ax.set_title('Majority, minority and generated points distribution')\n",
    "# ax.legend([maj, nonmaj, fake], ['Majority', 'Minority', 'Generated'])\n",
    "\n",
    "ax.view_init(elev=15, azim=120)"
   ]
  },
  {
   "cell_type": "code",
   "execution_count": 70,
   "metadata": {
    "id": "as93RmoxXTI8"
   },
   "outputs": [
    {
     "data": {
      "text/plain": [
       "(2919, 20, 5)"
      ]
     },
     "execution_count": 70,
     "metadata": {},
     "output_type": "execute_result"
    }
   ],
   "source": [
    "decoder.predict(fake_examples).shape"
   ]
  },
  {
   "cell_type": "code",
   "execution_count": 71,
   "metadata": {
    "id": "WEOb8k8ZXhBd"
   },
   "outputs": [
    {
     "data": {
      "text/plain": [
       "(2919, 12)"
      ]
     },
     "execution_count": 71,
     "metadata": {},
     "output_type": "execute_result"
    }
   ],
   "source": [
    "np.array(pts_non_majority).shape"
   ]
  },
  {
   "cell_type": "code",
   "execution_count": 72,
   "metadata": {
    "id": "CrE2hanvsD_a"
   },
   "outputs": [
    {
     "data": {
      "text/html": [
       "<div>\n",
       "<style scoped>\n",
       "    .dataframe tbody tr th:only-of-type {\n",
       "        vertical-align: middle;\n",
       "    }\n",
       "\n",
       "    .dataframe tbody tr th {\n",
       "        vertical-align: top;\n",
       "    }\n",
       "\n",
       "    .dataframe thead th {\n",
       "        text-align: right;\n",
       "    }\n",
       "</style>\n",
       "<table border=\"1\" class=\"dataframe\">\n",
       "  <thead>\n",
       "    <tr style=\"text-align: right;\">\n",
       "      <th></th>\n",
       "      <th>0</th>\n",
       "      <th>1</th>\n",
       "      <th>2</th>\n",
       "      <th>3</th>\n",
       "      <th>4</th>\n",
       "      <th>5</th>\n",
       "      <th>6</th>\n",
       "      <th>7</th>\n",
       "      <th>8</th>\n",
       "      <th>9</th>\n",
       "      <th>10</th>\n",
       "      <th>11</th>\n",
       "    </tr>\n",
       "  </thead>\n",
       "  <tbody>\n",
       "    <tr>\n",
       "      <th>0</th>\n",
       "      <td>-0.290611</td>\n",
       "      <td>-0.012069</td>\n",
       "      <td>0.188734</td>\n",
       "      <td>-0.546081</td>\n",
       "      <td>-0.340461</td>\n",
       "      <td>-0.061347</td>\n",
       "      <td>-0.038715</td>\n",
       "      <td>0.517793</td>\n",
       "      <td>0.115205</td>\n",
       "      <td>-0.055421</td>\n",
       "      <td>0.103724</td>\n",
       "      <td>-0.048732</td>\n",
       "    </tr>\n",
       "    <tr>\n",
       "      <th>1</th>\n",
       "      <td>-0.263218</td>\n",
       "      <td>-0.214195</td>\n",
       "      <td>0.214723</td>\n",
       "      <td>-0.339556</td>\n",
       "      <td>-0.110675</td>\n",
       "      <td>0.074956</td>\n",
       "      <td>-0.052716</td>\n",
       "      <td>0.471068</td>\n",
       "      <td>0.125437</td>\n",
       "      <td>0.066794</td>\n",
       "      <td>0.089679</td>\n",
       "      <td>-0.085679</td>\n",
       "    </tr>\n",
       "    <tr>\n",
       "      <th>2</th>\n",
       "      <td>-0.133759</td>\n",
       "      <td>0.173298</td>\n",
       "      <td>0.342326</td>\n",
       "      <td>-0.564784</td>\n",
       "      <td>-0.218631</td>\n",
       "      <td>0.259299</td>\n",
       "      <td>-0.098261</td>\n",
       "      <td>0.305348</td>\n",
       "      <td>0.087232</td>\n",
       "      <td>0.169084</td>\n",
       "      <td>-0.198754</td>\n",
       "      <td>-0.164711</td>\n",
       "    </tr>\n",
       "    <tr>\n",
       "      <th>3</th>\n",
       "      <td>-0.044600</td>\n",
       "      <td>0.032486</td>\n",
       "      <td>0.393923</td>\n",
       "      <td>-0.457022</td>\n",
       "      <td>-0.187116</td>\n",
       "      <td>-0.095602</td>\n",
       "      <td>-0.179738</td>\n",
       "      <td>0.401243</td>\n",
       "      <td>-0.125618</td>\n",
       "      <td>-0.111320</td>\n",
       "      <td>0.136679</td>\n",
       "      <td>-0.047606</td>\n",
       "    </tr>\n",
       "    <tr>\n",
       "      <th>4</th>\n",
       "      <td>-0.023935</td>\n",
       "      <td>-0.094080</td>\n",
       "      <td>0.255595</td>\n",
       "      <td>-0.486529</td>\n",
       "      <td>-0.253267</td>\n",
       "      <td>-0.188835</td>\n",
       "      <td>-0.126538</td>\n",
       "      <td>0.532069</td>\n",
       "      <td>0.145826</td>\n",
       "      <td>0.010506</td>\n",
       "      <td>-0.104612</td>\n",
       "      <td>-0.068177</td>\n",
       "    </tr>\n",
       "    <tr>\n",
       "      <th>...</th>\n",
       "      <td>...</td>\n",
       "      <td>...</td>\n",
       "      <td>...</td>\n",
       "      <td>...</td>\n",
       "      <td>...</td>\n",
       "      <td>...</td>\n",
       "      <td>...</td>\n",
       "      <td>...</td>\n",
       "      <td>...</td>\n",
       "      <td>...</td>\n",
       "      <td>...</td>\n",
       "      <td>...</td>\n",
       "    </tr>\n",
       "    <tr>\n",
       "      <th>2914</th>\n",
       "      <td>-0.103215</td>\n",
       "      <td>0.175290</td>\n",
       "      <td>0.320947</td>\n",
       "      <td>0.225412</td>\n",
       "      <td>-0.488490</td>\n",
       "      <td>0.287575</td>\n",
       "      <td>-0.118537</td>\n",
       "      <td>0.500052</td>\n",
       "      <td>0.053928</td>\n",
       "      <td>-0.014576</td>\n",
       "      <td>-0.257693</td>\n",
       "      <td>0.101007</td>\n",
       "    </tr>\n",
       "    <tr>\n",
       "      <th>2915</th>\n",
       "      <td>-0.132599</td>\n",
       "      <td>-0.099102</td>\n",
       "      <td>-0.059437</td>\n",
       "      <td>0.381783</td>\n",
       "      <td>0.289663</td>\n",
       "      <td>-0.265213</td>\n",
       "      <td>0.036844</td>\n",
       "      <td>0.465412</td>\n",
       "      <td>-0.001449</td>\n",
       "      <td>0.006046</td>\n",
       "      <td>0.060676</td>\n",
       "      <td>0.123346</td>\n",
       "    </tr>\n",
       "    <tr>\n",
       "      <th>2916</th>\n",
       "      <td>-0.090910</td>\n",
       "      <td>-0.007915</td>\n",
       "      <td>-0.091570</td>\n",
       "      <td>0.255393</td>\n",
       "      <td>-0.043288</td>\n",
       "      <td>0.167167</td>\n",
       "      <td>0.131810</td>\n",
       "      <td>0.478587</td>\n",
       "      <td>-0.193937</td>\n",
       "      <td>0.289847</td>\n",
       "      <td>0.154536</td>\n",
       "      <td>0.126080</td>\n",
       "    </tr>\n",
       "    <tr>\n",
       "      <th>2917</th>\n",
       "      <td>-0.105453</td>\n",
       "      <td>0.057376</td>\n",
       "      <td>0.127530</td>\n",
       "      <td>0.391568</td>\n",
       "      <td>-0.013333</td>\n",
       "      <td>-0.045720</td>\n",
       "      <td>-0.118098</td>\n",
       "      <td>0.370095</td>\n",
       "      <td>0.036993</td>\n",
       "      <td>-0.047905</td>\n",
       "      <td>0.383159</td>\n",
       "      <td>-0.006004</td>\n",
       "    </tr>\n",
       "    <tr>\n",
       "      <th>2918</th>\n",
       "      <td>-0.103805</td>\n",
       "      <td>0.128498</td>\n",
       "      <td>-0.043518</td>\n",
       "      <td>0.336428</td>\n",
       "      <td>0.083621</td>\n",
       "      <td>-0.123882</td>\n",
       "      <td>-0.024652</td>\n",
       "      <td>-0.478087</td>\n",
       "      <td>-0.150461</td>\n",
       "      <td>-0.117574</td>\n",
       "      <td>-0.049368</td>\n",
       "      <td>-0.114823</td>\n",
       "    </tr>\n",
       "  </tbody>\n",
       "</table>\n",
       "<p>2919 rows × 12 columns</p>\n",
       "</div>"
      ],
      "text/plain": [
       "            0         1         2         3         4         5         6   \\\n",
       "0    -0.290611 -0.012069  0.188734 -0.546081 -0.340461 -0.061347 -0.038715   \n",
       "1    -0.263218 -0.214195  0.214723 -0.339556 -0.110675  0.074956 -0.052716   \n",
       "2    -0.133759  0.173298  0.342326 -0.564784 -0.218631  0.259299 -0.098261   \n",
       "3    -0.044600  0.032486  0.393923 -0.457022 -0.187116 -0.095602 -0.179738   \n",
       "4    -0.023935 -0.094080  0.255595 -0.486529 -0.253267 -0.188835 -0.126538   \n",
       "...        ...       ...       ...       ...       ...       ...       ...   \n",
       "2914 -0.103215  0.175290  0.320947  0.225412 -0.488490  0.287575 -0.118537   \n",
       "2915 -0.132599 -0.099102 -0.059437  0.381783  0.289663 -0.265213  0.036844   \n",
       "2916 -0.090910 -0.007915 -0.091570  0.255393 -0.043288  0.167167  0.131810   \n",
       "2917 -0.105453  0.057376  0.127530  0.391568 -0.013333 -0.045720 -0.118098   \n",
       "2918 -0.103805  0.128498 -0.043518  0.336428  0.083621 -0.123882 -0.024652   \n",
       "\n",
       "            7         8         9         10        11  \n",
       "0     0.517793  0.115205 -0.055421  0.103724 -0.048732  \n",
       "1     0.471068  0.125437  0.066794  0.089679 -0.085679  \n",
       "2     0.305348  0.087232  0.169084 -0.198754 -0.164711  \n",
       "3     0.401243 -0.125618 -0.111320  0.136679 -0.047606  \n",
       "4     0.532069  0.145826  0.010506 -0.104612 -0.068177  \n",
       "...        ...       ...       ...       ...       ...  \n",
       "2914  0.500052  0.053928 -0.014576 -0.257693  0.101007  \n",
       "2915  0.465412 -0.001449  0.006046  0.060676  0.123346  \n",
       "2916  0.478587 -0.193937  0.289847  0.154536  0.126080  \n",
       "2917  0.370095  0.036993 -0.047905  0.383159 -0.006004  \n",
       "2918 -0.478087 -0.150461 -0.117574 -0.049368 -0.114823  \n",
       "\n",
       "[2919 rows x 12 columns]"
      ]
     },
     "execution_count": 72,
     "metadata": {},
     "output_type": "execute_result"
    }
   ],
   "source": [
    "pnm_df = pd.DataFrame(pts_non_majority)\n",
    "pnm_df"
   ]
  },
  {
   "cell_type": "markdown",
   "metadata": {
    "id": "3SyrBxGcZQgU"
   },
   "source": [
    "## Correlation comparison with minority"
   ]
  },
  {
   "cell_type": "code",
   "execution_count": 73,
   "metadata": {
    "id": "_GJiCT8tyq6O"
   },
   "outputs": [
    {
     "data": {
      "text/plain": [
       "<AxesSubplot:>"
      ]
     },
     "execution_count": 73,
     "metadata": {},
     "output_type": "execute_result"
    },
    {
     "data": {
      "image/png": "[encoded data removed]",
      "text/plain": [
       "<Figure size 842.4x595.44 with 2 Axes>"
      ]
     },
     "metadata": {},
     "output_type": "display_data"
    }
   ],
   "source": [
    "sns.heatmap(pnm_df.corr(), vmin=-1, vmax=1)"
   ]
  },
  {
   "cell_type": "code",
   "execution_count": 74,
   "metadata": {
    "id": "E9GPvHvBXJ_i"
   },
   "outputs": [
    {
     "data": {
      "text/plain": [
       "<AxesSubplot:>"
      ]
     },
     "execution_count": 74,
     "metadata": {},
     "output_type": "execute_result"
    },
    {
     "data": {
      "image/png": "[encoded data removed]",
      "text/plain": [
       "<Figure size 842.4x595.44 with 2 Axes>"
      ]
     },
     "metadata": {},
     "output_type": "display_data"
    }
   ],
   "source": [
    "sns.heatmap(pd.DataFrame(fake_examples).corr(), vmin=-1, vmax=1)\n",
    "# gan.generate_examples(3935).shape"
   ]
  },
  {
   "cell_type": "code",
   "execution_count": 75,
   "metadata": {
    "id": "Bta6wFQ0X6e8"
   },
   "outputs": [
    {
     "data": {
      "text/plain": [
       "<AxesSubplot:>"
      ]
     },
     "execution_count": 75,
     "metadata": {},
     "output_type": "execute_result"
    },
    {
     "data": {
      "image/png": "[encoded data removed]",
      "text/plain": [
       "<Figure size 842.4x595.44 with 2 Axes>"
      ]
     },
     "metadata": {},
     "output_type": "display_data"
    }
   ],
   "source": [
    "sns.heatmap((pnm_df.corr() - pd.DataFrame(fake_examples).corr()).abs(), vmin=-1.5, vmax=1.5)"
   ]
  },
  {
   "cell_type": "code",
   "execution_count": 76,
   "metadata": {
    "id": "lP_kkfmB2qYd"
   },
   "outputs": [],
   "source": [
    "pts_non_majority_np = np.array(pts_non_majority)\n",
    "fake_examples = gan.generate_examples(pts_non_majority_np.shape[0])"
   ]
  },
  {
   "cell_type": "code",
   "execution_count": 77,
   "metadata": {
    "id": "Xf0H7cLNW4GD"
   },
   "outputs": [
    {
     "data": {
      "text/plain": [
       "(2919, 12)"
      ]
     },
     "execution_count": 77,
     "metadata": {},
     "output_type": "execute_result"
    }
   ],
   "source": [
    "pts_non_majority_np.shape"
   ]
  },
  {
   "cell_type": "code",
   "execution_count": 78,
   "metadata": {
    "id": "tYkMN1TDUIq8"
   },
   "outputs": [
    {
     "data": {
      "text/plain": [
       "(2919, 12)"
      ]
     },
     "execution_count": 78,
     "metadata": {},
     "output_type": "execute_result"
    }
   ],
   "source": [
    "fake_examples = np.array(fake_examples)\n",
    "fake_examples.shape"
   ]
  },
  {
   "cell_type": "code",
   "execution_count": 79,
   "metadata": {
    "id": "Z5ZrZdttXDYf"
   },
   "outputs": [
    {
     "data": {
      "text/plain": [
       "(2919, 12)"
      ]
     },
     "execution_count": 79,
     "metadata": {},
     "output_type": "execute_result"
    }
   ],
   "source": [
    "fake_examples.shape"
   ]
  },
  {
   "cell_type": "markdown",
   "metadata": {
    "id": "slVG_DZGZf_g"
   },
   "source": [
    "## Multivariate Wilcoxon"
   ]
  },
  {
   "cell_type": "code",
   "execution_count": 80,
   "metadata": {
    "id": "wlBWxH6S5FCy"
   },
   "outputs": [],
   "source": [
    "def multivariate_wilcoxon(distr_one, distr_two):\n",
    "  def sgn(val):\n",
    "    if val == 0: return 0\n",
    "    return val / abs(val)\n",
    "\n",
    "  distr_one_np = np.array(distr_one)\n",
    "  distr_two_np = np.array(distr_two)\n",
    "\n",
    "  print(distr_one.shape, distr_two.shape)\n",
    "\n",
    "  p, n = distr_one_np.shape\n",
    "  assert (p, n) == distr_two_np.shape\n",
    "  D = np.sum(distr_one - distr_two, 1, keepdims=True)\n",
    "  assert (p, 1) == D.shape\n",
    "  V = np.zeros((p, p))\n",
    "  X = distr_one_np - distr_two_np\n",
    "  X_sgn = np.vectorize(sgn)(X)\n",
    "  for i in range(p):\n",
    "    for j in range(p):\n",
    "      V[i, j] = (1/n) * np.dot(X_sgn[i, :], X_sgn[j, :])\n",
    "  D_star = np.transpose(D) @ np.linalg.inv(n * V) @ D\n",
    "  D_star = D_star[0, 0]\n",
    "  degrees_freedom = p\n",
    "  return 1 - stats.chi2.cdf(D_star, df=degrees_freedom)"
   ]
  },
  {
   "cell_type": "code",
   "execution_count": 81,
   "metadata": {
    "id": "5kyuF_u60ND7"
   },
   "outputs": [
    {
     "name": "stdout",
     "output_type": "stream",
     "text": [
      "(12, 2919) (12, 2919)\n"
     ]
    },
    {
     "data": {
      "text/plain": [
       "0.8466267602077453"
      ]
     },
     "execution_count": 81,
     "metadata": {},
     "output_type": "execute_result"
    }
   ],
   "source": [
    "multivariate_wilcoxon(np.transpose(fake_examples), np.transpose(pts_non_majority_np))"
   ]
  },
  {
   "cell_type": "code",
   "execution_count": 82,
   "metadata": {
    "id": "Q9I4SLtDqqY4"
   },
   "outputs": [
    {
     "data": {
      "text/plain": [
       "(12, 2919)"
      ]
     },
     "execution_count": 82,
     "metadata": {},
     "output_type": "execute_result"
    }
   ],
   "source": [
    "np.transpose(fake_examples).shape"
   ]
  },
  {
   "cell_type": "code",
   "execution_count": 83,
   "metadata": {
    "id": "vn89Z3FqucYS"
   },
   "outputs": [],
   "source": [
    "decoded_fake = decoder.predict(fake_examples)"
   ]
  },
  {
   "cell_type": "markdown",
   "metadata": {
    "id": "Oa9qKsEAYK9O"
   },
   "source": [
    "# Integrating fakes"
   ]
  },
  {
   "cell_type": "markdown",
   "metadata": {
    "id": "C6fjH57bYQna"
   },
   "source": [
    "## Smoothing out fakes"
   ]
  },
  {
   "cell_type": "code",
   "execution_count": 84,
   "metadata": {
    "id": "D9Ibh234fzbQ"
   },
   "outputs": [],
   "source": [
    "def _scale_back(fake_sample: List[List]) -> pd.DataFrame:\n",
    "  fake_df = pd.DataFrame(fake_sample, columns=COLS)\n",
    "  fake_df[['open', 'low', 'high', 'close']] = price_scaler.inverse_transform(fake_df[['open', 'low', 'high', 'close']].values)\n",
    "  fake_df['volume'] = volume_scaler.inverse_transform(fake_df['volume'].values.reshape(-1, 1))\n",
    "  for col in COLS:\n",
    "    fake_df[col] = np.exp(fake_df[col])\n",
    "  return fake_df"
   ]
  },
  {
   "cell_type": "code",
   "execution_count": 85,
   "metadata": {
    "id": "OVI2j-iaOoIi"
   },
   "outputs": [
    {
     "data": {
      "text/html": [
       "<div>\n",
       "<style scoped>\n",
       "    .dataframe tbody tr th:only-of-type {\n",
       "        vertical-align: middle;\n",
       "    }\n",
       "\n",
       "    .dataframe tbody tr th {\n",
       "        vertical-align: top;\n",
       "    }\n",
       "\n",
       "    .dataframe thead th {\n",
       "        text-align: right;\n",
       "    }\n",
       "</style>\n",
       "<table border=\"1\" class=\"dataframe\">\n",
       "  <thead>\n",
       "    <tr style=\"text-align: right;\">\n",
       "      <th></th>\n",
       "      <th>open</th>\n",
       "      <th>high</th>\n",
       "      <th>low</th>\n",
       "      <th>close</th>\n",
       "      <th>volume</th>\n",
       "    </tr>\n",
       "  </thead>\n",
       "  <tbody>\n",
       "    <tr>\n",
       "      <th>0</th>\n",
       "      <td>128.731583</td>\n",
       "      <td>129.088776</td>\n",
       "      <td>128.333252</td>\n",
       "      <td>128.650696</td>\n",
       "      <td>3.639195e+06</td>\n",
       "    </tr>\n",
       "    <tr>\n",
       "      <th>1</th>\n",
       "      <td>128.680023</td>\n",
       "      <td>129.037445</td>\n",
       "      <td>128.233124</td>\n",
       "      <td>128.582993</td>\n",
       "      <td>3.902801e+06</td>\n",
       "    </tr>\n",
       "    <tr>\n",
       "      <th>2</th>\n",
       "      <td>129.504135</td>\n",
       "      <td>129.885834</td>\n",
       "      <td>129.023361</td>\n",
       "      <td>129.488937</td>\n",
       "      <td>5.318873e+05</td>\n",
       "    </tr>\n",
       "    <tr>\n",
       "      <th>3</th>\n",
       "      <td>130.256546</td>\n",
       "      <td>130.603455</td>\n",
       "      <td>129.862167</td>\n",
       "      <td>130.264236</td>\n",
       "      <td>2.291412e+05</td>\n",
       "    </tr>\n",
       "    <tr>\n",
       "      <th>4</th>\n",
       "      <td>129.281769</td>\n",
       "      <td>129.619781</td>\n",
       "      <td>128.921646</td>\n",
       "      <td>129.278625</td>\n",
       "      <td>2.653879e+05</td>\n",
       "    </tr>\n",
       "    <tr>\n",
       "      <th>5</th>\n",
       "      <td>129.480545</td>\n",
       "      <td>129.776627</td>\n",
       "      <td>129.163330</td>\n",
       "      <td>129.471466</td>\n",
       "      <td>1.706689e+05</td>\n",
       "    </tr>\n",
       "    <tr>\n",
       "      <th>6</th>\n",
       "      <td>129.220627</td>\n",
       "      <td>129.494568</td>\n",
       "      <td>128.920593</td>\n",
       "      <td>129.225311</td>\n",
       "      <td>1.156397e+05</td>\n",
       "    </tr>\n",
       "    <tr>\n",
       "      <th>7</th>\n",
       "      <td>128.809738</td>\n",
       "      <td>129.053131</td>\n",
       "      <td>128.536774</td>\n",
       "      <td>128.815399</td>\n",
       "      <td>7.068367e+04</td>\n",
       "    </tr>\n",
       "    <tr>\n",
       "      <th>8</th>\n",
       "      <td>128.938354</td>\n",
       "      <td>129.155334</td>\n",
       "      <td>128.672226</td>\n",
       "      <td>128.961792</td>\n",
       "      <td>3.012545e+04</td>\n",
       "    </tr>\n",
       "    <tr>\n",
       "      <th>9</th>\n",
       "      <td>128.858276</td>\n",
       "      <td>129.064529</td>\n",
       "      <td>128.624573</td>\n",
       "      <td>128.907745</td>\n",
       "      <td>1.330604e+04</td>\n",
       "    </tr>\n",
       "    <tr>\n",
       "      <th>10</th>\n",
       "      <td>128.612793</td>\n",
       "      <td>129.019424</td>\n",
       "      <td>128.081207</td>\n",
       "      <td>128.606415</td>\n",
       "      <td>5.091433e+05</td>\n",
       "    </tr>\n",
       "    <tr>\n",
       "      <th>11</th>\n",
       "      <td>127.951424</td>\n",
       "      <td>128.213806</td>\n",
       "      <td>127.609123</td>\n",
       "      <td>127.972542</td>\n",
       "      <td>4.412805e+04</td>\n",
       "    </tr>\n",
       "    <tr>\n",
       "      <th>12</th>\n",
       "      <td>129.100159</td>\n",
       "      <td>129.282501</td>\n",
       "      <td>128.911560</td>\n",
       "      <td>129.229385</td>\n",
       "      <td>1.706411e+03</td>\n",
       "    </tr>\n",
       "    <tr>\n",
       "      <th>13</th>\n",
       "      <td>129.799957</td>\n",
       "      <td>129.957947</td>\n",
       "      <td>129.651062</td>\n",
       "      <td>129.883102</td>\n",
       "      <td>2.407312e+03</td>\n",
       "    </tr>\n",
       "    <tr>\n",
       "      <th>14</th>\n",
       "      <td>128.485229</td>\n",
       "      <td>128.699966</td>\n",
       "      <td>128.259720</td>\n",
       "      <td>128.547501</td>\n",
       "      <td>6.842443e+03</td>\n",
       "    </tr>\n",
       "    <tr>\n",
       "      <th>15</th>\n",
       "      <td>130.716537</td>\n",
       "      <td>130.850739</td>\n",
       "      <td>130.669739</td>\n",
       "      <td>130.865906</td>\n",
       "      <td>3.060215e+02</td>\n",
       "    </tr>\n",
       "    <tr>\n",
       "      <th>16</th>\n",
       "      <td>130.255600</td>\n",
       "      <td>130.414215</td>\n",
       "      <td>130.103775</td>\n",
       "      <td>130.345383</td>\n",
       "      <td>1.566485e+03</td>\n",
       "    </tr>\n",
       "    <tr>\n",
       "      <th>17</th>\n",
       "      <td>130.178177</td>\n",
       "      <td>130.367142</td>\n",
       "      <td>129.951813</td>\n",
       "      <td>130.284119</td>\n",
       "      <td>2.343423e+03</td>\n",
       "    </tr>\n",
       "    <tr>\n",
       "      <th>18</th>\n",
       "      <td>132.574982</td>\n",
       "      <td>132.615570</td>\n",
       "      <td>132.612350</td>\n",
       "      <td>132.873123</td>\n",
       "      <td>9.999996e+01</td>\n",
       "    </tr>\n",
       "    <tr>\n",
       "      <th>19</th>\n",
       "      <td>131.522583</td>\n",
       "      <td>131.638275</td>\n",
       "      <td>131.503265</td>\n",
       "      <td>131.655914</td>\n",
       "      <td>3.773941e+02</td>\n",
       "    </tr>\n",
       "  </tbody>\n",
       "</table>\n",
       "</div>"
      ],
      "text/plain": [
       "          open        high         low       close        volume\n",
       "0   128.731583  129.088776  128.333252  128.650696  3.639195e+06\n",
       "1   128.680023  129.037445  128.233124  128.582993  3.902801e+06\n",
       "2   129.504135  129.885834  129.023361  129.488937  5.318873e+05\n",
       "3   130.256546  130.603455  129.862167  130.264236  2.291412e+05\n",
       "4   129.281769  129.619781  128.921646  129.278625  2.653879e+05\n",
       "5   129.480545  129.776627  129.163330  129.471466  1.706689e+05\n",
       "6   129.220627  129.494568  128.920593  129.225311  1.156397e+05\n",
       "7   128.809738  129.053131  128.536774  128.815399  7.068367e+04\n",
       "8   128.938354  129.155334  128.672226  128.961792  3.012545e+04\n",
       "9   128.858276  129.064529  128.624573  128.907745  1.330604e+04\n",
       "10  128.612793  129.019424  128.081207  128.606415  5.091433e+05\n",
       "11  127.951424  128.213806  127.609123  127.972542  4.412805e+04\n",
       "12  129.100159  129.282501  128.911560  129.229385  1.706411e+03\n",
       "13  129.799957  129.957947  129.651062  129.883102  2.407312e+03\n",
       "14  128.485229  128.699966  128.259720  128.547501  6.842443e+03\n",
       "15  130.716537  130.850739  130.669739  130.865906  3.060215e+02\n",
       "16  130.255600  130.414215  130.103775  130.345383  1.566485e+03\n",
       "17  130.178177  130.367142  129.951813  130.284119  2.343423e+03\n",
       "18  132.574982  132.615570  132.612350  132.873123  9.999996e+01\n",
       "19  131.522583  131.638275  131.503265  131.655914  3.773941e+02"
      ]
     },
     "execution_count": 85,
     "metadata": {},
     "output_type": "execute_result"
    }
   ],
   "source": [
    "_scale_back(decoded_fake[145])"
   ]
  },
  {
   "cell_type": "code",
   "execution_count": 86,
   "metadata": {
    "id": "Yyr5ZH_4Iq1f"
   },
   "outputs": [],
   "source": [
    "from bayes_opt import BayesianOptimization"
   ]
  },
  {
   "cell_type": "code",
   "execution_count": 87,
   "metadata": {
    "id": "zkezysK0azj5"
   },
   "outputs": [],
   "source": [
    "def time_step_passes(timestep: List[float]) -> bool:\n",
    "    # Input: One timestep unit\n",
    "    high_is_high = timestep[0] <= timestep[1] and timestep[2] <= timestep[1] and timestep[3] <= timestep[1]\n",
    "    low_is_low = timestep[0] >= timestep[2] and timestep[1] >= timestep[2] and timestep[3] >= timestep[2]\n",
    "    return high_is_high and low_is_low\n",
    "\n",
    "def to_batch(np_input):\n",
    "  return tf.expand_dims(\n",
    "    tf.convert_to_tensor(np_input), 0\n",
    "  )\n",
    "\n",
    "def generate_valid_fakes(s_count: int):\n",
    "  def black_box_first_wrapper(scaled_d_fake_l, volume, fake_latent):\n",
    "    def black_box_function_first(open, high, low, close):\n",
    "      if not time_step_passes([open, high, low, close, volume]):\n",
    "        return -1\n",
    "      changed_np = copy.deepcopy(scaled_d_fake_l)\n",
    "      changed_np[idx_t] = [open, high, low, close, volume]\n",
    "      changed_latent = encoder.predict(to_batch(changed_np))\n",
    "      dist = np.linalg.norm(changed_latent-fake_latent)\n",
    "      # Library attempts to maximize, so we return the inverse of the distance\n",
    "      return 1 / dist\n",
    "    return black_box_function_first\n",
    "\n",
    "  def black_box_general_wrapper(scaled_d_fake_l, open, volume, fake_latent):\n",
    "    def black_box_function_general(high, low, close):\n",
    "      if not time_step_passes([open, high, low, close, volume]):\n",
    "        return -1\n",
    "      changed_np = copy.deepcopy(scaled_d_fake_l)\n",
    "      changed_np[idx_t] = [open, high, low, close, volume]\n",
    "      changed_latent = encoder.predict(to_batch(changed_np))\n",
    "      dist = np.linalg.norm(changed_latent-fake_latent)\n",
    "      # Library attempts to maximize, so we return the inverse of the distance\n",
    "      return 1 / dist\n",
    "    return black_box_function_general\n",
    "\n",
    "  # Filter out examples generated by GAN \n",
    "  fake_examples = []\n",
    "  fake_batch = gan.generate_examples(s_count)\n",
    "  decoded_batch = decoder.predict(fake_batch)\n",
    " \n",
    "  for idx in tqdm(range(len(fake_batch))):\n",
    "    d_fake = decoded_batch[idx]\n",
    "    fake_latent = fake_batch[idx]\n",
    "    scaled_d_fake = _scale_back(d_fake)\n",
    "    scaled_d_fake_l = scaled_d_fake.values\n",
    "    \n",
    "    # Validate generated examples\n",
    "    for idx_t in range(len(scaled_d_fake_l)):\n",
    "      time_step = scaled_d_fake_l[idx_t] \n",
    "      if not time_step_passes(time_step):\n",
    "        open, high, low, close, volume = time_step\n",
    "        # Generate new values and append volume\n",
    "        if idx_t == 0:\n",
    "          bounds = {\n",
    "            'open': (open - np.sqrt(open), open + np.sqrt(open)),\n",
    "            'high': (high - np.sqrt(high), high + np.sqrt(high)),\n",
    "            'low': (low - np.sqrt(low), low + np.sqrt(low)),\n",
    "            'close': (close - np.sqrt(close), close + np.sqrt(close))\n",
    "          }\n",
    "          optimizer = BayesianOptimization(\n",
    "            f=black_box_first_wrapper(scaled_d_fake_l, volume, fake_latent),\n",
    "            pbounds=bounds,\n",
    "            random_state=1,\n",
    "          )\n",
    "        else:\n",
    "          bounds = {\n",
    "            'high': (high - np.sqrt(high), high + np.sqrt(high)),\n",
    "            'low': (low - np.sqrt(low), low + np.sqrt(low)),\n",
    "            'close': (close - np.sqrt(close), close + np.sqrt(close))\n",
    "          }\n",
    "          optimizer = BayesianOptimization(\n",
    "            f=black_box_general_wrapper(scaled_d_fake_l, open, volume, fake_latent),\n",
    "            pbounds=bounds,\n",
    "            random_state=1,\n",
    "          )\n",
    "        optimizer.maximize(\n",
    "          init_points=5,\n",
    "          n_iter=5,\n",
    "        )\n",
    "        best_params = optimizer.max['params']\n",
    "        if idx_t == 0:\n",
    "          scaled_d_fake_l[idx_t][0] = best_params['open']\n",
    "        scaled_d_fake_l[idx_t][1] = best_params['high']\n",
    "        scaled_d_fake_l[idx_t][2] = best_params['low']\n",
    "        scaled_d_fake_l[idx_t][3] = best_params['close']\n",
    "        if idx_t + 1 < len(scaled_d_fake_l):\n",
    "          scaled_d_fake_l[idx_t + 1, 0] = scaled_d_fake_l[idx_t, -2]\n",
    "    clear_output(wait=False)\n",
    "    fake_examples.append((\n",
    "      fake_latent,\n",
    "      encoder.predict(to_batch(scaled_d_fake_l)),\n",
    "      pd.DataFrame(scaled_d_fake_l, columns=COLS))\n",
    "    )\n",
    "    if len(fake_examples) % 20 == 0:\n",
    "      clear_output(wait=False)\n",
    "  return fake_examples"
   ]
  },
  {
   "cell_type": "code",
   "execution_count": 88,
   "metadata": {
    "id": "pq-mI8GrgWEI"
   },
   "outputs": [
    {
     "data": {
      "text/plain": [
       "'/content/gdrive/MyDrive/thesis'"
      ]
     },
     "execution_count": 88,
     "metadata": {},
     "output_type": "execute_result"
    }
   ],
   "source": [
    "ROOT"
   ]
  },
  {
   "cell_type": "code",
   "execution_count": 89,
   "metadata": {
    "id": "D8Ubu53emNEH"
   },
   "outputs": [],
   "source": [
    "with open(f'valid_fakes', 'rb') as fp:\n",
    "  all_valid_fake_examples = pickle.load(fp)"
   ]
  },
  {
   "cell_type": "code",
   "execution_count": 90,
   "metadata": {
    "id": "MVUpR-aMc4me"
   },
   "outputs": [],
   "source": [
    "# # all_valid_fake_examples = []\n",
    "# for i in range(50):\n",
    "#   valid_fake_examples = generate_valid_fakes(50)\n",
    "#   all_valid_fake_examples.extend(valid_fake_examples)\n",
    "#   with open(f'{ROOT}/valid_fakes', 'wb+') as fp:\n",
    "#     pickle.dump(all_valid_fake_examples, fp)"
   ]
  },
  {
   "cell_type": "code",
   "execution_count": 91,
   "metadata": {
    "id": "KHMoiew5m2UO"
   },
   "outputs": [
    {
     "data": {
      "text/plain": [
       "128"
      ]
     },
     "execution_count": 91,
     "metadata": {},
     "output_type": "execute_result"
    }
   ],
   "source": [
    "len(all_valid_fake_examples)"
   ]
  },
  {
   "cell_type": "code",
   "execution_count": 92,
   "metadata": {
    "id": "oelXX2Nu_fj4"
   },
   "outputs": [
    {
     "data": {
      "text/plain": [
       "2919"
      ]
     },
     "execution_count": 92,
     "metadata": {},
     "output_type": "execute_result"
    }
   ],
   "source": [
    "len(pts_non_majority)"
   ]
  },
  {
   "cell_type": "code",
   "execution_count": 94,
   "metadata": {
    "id": "1Kbu1O3a_jiS"
   },
   "outputs": [
    {
     "data": {
      "text/html": [
       "<div>\n",
       "<style scoped>\n",
       "    .dataframe tbody tr th:only-of-type {\n",
       "        vertical-align: middle;\n",
       "    }\n",
       "\n",
       "    .dataframe tbody tr th {\n",
       "        vertical-align: top;\n",
       "    }\n",
       "\n",
       "    .dataframe thead th {\n",
       "        text-align: right;\n",
       "    }\n",
       "</style>\n",
       "<table border=\"1\" class=\"dataframe\">\n",
       "  <thead>\n",
       "    <tr style=\"text-align: right;\">\n",
       "      <th></th>\n",
       "      <th>open</th>\n",
       "      <th>high</th>\n",
       "      <th>low</th>\n",
       "      <th>close</th>\n",
       "      <th>volume</th>\n",
       "    </tr>\n",
       "  </thead>\n",
       "  <tbody>\n",
       "    <tr>\n",
       "      <th>0</th>\n",
       "      <td>293.914124</td>\n",
       "      <td>294.764221</td>\n",
       "      <td>293.374878</td>\n",
       "      <td>294.137177</td>\n",
       "      <td>275120.468750</td>\n",
       "    </tr>\n",
       "    <tr>\n",
       "      <th>1</th>\n",
       "      <td>313.488373</td>\n",
       "      <td>322.726929</td>\n",
       "      <td>295.394714</td>\n",
       "      <td>312.033600</td>\n",
       "      <td>165204.812500</td>\n",
       "    </tr>\n",
       "    <tr>\n",
       "      <th>2</th>\n",
       "      <td>312.033600</td>\n",
       "      <td>313.113373</td>\n",
       "      <td>311.714539</td>\n",
       "      <td>312.362213</td>\n",
       "      <td>193206.250000</td>\n",
       "    </tr>\n",
       "    <tr>\n",
       "      <th>3</th>\n",
       "      <td>309.593140</td>\n",
       "      <td>309.978119</td>\n",
       "      <td>308.941650</td>\n",
       "      <td>309.486877</td>\n",
       "      <td>182285.765625</td>\n",
       "    </tr>\n",
       "    <tr>\n",
       "      <th>4</th>\n",
       "      <td>306.659241</td>\n",
       "      <td>306.884064</td>\n",
       "      <td>306.008636</td>\n",
       "      <td>306.320435</td>\n",
       "      <td>278594.281250</td>\n",
       "    </tr>\n",
       "    <tr>\n",
       "      <th>5</th>\n",
       "      <td>302.354675</td>\n",
       "      <td>302.715637</td>\n",
       "      <td>301.951141</td>\n",
       "      <td>302.131287</td>\n",
       "      <td>204947.421875</td>\n",
       "    </tr>\n",
       "    <tr>\n",
       "      <th>6</th>\n",
       "      <td>304.539551</td>\n",
       "      <td>305.081970</td>\n",
       "      <td>303.807556</td>\n",
       "      <td>304.664642</td>\n",
       "      <td>199747.281250</td>\n",
       "    </tr>\n",
       "    <tr>\n",
       "      <th>7</th>\n",
       "      <td>301.955566</td>\n",
       "      <td>302.285889</td>\n",
       "      <td>301.335663</td>\n",
       "      <td>301.664459</td>\n",
       "      <td>258156.890625</td>\n",
       "    </tr>\n",
       "    <tr>\n",
       "      <th>8</th>\n",
       "      <td>302.393311</td>\n",
       "      <td>302.871124</td>\n",
       "      <td>301.744720</td>\n",
       "      <td>302.387146</td>\n",
       "      <td>229778.812500</td>\n",
       "    </tr>\n",
       "    <tr>\n",
       "      <th>9</th>\n",
       "      <td>304.642670</td>\n",
       "      <td>305.231873</td>\n",
       "      <td>303.920288</td>\n",
       "      <td>304.847870</td>\n",
       "      <td>182839.750000</td>\n",
       "    </tr>\n",
       "    <tr>\n",
       "      <th>10</th>\n",
       "      <td>302.406738</td>\n",
       "      <td>302.747528</td>\n",
       "      <td>301.752197</td>\n",
       "      <td>302.171204</td>\n",
       "      <td>229962.296875</td>\n",
       "    </tr>\n",
       "    <tr>\n",
       "      <th>11</th>\n",
       "      <td>305.306244</td>\n",
       "      <td>305.889282</td>\n",
       "      <td>304.540741</td>\n",
       "      <td>305.543060</td>\n",
       "      <td>187294.968750</td>\n",
       "    </tr>\n",
       "    <tr>\n",
       "      <th>12</th>\n",
       "      <td>305.260254</td>\n",
       "      <td>305.742310</td>\n",
       "      <td>304.553070</td>\n",
       "      <td>305.291412</td>\n",
       "      <td>180096.968750</td>\n",
       "    </tr>\n",
       "    <tr>\n",
       "      <th>13</th>\n",
       "      <td>305.795502</td>\n",
       "      <td>306.198212</td>\n",
       "      <td>305.022217</td>\n",
       "      <td>305.729309</td>\n",
       "      <td>223812.828125</td>\n",
       "    </tr>\n",
       "    <tr>\n",
       "      <th>14</th>\n",
       "      <td>304.031616</td>\n",
       "      <td>304.314575</td>\n",
       "      <td>303.343323</td>\n",
       "      <td>303.712372</td>\n",
       "      <td>313582.875000</td>\n",
       "    </tr>\n",
       "    <tr>\n",
       "      <th>15</th>\n",
       "      <td>308.570770</td>\n",
       "      <td>309.163422</td>\n",
       "      <td>307.736755</td>\n",
       "      <td>308.836487</td>\n",
       "      <td>241291.875000</td>\n",
       "    </tr>\n",
       "    <tr>\n",
       "      <th>16</th>\n",
       "      <td>307.137604</td>\n",
       "      <td>307.405579</td>\n",
       "      <td>306.376526</td>\n",
       "      <td>306.789825</td>\n",
       "      <td>372125.781250</td>\n",
       "    </tr>\n",
       "    <tr>\n",
       "      <th>17</th>\n",
       "      <td>307.026306</td>\n",
       "      <td>307.360291</td>\n",
       "      <td>306.266846</td>\n",
       "      <td>306.776794</td>\n",
       "      <td>444110.187500</td>\n",
       "    </tr>\n",
       "    <tr>\n",
       "      <th>18</th>\n",
       "      <td>316.409454</td>\n",
       "      <td>317.051636</td>\n",
       "      <td>315.302338</td>\n",
       "      <td>316.874359</td>\n",
       "      <td>455104.875000</td>\n",
       "    </tr>\n",
       "    <tr>\n",
       "      <th>19</th>\n",
       "      <td>323.375549</td>\n",
       "      <td>323.949829</td>\n",
       "      <td>322.491058</td>\n",
       "      <td>323.775452</td>\n",
       "      <td>310259.812500</td>\n",
       "    </tr>\n",
       "    <tr>\n",
       "      <th>20</th>\n",
       "      <td>326.977478</td>\n",
       "      <td>327.868317</td>\n",
       "      <td>326.830017</td>\n",
       "      <td>327.069641</td>\n",
       "      <td>4077.612061</td>\n",
       "    </tr>\n",
       "    <tr>\n",
       "      <th>21</th>\n",
       "      <td>334.434296</td>\n",
       "      <td>334.653778</td>\n",
       "      <td>333.606354</td>\n",
       "      <td>334.296387</td>\n",
       "      <td>2122.927002</td>\n",
       "    </tr>\n",
       "    <tr>\n",
       "      <th>22</th>\n",
       "      <td>336.824158</td>\n",
       "      <td>337.037506</td>\n",
       "      <td>336.202057</td>\n",
       "      <td>336.900299</td>\n",
       "      <td>4529.865723</td>\n",
       "    </tr>\n",
       "    <tr>\n",
       "      <th>23</th>\n",
       "      <td>338.958527</td>\n",
       "      <td>346.983887</td>\n",
       "      <td>319.810608</td>\n",
       "      <td>335.626160</td>\n",
       "      <td>1376.942993</td>\n",
       "    </tr>\n",
       "    <tr>\n",
       "      <th>24</th>\n",
       "      <td>335.626160</td>\n",
       "      <td>340.948914</td>\n",
       "      <td>314.758118</td>\n",
       "      <td>329.787231</td>\n",
       "      <td>1186.062622</td>\n",
       "    </tr>\n",
       "    <tr>\n",
       "      <th>25</th>\n",
       "      <td>329.787231</td>\n",
       "      <td>352.655670</td>\n",
       "      <td>315.935547</td>\n",
       "      <td>336.249725</td>\n",
       "      <td>683.900146</td>\n",
       "    </tr>\n",
       "    <tr>\n",
       "      <th>26</th>\n",
       "      <td>336.249725</td>\n",
       "      <td>342.113953</td>\n",
       "      <td>315.840240</td>\n",
       "      <td>331.150879</td>\n",
       "      <td>1673.216187</td>\n",
       "    </tr>\n",
       "    <tr>\n",
       "      <th>27</th>\n",
       "      <td>331.150879</td>\n",
       "      <td>336.662994</td>\n",
       "      <td>310.694672</td>\n",
       "      <td>326.026794</td>\n",
       "      <td>804.124756</td>\n",
       "    </tr>\n",
       "    <tr>\n",
       "      <th>28</th>\n",
       "      <td>326.026794</td>\n",
       "      <td>338.681427</td>\n",
       "      <td>311.697693</td>\n",
       "      <td>327.531952</td>\n",
       "      <td>7589.714844</td>\n",
       "    </tr>\n",
       "    <tr>\n",
       "      <th>29</th>\n",
       "      <td>327.531952</td>\n",
       "      <td>335.023132</td>\n",
       "      <td>308.632660</td>\n",
       "      <td>324.238495</td>\n",
       "      <td>678.969360</td>\n",
       "    </tr>\n",
       "    <tr>\n",
       "      <th>30</th>\n",
       "      <td>324.238495</td>\n",
       "      <td>335.062317</td>\n",
       "      <td>308.592407</td>\n",
       "      <td>323.855530</td>\n",
       "      <td>4113.270996</td>\n",
       "    </tr>\n",
       "    <tr>\n",
       "      <th>31</th>\n",
       "      <td>323.855530</td>\n",
       "      <td>339.235809</td>\n",
       "      <td>312.376801</td>\n",
       "      <td>328.373199</td>\n",
       "      <td>954.138062</td>\n",
       "    </tr>\n",
       "    <tr>\n",
       "      <th>32</th>\n",
       "      <td>328.373199</td>\n",
       "      <td>341.407318</td>\n",
       "      <td>314.756866</td>\n",
       "      <td>330.961853</td>\n",
       "      <td>715.901855</td>\n",
       "    </tr>\n",
       "    <tr>\n",
       "      <th>33</th>\n",
       "      <td>330.961853</td>\n",
       "      <td>353.987854</td>\n",
       "      <td>330.615509</td>\n",
       "      <td>341.171722</td>\n",
       "      <td>203.698288</td>\n",
       "    </tr>\n",
       "    <tr>\n",
       "      <th>34</th>\n",
       "      <td>341.171722</td>\n",
       "      <td>361.194641</td>\n",
       "      <td>325.629944</td>\n",
       "      <td>354.456482</td>\n",
       "      <td>134.874603</td>\n",
       "    </tr>\n",
       "    <tr>\n",
       "      <th>35</th>\n",
       "      <td>354.456482</td>\n",
       "      <td>339.839111</td>\n",
       "      <td>314.275848</td>\n",
       "      <td>329.204193</td>\n",
       "      <td>458.570557</td>\n",
       "    </tr>\n",
       "    <tr>\n",
       "      <th>36</th>\n",
       "      <td>329.204193</td>\n",
       "      <td>333.190460</td>\n",
       "      <td>316.896820</td>\n",
       "      <td>318.874634</td>\n",
       "      <td>102.258247</td>\n",
       "    </tr>\n",
       "    <tr>\n",
       "      <th>37</th>\n",
       "      <td>318.874634</td>\n",
       "      <td>347.601715</td>\n",
       "      <td>320.966125</td>\n",
       "      <td>333.021606</td>\n",
       "      <td>134.760056</td>\n",
       "    </tr>\n",
       "    <tr>\n",
       "      <th>38</th>\n",
       "      <td>333.021606</td>\n",
       "      <td>361.135895</td>\n",
       "      <td>325.177002</td>\n",
       "      <td>357.654602</td>\n",
       "      <td>196.086227</td>\n",
       "    </tr>\n",
       "    <tr>\n",
       "      <th>39</th>\n",
       "      <td>357.654602</td>\n",
       "      <td>363.573425</td>\n",
       "      <td>334.476257</td>\n",
       "      <td>352.082947</td>\n",
       "      <td>7913.995117</td>\n",
       "    </tr>\n",
       "  </tbody>\n",
       "</table>\n",
       "</div>"
      ],
      "text/plain": [
       "          open        high         low       close         volume\n",
       "0   293.914124  294.764221  293.374878  294.137177  275120.468750\n",
       "1   313.488373  322.726929  295.394714  312.033600  165204.812500\n",
       "2   312.033600  313.113373  311.714539  312.362213  193206.250000\n",
       "3   309.593140  309.978119  308.941650  309.486877  182285.765625\n",
       "4   306.659241  306.884064  306.008636  306.320435  278594.281250\n",
       "5   302.354675  302.715637  301.951141  302.131287  204947.421875\n",
       "6   304.539551  305.081970  303.807556  304.664642  199747.281250\n",
       "7   301.955566  302.285889  301.335663  301.664459  258156.890625\n",
       "8   302.393311  302.871124  301.744720  302.387146  229778.812500\n",
       "9   304.642670  305.231873  303.920288  304.847870  182839.750000\n",
       "10  302.406738  302.747528  301.752197  302.171204  229962.296875\n",
       "11  305.306244  305.889282  304.540741  305.543060  187294.968750\n",
       "12  305.260254  305.742310  304.553070  305.291412  180096.968750\n",
       "13  305.795502  306.198212  305.022217  305.729309  223812.828125\n",
       "14  304.031616  304.314575  303.343323  303.712372  313582.875000\n",
       "15  308.570770  309.163422  307.736755  308.836487  241291.875000\n",
       "16  307.137604  307.405579  306.376526  306.789825  372125.781250\n",
       "17  307.026306  307.360291  306.266846  306.776794  444110.187500\n",
       "18  316.409454  317.051636  315.302338  316.874359  455104.875000\n",
       "19  323.375549  323.949829  322.491058  323.775452  310259.812500\n",
       "20  326.977478  327.868317  326.830017  327.069641    4077.612061\n",
       "21  334.434296  334.653778  333.606354  334.296387    2122.927002\n",
       "22  336.824158  337.037506  336.202057  336.900299    4529.865723\n",
       "23  338.958527  346.983887  319.810608  335.626160    1376.942993\n",
       "24  335.626160  340.948914  314.758118  329.787231    1186.062622\n",
       "25  329.787231  352.655670  315.935547  336.249725     683.900146\n",
       "26  336.249725  342.113953  315.840240  331.150879    1673.216187\n",
       "27  331.150879  336.662994  310.694672  326.026794     804.124756\n",
       "28  326.026794  338.681427  311.697693  327.531952    7589.714844\n",
       "29  327.531952  335.023132  308.632660  324.238495     678.969360\n",
       "30  324.238495  335.062317  308.592407  323.855530    4113.270996\n",
       "31  323.855530  339.235809  312.376801  328.373199     954.138062\n",
       "32  328.373199  341.407318  314.756866  330.961853     715.901855\n",
       "33  330.961853  353.987854  330.615509  341.171722     203.698288\n",
       "34  341.171722  361.194641  325.629944  354.456482     134.874603\n",
       "35  354.456482  339.839111  314.275848  329.204193     458.570557\n",
       "36  329.204193  333.190460  316.896820  318.874634     102.258247\n",
       "37  318.874634  347.601715  320.966125  333.021606     134.760056\n",
       "38  333.021606  361.135895  325.177002  357.654602     196.086227\n",
       "39  357.654602  363.573425  334.476257  352.082947    7913.995117"
      ]
     },
     "execution_count": 94,
     "metadata": {},
     "output_type": "execute_result"
    }
   ],
   "source": [
    "all_valid_fake_examples[117]"
   ]
  },
  {
   "cell_type": "markdown",
   "metadata": {
    "id": "mtS_XdCQBOVi"
   },
   "source": [
    "## Prepare original samples"
   ]
  },
  {
   "cell_type": "code",
   "execution_count": 121,
   "metadata": {
    "id": "yNkgVD05_wyS"
   },
   "outputs": [
    {
     "data": {
      "text/plain": [
       "24123"
      ]
     },
     "execution_count": 121,
     "metadata": {},
     "output_type": "execute_result"
    }
   ],
   "source": [
    "aapl = pd.read_csv(f'AAPL.txt', names=['date', 'time', 'open', 'high', 'low', 'close', 'volume'])\n",
    "chunks = split_dataframe(aapl[COLS], split_size=TIME_STEPS, time_steps_common=TIME_STEPS_COMMON)\n",
    "len(chunks)"
   ]
  },
  {
   "cell_type": "code",
   "execution_count": 122,
   "metadata": {
    "id": "UjFCUDSjE5Zi"
   },
   "outputs": [],
   "source": [
    "chunks = list(map(lambda x: x.df_chunk, chunks))"
   ]
  },
  {
   "cell_type": "code",
   "execution_count": 123,
   "metadata": {
    "id": "w8B5rNMXDmt2"
   },
   "outputs": [],
   "source": [
    "def get_interval_prices(chunks):\n",
    "  interval_prices = []\n",
    "  for idx_t in range(len(chunks)):\n",
    "    if idx_t < len(chunks)-1:\n",
    "      first_close_price = chunks[idx_t]['close'].values[-1]\n",
    "      next_open_price = chunks[idx_t+1]['open'].values[0]\n",
    "      vol_average = np.hstack((chunks[idx_t]['volume'].values, chunks[idx_t+1]['volume'].values))\n",
    "      vol_average = np.average(vol_average)\n",
    "      interval_prices.append(np.array((first_close_price, next_open_price, vol_average)))\n",
    "  return interval_prices"
   ]
  },
  {
   "cell_type": "code",
   "execution_count": 103,
   "metadata": {
    "id": "h9pUgqo2H0y8"
   },
   "outputs": [
    {
     "data": {
      "text/plain": [
       "[array([1.53750000e+01, 1.50625000e+01, 2.48120575e+05]),\n",
       " array([1.64375000e+01, 1.56875000e+01, 2.45053525e+05]),\n",
       " array([1.56875000e+01, 1.60000000e+01, 1.76493275e+05]),\n",
       " array([1.58750000e+01, 1.53750000e+01, 1.15372975e+05]),\n",
       " array([1.49375000e+01, 1.58750000e+01, 4.69525075e+05]),\n",
       " array([1.83125000e+01, 1.94375000e+01, 7.29801425e+05]),\n",
       " array([1.76250000e+01, 1.80625000e+01, 4.33031825e+05]),\n",
       " array([1.74375000e+01, 1.76250000e+01, 2.35260425e+05]),\n",
       " array([1.76250000e+01, 1.71875000e+01, 2.27205525e+05]),\n",
       " array([1.8250000e+01, 1.7750000e+01, 2.3797335e+05])]"
      ]
     },
     "execution_count": 103,
     "metadata": {},
     "output_type": "execute_result"
    }
   ],
   "source": [
    "get_interval_prices(chunks)[:10]"
   ]
  },
  {
   "cell_type": "code",
   "execution_count": 104,
   "metadata": {
    "id": "GH6KfRIwSsDx"
   },
   "outputs": [
    {
     "data": {
      "text/plain": [
       "128"
      ]
     },
     "execution_count": 104,
     "metadata": {},
     "output_type": "execute_result"
    }
   ],
   "source": [
    "len(all_valid_fake_examples)"
   ]
  },
  {
   "cell_type": "code",
   "execution_count": 105,
   "metadata": {
    "id": "-ucED68mTvMb"
   },
   "outputs": [],
   "source": [
    "augmented_chunks = deepcopy(chunks)"
   ]
  },
  {
   "cell_type": "code",
   "execution_count": 106,
   "metadata": {
    "id": "RgRudtEcIiDu"
   },
   "outputs": [],
   "source": [
    "def euclidian_dist(x, y):\n",
    "  return np.linalg.norm(x-y)\n",
    "\n",
    "best_indices = []\n",
    "for fake in tqdm(all_valid_fake_examples):\n",
    "  open_p = fake[2]['open'].values[0]\n",
    "  close_p = fake[2]['close'].values[-1]\n",
    "  best_idx = None\n",
    "  best_dist = float('inf')\n",
    "  interval_prices = get_interval_prices(augmented_chunks) \n",
    "  for idx, interval in enumerate(interval_prices):\n",
    "    dist = euclidian_dist(np.array((open_p, close_p, np.average(fake[2]['volume'].values))), interval)\n",
    "    if dist < best_dist:\n",
    "      best_dist = dist\n",
    "      best_idx = idx\n",
    "  augmented_chunks.insert(best_idx+1, fake[2])"
   ]
  },
  {
   "cell_type": "code",
   "execution_count": null,
   "metadata": {
    "id": "JE930YRfvCNN"
   },
   "outputs": [],
   "source": [
    "with open(f'{ROOT}/augmented', 'wb+') as fp:\n",
    "  pickle.dump(augmented_chunks, fp)"
   ]
  },
  {
   "cell_type": "code",
   "execution_count": 108,
   "metadata": {
    "id": "9v3x7AosQgjt"
   },
   "outputs": [],
   "source": [
    "with open(f'augmented', 'rb') as fp:\n",
    "  augmented_chunks = pickle.load(fp)"
   ]
  },
  {
   "cell_type": "code",
   "execution_count": 109,
   "metadata": {
    "id": "FPW4__bcgt_k"
   },
   "outputs": [],
   "source": [
    "def add_date(df):\n",
    "  start = datetime.datetime(1998, 5, 5, 8, 0)\n",
    "  delta = datetime.timedelta(minutes=15)\n",
    "  step = deepcopy(start)\n",
    "  series = []\n",
    "  for i in range(len(df)):\n",
    "    series.append(step)\n",
    "    step += delta\n",
    "  df['date'] = series\n",
    "  return df"
   ]
  },
  {
   "cell_type": "code",
   "execution_count": 110,
   "metadata": {
    "id": "ThLXqpCN-qj8"
   },
   "outputs": [],
   "source": [
    "len(chunks), len(augmented_chunks)"
   ]
  },
  {
   "cell_type": "code",
   "execution_count": 111,
   "metadata": {
    "id": "LRi_sF8xXaDo"
   },
   "outputs": [],
   "source": [
    "def add_date(df):\n",
    "  start = datetime.datetime(1998, 5, 5, 8, 0)\n",
    "  delta = datetime.timedelta(minutes=15)\n",
    "  step = deepcopy(start)\n",
    "  series = []\n",
    "  for i in range(len(df)):\n",
    "    series.append(step)\n",
    "    step += delta\n",
    "  df['date'] = series\n",
    "  return df"
   ]
  },
  {
   "cell_type": "code",
   "execution_count": 112,
   "metadata": {
    "id": "2gDDJiZDhhpl"
   },
   "outputs": [],
   "source": [
    "full_df\n",
    "full_df['tic'] = 'AAPL'"
   ]
  },
  {
   "cell_type": "code",
   "execution_count": 113,
   "metadata": {
    "id": "bzA2AYSkjod5"
   },
   "outputs": [],
   "source": [
    "full_df = add_date(full_df)"
   ]
  },
  {
   "cell_type": "code",
   "execution_count": 114,
   "metadata": {
    "id": "UQMpXhfIagw1"
   },
   "outputs": [],
   "source": [
    "full_df"
   ]
  },
  {
   "cell_type": "markdown",
   "metadata": {
    "id": "4WJCY0WNisNm"
   },
   "source": [
    "## Final test"
   ]
  },
  {
   "cell_type": "markdown",
   "metadata": {
    "id": "qq2CisdgHFTt"
   },
   "source": [
    "__Code below is very taxing, just load datasets again__"
   ]
  },
  {
   "cell_type": "code",
   "execution_count": 115,
   "metadata": {
    "id": "db93xO8-Y_Xt"
   },
   "outputs": [],
   "source": [
    "full_df = FeatureEngineer(use_technical_indicator=True, use_turbulence=False).preprocess_data(full_df.copy())"
   ]
  },
  {
   "cell_type": "code",
   "execution_count": 116,
   "metadata": {
    "id": "7w_D61BbZlFh"
   },
   "outputs": [],
   "source": [
    "augmented_chunks = pd.concat(augmented_chunks)\n",
    "augmented_chunks['tic'] = 'AAPL'\n",
    "augmented_chunks = add_date(augmented_chunks)\n",
    "augmented_df = FeatureEngineer(use_technical_indicator=True, use_turbulence=False).preprocess_data(augmented_chunks.copy())"
   ]
  },
  {
   "cell_type": "code",
   "execution_count": 117,
   "metadata": {
    "id": "nsucw1Rak62d"
   },
   "outputs": [],
   "source": [
    "# add covariance matrix as states\n",
    "for df in [full_df]:\n",
    "  df=df.sort_values(['date','tic'],ignore_index=True)\n",
    "  df.index = df.date.factorize()[0]\n",
    "  cov_list = []\n",
    "  lookback=252\n",
    "  for i in tqdm(range(lookback,len(df.index.unique()))):\n",
    "    data_lookback = df.loc[i-lookback:i,:]\n",
    "    price_lookback=data_lookback.pivot_table(index = 'date',columns = 'tic', values = 'close')\n",
    "    return_lookback = price_lookback.pct_change().dropna()\n",
    "    covs = return_lookback.cov().values \n",
    "    cov_list.append(covs)\n",
    "    \n",
    "  df_cov = pd.DataFrame({'date':df.date.unique()[lookback:],'cov_list':cov_list})\n",
    "  df = df.merge(df_cov, on='date')\n",
    "  df = df.sort_values(['date','tic']).reset_index(drop=True)"
   ]
  },
  {
   "cell_type": "code",
   "execution_count": 119,
   "metadata": {
    "id": "p53XkcQkmyJf"
   },
   "outputs": [],
   "source": [
    "import numpy as np\n",
    "import pandas as pd\n",
    "from gym.utils import seeding\n",
    "import gym\n",
    "from gym import spaces\n",
    "import matplotlib\n",
    "matplotlib.use('Agg')\n",
    "import matplotlib.pyplot as plt\n",
    "from stable_baselines3.common.vec_env import DummyVecEnv\n",
    "\n",
    "class StockPortfolioEnv(gym.Env):\n",
    "    \"\"\"A single stock trading environment for OpenAI gym\n",
    "\n",
    "    Attributes\n",
    "    ----------\n",
    "        df: DataFrame\n",
    "            input data\n",
    "        stock_dim : int\n",
    "            number of unique stocks\n",
    "        hmax : int\n",
    "            maximum number of shares to trade\n",
    "        initial_amount : int\n",
    "            start money\n",
    "        transaction_cost_pct: float\n",
    "            transaction cost percentage per trade\n",
    "        reward_scaling: float\n",
    "            scaling factor for reward, good for training\n",
    "        state_space: int\n",
    "            the dimension of input features\n",
    "        action_space: int\n",
    "            equals stock dimension\n",
    "        tech_indicator_list: list\n",
    "            a list of technical indicator names\n",
    "        turbulence_threshold: int\n",
    "            a threshold to control risk aversion\n",
    "        day: int\n",
    "            an increment number to control date\n",
    "\n",
    "    Methods\n",
    "    -------\n",
    "    _sell_stock()\n",
    "        perform sell action based on the sign of the action\n",
    "    _buy_stock()\n",
    "        perform buy action based on the sign of the action\n",
    "    step()\n",
    "        at each step the agent will return actions, then \n",
    "        we will calculate the reward, and return the next observation.\n",
    "    reset()\n",
    "        reset the environment\n",
    "    render()\n",
    "        use render to return other functions\n",
    "    save_asset_memory()\n",
    "        return account value at each time step\n",
    "    save_action_memory()\n",
    "        return actions/positions at each time step\n",
    "        \n",
    "\n",
    "    \"\"\"\n",
    "    metadata = {'render.modes': ['human']}\n",
    "\n",
    "    def __init__(self, \n",
    "                df,\n",
    "                stock_dim,\n",
    "                hmax,\n",
    "                initial_amount,\n",
    "                transaction_cost_pct,\n",
    "                reward_scaling,\n",
    "                state_space,\n",
    "                action_space,\n",
    "                tech_indicator_list,\n",
    "                turbulence_threshold=None,\n",
    "                lookback=252,\n",
    "                day = 0):\n",
    "        #super(StockEnv, self).__init__()\n",
    "        #money = 10 , scope = 1\n",
    "        self.day = day\n",
    "        self.lookback=lookback\n",
    "        self.df = df\n",
    "        self.stock_dim = stock_dim\n",
    "        self.hmax = hmax\n",
    "        self.initial_amount = initial_amount\n",
    "        self.transaction_cost_pct =transaction_cost_pct\n",
    "        self.reward_scaling = reward_scaling\n",
    "        self.state_space = state_space\n",
    "        self.action_space = action_space\n",
    "        self.tech_indicator_list = tech_indicator_list\n",
    "\n",
    "        # action_space normalization and shape is self.stock_dim\n",
    "        self.action_space = spaces.Box(low = 0, high = 1,shape = (self.action_space,)) \n",
    "        # Shape = (34, 30)\n",
    "        # covariance matrix + technical indicators\n",
    "        self.observation_space = spaces.Box(low=-np.inf, high=np.inf, shape = (self.state_space+len(self.tech_indicator_list),self.state_space))\n",
    "\n",
    "        # load data from a pandas dataframe\n",
    "        self.data = self.df.loc[self.day,:]\n",
    "        self.covs = self.data['cov_list'].values[0]\n",
    "        self.state =  np.append(np.array(self.covs), [self.data[tech].values.tolist() for tech in self.tech_indicator_list ], axis=0)\n",
    "        self.terminal = False     \n",
    "        self.turbulence_threshold = turbulence_threshold        \n",
    "        # initalize state: inital portfolio return + individual stock return + individual weights\n",
    "        self.portfolio_value = self.initial_amount\n",
    "\n",
    "        # memorize portfolio value each step\n",
    "        self.asset_memory = [self.initial_amount]\n",
    "        # memorize portfolio return each step\n",
    "        self.portfolio_return_memory = [0]\n",
    "        self.actions_memory=[[1/self.stock_dim]*self.stock_dim]\n",
    "        self.date_memory=[self.data.date.unique()[0]]\n",
    "\n",
    "        \n",
    "    def step(self, actions):\n",
    "        # print(self.day)\n",
    "        self.terminal = self.day >= len(self.df.index.unique())-1\n",
    "        # print(actions)\n",
    "\n",
    "        if self.terminal:\n",
    "            df = pd.DataFrame(self.portfolio_return_memory)\n",
    "            df.columns = ['daily_return']\n",
    "            plt.plot(df.daily_return.cumsum(),'r')\n",
    "            plt.savefig('results/cumulative_reward.png')\n",
    "            plt.close()\n",
    "            \n",
    "            plt.plot(self.portfolio_return_memory,'r')\n",
    "            plt.savefig('results/rewards.png')\n",
    "            plt.close()\n",
    "\n",
    "            print(\"=================================\")\n",
    "            print(\"begin_total_asset:{}\".format(self.asset_memory[0]))           \n",
    "            print(\"end_total_asset:{}\".format(self.portfolio_value))\n",
    "\n",
    "            df_daily_return = pd.DataFrame(self.portfolio_return_memory)\n",
    "            df_daily_return.columns = ['daily_return']\n",
    "            if df_daily_return['daily_return'].std() !=0:\n",
    "              sharpe = (252**0.5)*df_daily_return['daily_return'].mean()/ \\\n",
    "                       df_daily_return['daily_return'].std()\n",
    "              print(\"Sharpe: \",sharpe)\n",
    "            print(\"=================================\")\n",
    "            \n",
    "            return self.state, self.reward, self.terminal,{}\n",
    "\n",
    "        else:\n",
    "            #print(\"Model actions: \",actions)\n",
    "            # actions are the portfolio weight\n",
    "            # normalize to sum of 1\n",
    "            #if (np.array(actions) - np.array(actions).min()).sum() != 0:\n",
    "            #  norm_actions = (np.array(actions) - np.array(actions).min()) / (np.array(actions) - np.array(actions).min()).sum()\n",
    "            #else:\n",
    "            #  norm_actions = actions\n",
    "            weights = self.softmax_normalization(actions) \n",
    "            #print(\"Normalized actions: \", weights)\n",
    "            self.actions_memory.append(weights)\n",
    "            last_day_memory = self.data\n",
    "\n",
    "            #load next state\n",
    "            self.day += 1\n",
    "            self.data = self.df.loc[self.day,:]\n",
    "            self.covs = self.data['cov_list'].values[0]\n",
    "            self.state =  np.append(np.array(self.covs), [self.data[tech].values.tolist() for tech in self.tech_indicator_list ], axis=0)\n",
    "            #print(self.state)\n",
    "            # calcualte portfolio return\n",
    "            # individual stocks' return * weight\n",
    "            portfolio_return = sum(((self.data.close.values / last_day_memory.close.values)-1)*weights)\n",
    "            # update portfolio value\n",
    "            new_portfolio_value = self.portfolio_value*(1+portfolio_return)\n",
    "            self.portfolio_value = new_portfolio_value\n",
    "\n",
    "            # save into memory\n",
    "            self.portfolio_return_memory.append(portfolio_return)\n",
    "            self.date_memory.append(self.data.date.unique()[0])            \n",
    "            self.asset_memory.append(new_portfolio_value)\n",
    "\n",
    "            # the reward is the new portfolio value or end portfolo value\n",
    "            self.reward = new_portfolio_value \n",
    "            #print(\"Step reward: \", self.reward)\n",
    "            #self.reward = self.reward*self.reward_scaling\n",
    "\n",
    "        return self.state, self.reward, self.terminal, {}\n",
    "\n",
    "    def reset(self):\n",
    "        self.asset_memory = [self.initial_amount]\n",
    "        self.day = 0\n",
    "        self.data = self.df.loc[self.day,:]\n",
    "        # load states\n",
    "        self.covs = self.data['cov_list'].values[0]\n",
    "        self.state =  np.append(np.array(self.covs), [self.data[tech].values.tolist() for tech in self.tech_indicator_list ], axis=0)\n",
    "        self.portfolio_value = self.initial_amount\n",
    "        #self.cost = 0\n",
    "        #self.trades = 0\n",
    "        self.terminal = False \n",
    "        self.portfolio_return_memory = [0]\n",
    "        self.actions_memory=[[1/self.stock_dim]*self.stock_dim]\n",
    "        self.date_memory=[self.data.date.unique()[0]] \n",
    "        return self.state\n",
    "    \n",
    "    def render(self, mode='human'):\n",
    "        return self.state\n",
    "        \n",
    "    def softmax_normalization(self, actions):\n",
    "        numerator = np.exp(actions)\n",
    "        denominator = np.sum(np.exp(actions))\n",
    "        softmax_output = numerator/denominator\n",
    "        return softmax_output\n",
    "\n",
    "    \n",
    "    def save_asset_memory(self):\n",
    "        date_list = self.date_memory\n",
    "        portfolio_return = self.portfolio_return_memory\n",
    "        #print(len(date_list))\n",
    "        #print(len(asset_list))\n",
    "        df_account_value = pd.DataFrame({'date':date_list,'daily_return':portfolio_return})\n",
    "        return df_account_value\n",
    "\n",
    "    def save_action_memory(self):\n",
    "        # date and close price length must match actions length\n",
    "        date_list = self.date_memory\n",
    "        df_date = pd.DataFrame(date_list)\n",
    "        df_date.columns = ['date']\n",
    "        \n",
    "        action_list = self.actions_memory\n",
    "        df_actions = pd.DataFrame(action_list)\n",
    "        df_actions.columns = self.data.tic.values\n",
    "        df_actions.index = df_date.date\n",
    "        #df_actions = pd.DataFrame({'date':date_list,'actions':action_list})\n",
    "        return df_actions\n",
    "\n",
    "    def _seed(self, seed=None):\n",
    "        self.np_random, seed = seeding.np_random(seed)\n",
    "        return [seed]\n",
    "\n",
    "    def get_sb_env(self):\n",
    "        e = DummyVecEnv([lambda: self])\n",
    "        obs = e.reset()\n",
    "        return e, obs"
   ]
  }
 ],
 "metadata": {
  "colab": {
   "collapsed_sections": [],
   "name": "thesis3.ipynb",
   "private_outputs": true,
   "provenance": [],
   "toc_visible": true
  },
  "kernelspec": {
   "display_name": "Python 3",
   "language": "python",
   "name": "python3"
  },
  "language_info": {
   "codemirror_mode": {
    "name": "ipython",
    "version": 3
   },
   "file_extension": ".py",
   "mimetype": "text/x-python",
   "name": "python",
   "nbconvert_exporter": "python",
   "pygments_lexer": "ipython3",
   "version": "3.8.2"
  }
 },
 "nbformat": 4,
 "nbformat_minor": 4
}
